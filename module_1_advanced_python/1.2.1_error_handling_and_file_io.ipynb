{
 "cells": [
  {
   "cell_type": "markdown",
   "id": "36cbafed-a982-4146-b6ae-04f37ec89d1f",
   "metadata": {},
   "source": [
    "## **1. Exception Handling (try, except, else, finally)**\n",
    "An exception is an error that happens during the execution of a program. If not handled, it will crash your script. Exception handling allows you to gracefully manage these errors.\n",
    "- **try:** The block of code where you expect an error might occur.\n",
    "- **except:** The block of code that runs if an error does occur in the try block. You can specify the type of exception to catch.\n",
    "- **else: (Optional)** The block of code that runs if no error occurs in the try block.\n",
    "- **finally: (Optional)** This block of code runs no matter what, whether an error occurred or not. It's often used for cleanup operations (like closing a file)."
   ]
  },
  {
   "cell_type": "code",
   "execution_count": 2,
   "id": "c6a1bf6d-b992-4459-acde-9f9cf8967973",
   "metadata": {},
   "outputs": [
    {
     "name": "stdout",
     "output_type": "stream",
     "text": [
      "Error: You cannot divide by zero!\n"
     ]
    },
    {
     "name": "stdin",
     "output_type": "stream",
     "text": [
      "Enter a number:  25\n"
     ]
    },
    {
     "name": "stdout",
     "output_type": "stream",
     "text": [
      "Success! The result is 4.0\n",
      "Execution finished.\n",
      "Age set to 25\n",
      "Error while setting age: Age cannot be negative.\n"
     ]
    }
   ],
   "source": [
    "# Example 1: Catching a specific error\n",
    "try:\n",
    "    result = 10 / 0\n",
    "except ZeroDivisionError:\n",
    "    print(\"Error: You cannot divide by zero!\")\n",
    "\n",
    "# Example 2: Catching multiple errors and using else/finally\n",
    "try:\n",
    "    num = int(input(\"Enter a number: \")) # Potential ValueError\n",
    "    result = 100 / num                 # Potential ZeroDivisionError\n",
    "except ValueError:\n",
    "    print(\"That was not a valid number. Please enter an integer.\")\n",
    "except ZeroDivisionError:\n",
    "    print(\"You cannot enter 0.\")\n",
    "except Exception as e: # Catch any other unexpected error\n",
    "    print(f\"An unexpected error occurred: {e}\")\n",
    "    print(f\"Error type: {type(e)}\")\n",
    "else:\n",
    "    # This runs only if the try block completes successfully\n",
    "    print(f\"Success! The result is {result}\")\n",
    "finally:\n",
    "    # This runs always, perfect for cleanup\n",
    "    print(\"Execution finished.\")\n",
    "\n",
    "# Raising an Exception\n",
    "# You can also manually trigger an exception using the 'raise' keyword.\n",
    "def set_age(age):\n",
    "    if age < 0:\n",
    "        raise ValueError(\"Age cannot be negative.\")\n",
    "    print(f\"Age set to {age}\")\n",
    "\n",
    "try:\n",
    "    set_age(25)\n",
    "    set_age(-5)\n",
    "except ValueError as e:\n",
    "    print(f\"Error while setting age: {e}\")"
   ]
  },
  {
   "cell_type": "markdown",
   "id": "49844f9d-361d-462b-9b70-f8f66faab199",
   "metadata": {},
   "source": [
    "## **2. File Handling (Working with Text Files)**\n",
    "- **open() function:** The primary way to interact with files. open(file_path, mode).\n",
    "- Modes:\n",
    "    - **'r':** Read (default). Error if file doesn't exist.\n",
    "    - **'w':** Write. Creates the file if it doesn't exist. Overwrites the entire file if it exists.\n",
    "    - **'a':** Append. Creates the file if it doesn't exist. Adds content to the end of the file.\n",
    "    - **'r+':** Read and write.\n",
    "- **Context Manager (with statement):** The best practice for file handling. It automatically closes the file for you, even if errors occur."
   ]
  },
  {
   "cell_type": "code",
   "execution_count": 3,
   "id": "2b062473-8a22-4023-ae1c-1a496239eea3",
   "metadata": {},
   "outputs": [
    {
     "name": "stdout",
     "output_type": "stream",
     "text": [
      "--- Reading entire file at once ---\n",
      "Hello, this is the first line.\n",
      "This is the second line.\n",
      "This line was appended.\n",
      "\n",
      "\n",
      "--- Reading file line by line ---\n",
      "Hello, this is the first line.\n",
      "This is the second line.\n",
      "This line was appended.\n",
      "\n",
      "--- Reading all lines into a list ---\n",
      "['Hello, this is the first line.\\n', 'This is the second line.\\n', 'This line was appended.\\n']\n"
     ]
    }
   ],
   "source": [
    "# Writing to a file (will create or overwrite 'my_file.txt')\n",
    "with open(\"my_file.txt\", \"w\") as f:\n",
    "    f.write(\"Hello, this is the first line.\\n\")\n",
    "    f.write(\"This is the second line.\\n\")\n",
    "\n",
    "# Appending to a file\n",
    "with open(\"my_file.txt\", \"a\") as f:\n",
    "    f.write(\"This line was appended.\\n\")\n",
    "\n",
    "# Reading from a file\n",
    "print(\"--- Reading entire file at once ---\")\n",
    "with open(\"my_file.txt\", \"r\") as f:\n",
    "    content = f.read()\n",
    "    print(content)\n",
    "\n",
    "print(\"\\n--- Reading file line by line ---\")\n",
    "with open(\"my_file.txt\", \"r\") as f:\n",
    "    for line in f:\n",
    "        # .strip() removes leading/trailing whitespace, including the newline char\n",
    "        print(line.strip())\n",
    "\n",
    "print(\"\\n--- Reading all lines into a list ---\")\n",
    "with open(\"my_file.txt\", \"r\") as f:\n",
    "    lines_list = f.readlines()\n",
    "    print(lines_list)"
   ]
  },
  {
   "cell_type": "markdown",
   "id": "250f66d5-bb2a-47ed-a392-a36991c53d34",
   "metadata": {},
   "source": [
    "## **3. Working with JSON Files**\n",
    "**JSON (JavaScript Object Notation)** is a lightweight, human-readable data-interchange format. It's the standard for APIs and configuration files. It maps very closely to Python dictionaries.\n",
    "- **json module:** Python's built-in module for working with JSON.\n",
    "- **json.dump(python_dict, file_object):** Writes a Python dictionary to a file in JSON format.\n",
    "- **json.load(file_object):** Reads a JSON file and parses it into a Python dictionary.\n",
    "- **json.dumps(python_dict):** Converts a Python dictionary to a JSON formatted string.\n",
    "- **json.loads(json_string):** Parses a JSON formatted string into a Python dictionary."
   ]
  },
  {
   "cell_type": "code",
   "execution_count": 4,
   "id": "b3ddb8f7-5fd0-4d58-b158-4952a22222b7",
   "metadata": {},
   "outputs": [
    {
     "name": "stdout",
     "output_type": "stream",
     "text": [
      "profile.json file created.\n",
      "\n",
      "--- Loaded Profile from JSON ---\n",
      "{'name': 'John Doe', 'age': 30, 'isStudent': False, 'courses': [{'title': 'History', 'credits': 3}, {'title': 'Math', 'credits': 4}], 'address': None}\n",
      "Name from loaded data: John Doe\n",
      "First course title: History\n"
     ]
    }
   ],
   "source": [
    "import json\n",
    "\n",
    "# Python dictionary\n",
    "user_profile = {\n",
    "    \"name\": \"John Doe\",\n",
    "    \"age\": 30,\n",
    "    \"isStudent\": False,\n",
    "    \"courses\": [\n",
    "        {\"title\": \"History\", \"credits\": 3},\n",
    "        {\"title\": \"Math\", \"credits\": 4}\n",
    "    ],\n",
    "    \"address\": None\n",
    "}\n",
    "\n",
    "# Write Python dictionary to a JSON file\n",
    "with open(\"profile.json\", \"w\") as f:\n",
    "    json.dump(user_profile, f, indent=4) # indent=4 makes it human-readable\n",
    "\n",
    "print(\"profile.json file created.\")\n",
    "\n",
    "# Read from a JSON file back into a Python dictionary\n",
    "with open(\"profile.json\", \"r\") as f:\n",
    "    loaded_profile = json.load(f)\n",
    "\n",
    "print(\"\\n--- Loaded Profile from JSON ---\")\n",
    "print(loaded_profile)\n",
    "print(f\"Name from loaded data: {loaded_profile['name']}\")\n",
    "print(f\"First course title: {loaded_profile['courses'][0]['title']}\")"
   ]
  },
  {
   "cell_type": "markdown",
   "id": "9c169633-60f6-4c3a-9b35-0b2eb553b8fc",
   "metadata": {},
   "source": [
    "## **4. Working with Pickle Files**\n",
    "Pickle is a Python-specific binary serialization format. It can serialize almost any Python object (lists, dicts, custom objects), unlike JSON which is limited to more basic types.\n",
    "- **Use Case:** Saving the state of your program, like a trained machine learning model from Scikit-learn.\n",
    "- **Warning:** Pickle is not secure. Only unpickle data that you trust.\n",
    "- **Mode:** Must be opened in binary mode ('wb' for write binary, 'rb' for read binary)."
   ]
  },
  {
   "cell_type": "code",
   "execution_count": 5,
   "id": "c161a7c5-155e-4a31-a423-542ad1d6888e",
   "metadata": {},
   "outputs": [
    {
     "name": "stdout",
     "output_type": "stream",
     "text": [
      "\n",
      "data.pkl file created.\n",
      "\n",
      "--- Loaded Data from Pickle ---\n",
      "{'users': {'alice', 'charlie', 'bob'}, 'scores': [10, 25, 15], 'is_active': True}\n",
      "Users from loaded data: {'alice', 'charlie', 'bob'}\n"
     ]
    }
   ],
   "source": [
    "import pickle\n",
    "\n",
    "# Let's save a complex Python object (a dictionary with a set)\n",
    "data_to_save = {\n",
    "    'users': {'alice', 'bob', 'charlie'},\n",
    "    'scores': [10, 25, 15],\n",
    "    'is_active': True\n",
    "}\n",
    "\n",
    "# Save the object to a pickle file\n",
    "with open(\"data.pkl\", \"wb\") as f:\n",
    "    pickle.dump(data_to_save, f)\n",
    "\n",
    "print(\"\\ndata.pkl file created.\")\n",
    "\n",
    "# Load the object back from the pickle file\n",
    "with open(\"data.pkl\", \"rb\") as f:\n",
    "    loaded_data = pickle.load(f)\n",
    "\n",
    "print(\"\\n--- Loaded Data from Pickle ---\")\n",
    "print(loaded_data)\n",
    "print(f\"Users from loaded data: {loaded_data['users']}\")"
   ]
  },
  {
   "cell_type": "markdown",
   "id": "be41027a-9066-4083-8b25-9bbce69b65da",
   "metadata": {},
   "source": [
    "## **Exercises**"
   ]
  },
  {
   "cell_type": "markdown",
   "id": "ad12f2f9-fe0a-48ad-8034-f1c4e7355790",
   "metadata": {},
   "source": [
    "**1. Robust Division Calculator:**\n",
    "- Write a function safe_divide(numerator, denominator) that attempts to perform numerator / denominator.\n",
    "- The function should use a try...except block to handle both ZeroDivisionError and TypeError (e.g., if inputs are not numbers).\n",
    "- If division is successful, it should return the result.\n",
    "- If a ZeroDivisionError occurs, it should return a specific string like \"Error: Cannot divide by zero.\"\n",
    "- If a TypeError occurs, it should return \"Error: Both inputs must be numbers.\"\n",
    "- Test your function with valid numbers, a division by zero, and non-numeric inputs."
   ]
  },
  {
   "cell_type": "code",
   "execution_count": 35,
   "id": "0737bb66-1580-4594-ab79-c38cf2f3a45f",
   "metadata": {},
   "outputs": [
    {
     "name": "stdout",
     "output_type": "stream",
     "text": [
      "--------------- Division Calculator ---------------\n",
      "\n",
      "Error: Cannot divide by zero.\n",
      "Execution finished!\n",
      "\n",
      "Error: Both inputs must be numbers.\n",
      "Execution finished!\n",
      "\n",
      "Success! 57 / 19 = 3.0\n",
      "Execution finished!\n"
     ]
    }
   ],
   "source": [
    "print(\"--------------- Division Calculator ---------------\")\n",
    "def safe_devide(numarator, denominator):\n",
    "    \"\"\"\n",
    "    Safely divides two numbers, handling common errors.\n",
    "    \"\"\"\n",
    "    \n",
    "    try:\n",
    "        result = numarator/ denominator\n",
    "    except ZeroDivisionError:\n",
    "        print(\"\\nError: Cannot divide by zero.\")\n",
    "    except TypeError:\n",
    "        print(\"\\nError: Both inputs must be numbers.\")\n",
    "    except Exception as e:\n",
    "        print(f\"\\nAn unexpected error occured: {e}\")\n",
    "        print(f\"Error Type: {type(e)}\")\n",
    "    else:\n",
    "        print(f\"\\nSuccess! {numarator} / {denominator} = {result}\")\n",
    "    finally:\n",
    "        print(\"Execution finished!\")\n",
    "\n",
    "safe_devide(57,0)\n",
    "safe_devide(\"57\",19)\n",
    "safe_devide(57,19)\n"
   ]
  },
  {
   "cell_type": "markdown",
   "id": "f382b16c-b1a1-4554-b210-1a63d9112c40",
   "metadata": {},
   "source": [
    "**2. Configuration Manager (JSON):**\n",
    "- Create a Python dictionary with some configuration settings, e.g., config = {\"ip_address\": \"127.0.0.1\", \"port\": 8080, \"username\": \"admin\"}.\n",
    "- Write this dictionary to a JSON file named config.json.\n",
    "- Write a separate piece of code that reads config.json and prints a message like \"Connecting to {ip_address} on port {port}...\".\n",
    "- "
   ]
  },
  {
   "cell_type": "code",
   "execution_count": 26,
   "id": "67862d6e-8fd1-4eb0-b16a-0d91c7b34dfc",
   "metadata": {},
   "outputs": [
    {
     "name": "stdout",
     "output_type": "stream",
     "text": [
      "config.json file is created\n",
      "\n",
      "--- Loaded Config from JSON ---\n",
      "Connecting to 127.0.0.1 on port 8080 using username admin\n"
     ]
    }
   ],
   "source": [
    "import json\n",
    "\n",
    "config = {\"ip_address\": \"127.0.0.1\", \"port\": 8080, \"username\": \"admin\"}\n",
    "with open(\"config.json\", \"w\") as f:\n",
    "    json.dump(config, f, indent = 4)\n",
    "print(\"config.json file is created\")\n",
    "\n",
    "try:\n",
    "    with open(\"config.json\", \"r\") as f:\n",
    "        loaded_config = json.load(f)\n",
    "except FileNotFoundError:\n",
    "    print(\"Configuration file not found. Using default settings.\")\n",
    "else:\n",
    "    ip_address = loaded_config.get(\"ip_address\", \"N/A\")\n",
    "    port = loaded_config.get(\"port\", \"N/A\")\n",
    "    username = loaded_config.get(\"username\", \"N/A\")\n",
    "\n",
    "    print(\"\\n--- Loaded Config from JSON ---\")\n",
    "    print(f\"Connecting to {ip_address} on port {port} using username {username}\")\n"
   ]
  },
  {
   "cell_type": "markdown",
   "id": "d7d5299f-3efd-4722-b61d-d29d31258df1",
   "metadata": {},
   "source": [
    "**3. Saving and Loading a List (Pickle):**\n",
    "- Create a list of your favorite movies from a previous exercise.\n",
    "- Save this list to a file named movies.pkl using the pickle module.\n",
    "- In a new cell, load the list back from movies.pkl into a new variable.\n",
    "- Print the new variable to confirm it's identical to the original list."
   ]
  },
  {
   "cell_type": "code",
   "execution_count": 32,
   "id": "7c5998a7-c158-43e8-b98e-26f853bc1a92",
   "metadata": {},
   "outputs": [
    {
     "name": "stdout",
     "output_type": "stream",
     "text": [
      "\n",
      "movies.pkl file created.\n",
      "\n",
      "--- Original Movies from List ---\n",
      "['Iron Man', 'Avengers Infinity War', 'Hera Pheri', 'Hera Pheri 2', 'Dr. Strange']\n",
      "\n",
      "--- Loaded Movies from Pickle ---\n",
      "['Iron Man', 'Avengers Infinity War', 'Hera Pheri', 'Hera Pheri 2', 'Dr. Strange']\n"
     ]
    }
   ],
   "source": [
    "import pickle\n",
    "\n",
    "fav_movies = [\"Iron Man\", \"Avengers Infinity War\", \"Hera Pheri\", \"Hera Pheri 2\", \"Dr. Strange\"]\n",
    "with open(\"movies.pkl\", \"wb\") as f:\n",
    "    pickle.dump(fav_movies, f)\n",
    "print(\"\\nmovies.pkl file created.\")\n",
    "\n",
    "with open(\"movies.pkl\", \"rb\") as f:\n",
    "    loaded_movies = pickle.load(f)\n",
    "\n",
    "print(\"\\n--- Original Movies from List ---\")\n",
    "print(fav_movies)\n",
    "\n",
    "print(\"\\n--- Loaded Movies from Pickle ---\")\n",
    "print(loaded_movies)"
   ]
  },
  {
   "cell_type": "code",
   "execution_count": null,
   "id": "da292f1c-145a-4e6e-82e2-8bfcc6def7f1",
   "metadata": {},
   "outputs": [],
   "source": []
  }
 ],
 "metadata": {
  "kernelspec": {
   "display_name": "Python 3 (ipykernel)",
   "language": "python",
   "name": "python3"
  },
  "language_info": {
   "codemirror_mode": {
    "name": "ipython",
    "version": 3
   },
   "file_extension": ".py",
   "mimetype": "text/x-python",
   "name": "python",
   "nbconvert_exporter": "python",
   "pygments_lexer": "ipython3",
   "version": "3.11.9"
  }
 },
 "nbformat": 4,
 "nbformat_minor": 5
}

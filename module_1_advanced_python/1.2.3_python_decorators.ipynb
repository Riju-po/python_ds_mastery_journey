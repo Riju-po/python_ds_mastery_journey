{
 "cells": [
  {
   "cell_type": "markdown",
   "id": "5021c160-28fe-4843-b81b-11195aa02d95",
   "metadata": {},
   "source": [
    "## **1. The Foundation: Functions are First-Class Objects**\n",
    "In Python, functions are \"first-class citizens.\" This means you can treat them like any other variable:\n",
    "- You can assign a function to a variable.\n",
    "- You can pass a function as an argument to another function.\n",
    "- You can return a function from another function."
   ]
  },
  {
   "cell_type": "code",
   "execution_count": 1,
   "id": "306be5d7-a915-4393-bcb4-26ae5772d890",
   "metadata": {},
   "outputs": [
    {
     "name": "stdout",
     "output_type": "stream",
     "text": [
      "Hello, Alice!\n",
      "Hello, Bob!\n",
      "Hello, Charlie!\n",
      "Good morning, David!\n"
     ]
    }
   ],
   "source": [
    "def say_hello(name):\n",
    "    return f\"Hello, {name}!\"\n",
    "\n",
    "# 1. Assign a function to a variable\n",
    "greet = say_hello\n",
    "print(greet(\"Alice\")) # Calls the function through the 'greet' variable\n",
    "\n",
    "# 2. Pass a function as an argument\n",
    "def process_greeting(greeter_func, person_name):\n",
    "    \"\"\"Takes a greeting function and a name, then prints the result.\"\"\"\n",
    "    print(greeter_func(person_name))\n",
    "\n",
    "process_greeting(say_hello, \"Bob\")\n",
    "process_greeting(greet, \"Charlie\")\n",
    "\n",
    "# 3. Return a function from another function\n",
    "def get_greeter(greeting_word):\n",
    "    \"\"\"Returns a customized greeting function.\"\"\"\n",
    "    def greeter_function(name):\n",
    "        return f\"{greeting_word}, {name}!\"\n",
    "    return greeter_function\n",
    "\n",
    "good_morning_greeter = get_greeter(\"Good morning\")\n",
    "print(good_morning_greeter(\"David\"))"
   ]
  },
  {
   "cell_type": "markdown",
   "id": "85217b44-45fe-4079-97c5-cd16fe117c25",
   "metadata": {},
   "source": [
    "## **2. Building a Decorator from Scratch**\n",
    "- A decorator is essentially a function that takes another function as an argument, adds some functionality (the \"decoration\"), and then returns the original function (or a modified version of it).\n",
    "- Let's create a decorator that times how long a function takes to run."
   ]
  },
  {
   "cell_type": "code",
   "execution_count": 2,
   "id": "2075bf2b-c138-45f6-904f-f73dd75db34a",
   "metadata": {},
   "outputs": [
    {
     "name": "stdout",
     "output_type": "stream",
     "text": [
      "Function 'long_running_function' executed in 0.1197 seconds.\n",
      "Result of long_running_function: 499999500000\n"
     ]
    }
   ],
   "source": [
    "import time\n",
    "\n",
    "def timer_decorator(func):\n",
    "    \"\"\"A decorator that prints the execution time of the decorated function.\"\"\"\n",
    "    def wrapper_function(*args, **kwargs):\n",
    "        # *args and **kwargs are used so the wrapper can accept any arguments\n",
    "        # that the original function 'func' might take.\n",
    "        \n",
    "        # 1. Code to execute BEFORE the original function\n",
    "        start_time = time.time()\n",
    "        \n",
    "        # 2. Call the original function\n",
    "        result = func(*args, **kwargs)\n",
    "        \n",
    "        # 3. Code to execute AFTER the original function\n",
    "        end_time = time.time()\n",
    "        execution_time = end_time - start_time\n",
    "        print(f\"Function '{func.__name__}' executed in {execution_time:.4f} seconds.\")\n",
    "        \n",
    "        # 4. Return the result of the original function\n",
    "        return result\n",
    "    \n",
    "    return wrapper_function\n",
    "\n",
    "# Now, let's decorate a function manually\n",
    "def long_running_function(n):\n",
    "    \"\"\"A function that takes some time to run.\"\"\"\n",
    "    total = 0\n",
    "    for i in range(n):\n",
    "        total += i\n",
    "    return total\n",
    "\n",
    "# Manually applying the decorator\n",
    "timed_function = timer_decorator(long_running_function)\n",
    "\n",
    "# Calling the new, \"decorated\" function\n",
    "result = timed_function(1000000)\n",
    "print(f\"Result of long_running_function: {result}\")"
   ]
  },
  {
   "cell_type": "markdown",
   "id": "008e1b33-bd3e-47cb-a868-5e5a45db42b6",
   "metadata": {},
   "source": [
    "## **3. The @ Syntax (Syntactic Sugar)**\n",
    "The manual process above (timed_function = timer_decorator(long_running_function)) is a bit clunky. Python provides a much cleaner way to apply a decorator using the @ symbol. This is purely \"syntactic sugar\" – it does the exact same thing as the manual assignment."
   ]
  },
  {
   "cell_type": "code",
   "execution_count": 3,
   "id": "ef3972d2-0554-445a-a859-6170a2cccbbe",
   "metadata": {},
   "outputs": [
    {
     "name": "stdout",
     "output_type": "stream",
     "text": [
      "Function finished sleeping.\n",
      "Function 'another_long_running_function' executed in 2.0004 seconds.\n"
     ]
    }
   ],
   "source": [
    "# The Pythonic way to use a decorator\n",
    "@timer_decorator\n",
    "def another_long_running_function(n):\n",
    "    \"\"\"Another function that takes time.\"\"\"\n",
    "    time.sleep(n) # time.sleep() pauses execution for n seconds\n",
    "    print(\"Function finished sleeping.\")\n",
    "\n",
    "# Now when we call this function, it's automatically decorated\n",
    "another_long_running_function(2)"
   ]
  },
  {
   "cell_type": "markdown",
   "id": "996eebd5-e3ef-4fc4-beec-d58d554f2d1f",
   "metadata": {},
   "source": [
    "- The line @timer_decorator is exactly equivalent to writing another_long_running_function = timer_decorator(another_long_running_function) right after the function is defined."
   ]
  },
  {
   "cell_type": "markdown",
   "id": "dc85c8f1-bb03-44c7-afa5-bd98ceb31c3a",
   "metadata": {},
   "source": [
    "## **4. Real-World Use Cases**\n",
    "- **Logging:** Add logging statements before and after a function runs.\n",
    "- **Authentication/Authorization:** In web frameworks, a decorator can check if a user is logged in before\n",
    "allowing them to access a specific page function.\n",
    "- **Caching/Memoization:** Store the results of expensive function calls and return the cached result if the same inputs occur again.\n",
    "- **Timing/Performance Measurement:** As we just did.\n",
    "- **Data Validation:** A decorator could check if the arguments passed to a function are of the correct type or value."
   ]
  },
  {
   "cell_type": "code",
   "execution_count": 4,
   "id": "ab5f1e15-ca8f-4625-aa7f-6208fdb1f007",
   "metadata": {},
   "outputs": [
    {
     "name": "stdout",
     "output_type": "stream",
     "text": [
      "Calling function 'add' with args: (5, 3), kwargs: {}\n",
      "Function 'add' returned: 8\n",
      "Calling function 'subtract' with args: (10, 4), kwargs: {}\n",
      "Function 'subtract' returned: 6\n",
      "Function 'wrapper' executed in 1.0004 seconds.\n"
     ]
    },
    {
     "data": {
      "text/plain": [
       "6"
      ]
     },
     "execution_count": 4,
     "metadata": {},
     "output_type": "execute_result"
    }
   ],
   "source": [
    "# Example: A simple logging decorator\n",
    "def log_decorator(func):\n",
    "    def wrapper(*args, **kwargs):\n",
    "        print(f\"Calling function '{func.__name__}' with args: {args}, kwargs: {kwargs}\")\n",
    "        result = func(*args, **kwargs)\n",
    "        print(f\"Function '{func.__name__}' returned: {result}\")\n",
    "        return result\n",
    "    return wrapper\n",
    "\n",
    "@log_decorator\n",
    "def add(a, b):\n",
    "    return a + b\n",
    "\n",
    "add(5, 3)\n",
    "\n",
    "# Chaining decorators\n",
    "# You can apply multiple decorators. They are applied from bottom to top.\n",
    "@timer_decorator\n",
    "@log_decorator\n",
    "def subtract(x, y):\n",
    "    time.sleep(1)\n",
    "    return x - y\n",
    "\n",
    "subtract(10, 4)\n",
    "# The output will show that log_decorator's prints are inside timer_decorator's timing."
   ]
  },
  {
   "cell_type": "markdown",
   "id": "70962bbc-74b8-463f-9b1e-317b18a52fe9",
   "metadata": {},
   "source": [
    "## **Exercises**"
   ]
  },
  {
   "cell_type": "markdown",
   "id": "f05f96d0-69e4-4980-b6c1-c086d109c27e",
   "metadata": {},
   "source": [
    "**1. debug_decorator:**\n",
    "- Create a decorator named debug_decorator.\n",
    "- This decorator should print the function's name, the arguments it was called with (`*args`, `**kwargs`), and the value it returns.\n",
    "- Apply this decorator to a simple function, like one that multiplies two numbers, and call the decorated function.\n",
    "- Example Output:\n",
    "  - `Calling multiply(a=5, b=3)\n",
    "'multiply' returned 20\n",
    "The result is: 20`"
   ]
  },
  {
   "cell_type": "code",
   "execution_count": 9,
   "id": "906e9a2b-f455-46fe-b7b9-e86b9163061b",
   "metadata": {},
   "outputs": [
    {
     "name": "stdout",
     "output_type": "stream",
     "text": [
      "Calling multiply with args: (), kwargs: {'a': 5, 'b': 3}\n",
      "'multiply' returned: 15\n",
      "The final result is: 15\n"
     ]
    }
   ],
   "source": [
    "def debug_decorator(func):\n",
    "    def wrapper(*args, **kwargs):\n",
    "        # Show what function is being called and with what inputs\n",
    "        print(f\"Calling {func.__name__} with args: {args}, kwargs: {kwargs}\")\n",
    "\n",
    "        result = func(*args, **kwargs)\n",
    "\n",
    "        print(f\"'{func.__name__}' returned: {result}\")\n",
    "        return result\n",
    "    return wrapper\n",
    "\n",
    "@debug_decorator\n",
    "def multiply(a, b):\n",
    "    return a * b\n",
    "    \n",
    "output = multiply(a=5, b=3)\n",
    "print(f\"The final result is: {output}\")"
   ]
  },
  {
   "cell_type": "markdown",
   "id": "73dc14a3-7ed3-4813-abea-61668f5ac513",
   "metadata": {},
   "source": [
    "**2. admin_only Decorator (Simulated):**\n",
    "- This exercise simulates a web framework's authorization check.\n",
    "-  Create a global variable user = {\"username\": \"Riju\", \"role\": \"guest\"}.\n",
    "- Write a decorator named admin_only.\n",
    "- Inside the decorator's wrapper function, check if the global user dictionary has a role of \"admin\".\n",
    "- If the role is \"admin\", execute the original function and return its result.\n",
    "- If the role is not \"admin\", print an \"Access Denied: Admins only.\" message and do not run the original function (you can return None or an error message).\n",
    "- Create a function show_secret_data() that prints \"This is top secret data!\".\n",
    "- Decorate show_secret_data() with @admin_only.\n",
    "- Call show_secret_data(). Then, change the global user's role to \"admin\" and call it again to see the difference."
   ]
  },
  {
   "cell_type": "code",
   "execution_count": 10,
   "id": "7d1d06ab-c189-47c1-832b-ba2fcaa46d20",
   "metadata": {},
   "outputs": [
    {
     "name": "stdout",
     "output_type": "stream",
     "text": [
      "--- Attempt 1: User is 'guest' ---\n",
      "Access Denied: Admins only. Current user 'Riju' has role 'guest'.\n",
      "\n",
      "--- Changing user role to 'admin' ---\n",
      "\n",
      "--- Attempt 2: User is 'admin' ---\n",
      "User 'Riju' (admin) has access. Running 'show_secret_data'...\n",
      "This is top secret data!\n",
      "\n",
      "--- Final User Role ---\n",
      "{'username': 'Riju', 'role': 'admin'}\n"
     ]
    }
   ],
   "source": [
    "user = {\"username\": \"Riju\", \"role\": \"guest\"}\n",
    "\n",
    "def admin_only(func):\n",
    "    \"\"\"\n",
    "    Decorator to restrict function access to users with 'admin' role only.\n",
    "    \"\"\"\n",
    "    def wrapper(*args, **kwargs):\n",
    "        # 2. Check if the global user's role is \"admin\"\n",
    "        if user[\"role\"] == \"admin\":\n",
    "            print(f\"User '{user['username']}' ({user['role']}) has access. Running '{func.__name__}'...\")\n",
    "            return func(*args, **kwargs)\n",
    "        else:\n",
    "            print(f\"Access Denied: Admins only. Current user '{user['username']}' has role '{user['role']}'.\")\n",
    "            return None # Or you could return an error object, raise an exception, etc.\n",
    "    return wrapper\n",
    "\n",
    "@admin_only\n",
    "def show_secret_data():\n",
    "    \"\"\"\n",
    "    A function that should only be accessible by administrators.\n",
    "    \"\"\"\n",
    "    print(\"This is top secret data!\")\n",
    "\n",
    "\n",
    "print(\"--- Attempt 1: User is 'guest' ---\")\n",
    "show_secret_data()\n",
    "\n",
    "print(\"\\n--- Changing user role to 'admin' ---\")\n",
    "user[\"role\"] = \"admin\"\n",
    "print(\"\\n--- Attempt 2: User is 'admin' ---\")\n",
    "show_secret_data()\n",
    "\n",
    "print(\"\\n--- Final User Role ---\")\n",
    "print(user)"
   ]
  },
  {
   "cell_type": "code",
   "execution_count": null,
   "id": "388c0f69-2db4-4a01-955f-1a40292d5f0e",
   "metadata": {},
   "outputs": [],
   "source": []
  }
 ],
 "metadata": {
  "kernelspec": {
   "display_name": "Python 3 (ipykernel)",
   "language": "python",
   "name": "python3"
  },
  "language_info": {
   "codemirror_mode": {
    "name": "ipython",
    "version": 3
   },
   "file_extension": ".py",
   "mimetype": "text/x-python",
   "name": "python",
   "nbconvert_exporter": "python",
   "pygments_lexer": "ipython3",
   "version": "3.11.9"
  }
 },
 "nbformat": 4,
 "nbformat_minor": 5
}

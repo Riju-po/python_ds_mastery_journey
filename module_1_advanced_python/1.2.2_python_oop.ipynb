{
 "cells": [
  {
   "cell_type": "markdown",
   "id": "71e9d9d6-db24-4722-b7a3-f50c8c7f0c52",
   "metadata": {},
   "source": [
    "## **Why is OOP so important?**\n",
    "- **Organization:** It helps structure complex programs into logical, reusable blueprints called classes.\n",
    "- **Intuition:** It allows you to model real-world things (like a \"user,\" a \"car,\" or a \"data-processing pipeline\") as objects in your code, making your programs more intuitive.\n",
    "- **Understanding Libraries:** Almost all major data science libraries (Pandas, Scikit-learn, Matplotlib) are built using OOP. A DataFrame in Pandas is an object. A LinearRegression model in Scikit-learn is an object. Understanding OOP will demystify how these libraries work and allow you to use them more effectively."
   ]
  },
  {
   "cell_type": "markdown",
   "id": "67ce1c70-528e-4a59-abe0-9a92ee1a46aa",
   "metadata": {},
   "source": [
    "## **1. Classes and Objects**\n",
    "- **Class:** A blueprint or template for creating objects. It defines a set of attributes (data) and methods (functions) that the created objects will have. Class names should use PascalCase (or CapWords) by convention (e.g., MyClassName).\n",
    "- **Object (Instance):** An instance of a class. It's a concrete thing created from the class blueprint. You can create many objects from a single class."
   ]
  },
  {
   "cell_type": "markdown",
   "id": "a69454ca-53f1-4b8f-81e2-d8a80f11f9e0",
   "metadata": {},
   "source": [
    "# Defining a simple class\n",
    "class Dog:\n",
    "    \"\"\"A simple attempt to model a dog.\"\"\"\n",
    "    pass # 'pass' is a placeholder for an empty block\n",
    "\n",
    "# Creating an object (an instance) of the Dog class\n",
    "my_dog = Dog()\n",
    "your_dog = Dog()\n",
    "\n",
    "print(my_dog)\n",
    "print(type(my_dog))"
   ]
  },
  {
   "cell_type": "markdown",
   "id": "4bb6d219-075b-4699-a455-32a7a769978a",
   "metadata": {},
   "source": [
    "## **2. The __init__() Method (The Constructor)**\n",
    "The __init__() method is a special method that Python runs automatically whenever you create a new instance of a class. It's used to initialize the object's attributes.\n",
    "- **self parameter:** The self parameter is a reference to the instance itself. It must be the first parameter of any method in a class. Python passes it automatically when you call a method on an instance. You can name it something else, but self is the universal convention."
   ]
  },
  {
   "cell_type": "code",
   "execution_count": 1,
   "id": "d3d6c55f-ee6e-4d75-83e5-22eccb5abad6",
   "metadata": {},
   "outputs": [
    {
     "name": "stdout",
     "output_type": "stream",
     "text": [
      "A new dog named Willie has been created!\n",
      "A new dog named Lucy has been created!\n",
      "My dog's name is Willie.\n",
      "Your dog's age is 3 years old.\n"
     ]
    }
   ],
   "source": [
    "class Dog:\n",
    "    \"\"\"A more detailed model of a dog.\"\"\"\n",
    "\n",
    "    def __init__(self, name, age):\n",
    "        \"\"\"Initialize the dog's name and age attributes.\"\"\"\n",
    "        # Attributes are variables attached to the instance (self)\n",
    "        self.name = name\n",
    "        self.age = age\n",
    "        print(f\"A new dog named {self.name} has been created!\")\n",
    "\n",
    "# Creating instances now requires arguments for the __init__ method\n",
    "my_dog = Dog(\"Willie\", 6)\n",
    "your_dog = Dog(\"Lucy\", 3)\n",
    "\n",
    "# Accessing attributes using dot notation\n",
    "print(f\"My dog's name is {my_dog.name}.\")\n",
    "print(f\"Your dog's age is {your_dog.age} years old.\")"
   ]
  },
  {
   "cell_type": "markdown",
   "id": "6ad20f5a-0f0a-4bf7-9dbd-97b71fca50da",
   "metadata": {},
   "source": [
    "## **3. Instance Methods**\n",
    "Methods are functions that are defined inside a class and operate on instances of that class. They always take self as their first argument."
   ]
  },
  {
   "cell_type": "code",
   "execution_count": 2,
   "id": "60c93a79-3daa-4832-94ed-8ff06ed1d7ea",
   "metadata": {},
   "outputs": [
    {
     "name": "stdout",
     "output_type": "stream",
     "text": [
      "Willie is now sitting.\n",
      "Willie rolled over!\n"
     ]
    }
   ],
   "source": [
    "class Dog:\n",
    "    def __init__(self, name, age):\n",
    "        self.name = name\n",
    "        self.age = age\n",
    "\n",
    "    def sit(self):\n",
    "        \"\"\"Simulate a dog sitting in response to a command.\"\"\"\n",
    "        print(f\"{self.name} is now sitting.\")\n",
    "\n",
    "    def roll_over(self):\n",
    "        \"\"\"Simulate a dog rolling over.\"\"\"\n",
    "        print(f\"{self.name} rolled over!\")\n",
    "\n",
    "my_dog = Dog(\"Willie\", 6)\n",
    "\n",
    "# Calling instance methods\n",
    "my_dog.sit()\n",
    "my_dog.roll_over()"
   ]
  },
  {
   "cell_type": "markdown",
   "id": "df02624b-c68e-45c9-a882-971e1e02aa5b",
   "metadata": {},
   "source": [
    "## **4. Inheritance**\n",
    "Inheritance is a way to form new classes using classes that have already been defined. The new class (the child class or subclass) inherits all the attributes and methods of the existing class (the parent class or superclass).\n",
    "- **Benefit:** Code reuse and logical hierarchy.\n",
    "- **Syntax:** class ChildClass(ParentClass):\n",
    "- **super() function:** A special function that allows the child class to call methods from its parent class. This is commonly used to call the parent's __init__() method from the child's __init__() method."
   ]
  },
  {
   "cell_type": "code",
   "execution_count": 3,
   "id": "419c231d-5bab-457e-9656-69faf779418e",
   "metadata": {},
   "outputs": [
    {
     "name": "stdout",
     "output_type": "stream",
     "text": [
      "2019 Volkswagen Beetle\n",
      "This car has 0 miles on it.\n",
      "\n",
      "---\n",
      "2024 Tesla Model S (Electric)\n",
      "This car has 0 miles on it.\n",
      "This car has a 75-kWh battery.\n"
     ]
    }
   ],
   "source": [
    "class Car:\n",
    "    \"\"\"A simple attempt to represent a car.\"\"\"\n",
    "    def __init__(self, make, model, year):\n",
    "        self.make = make\n",
    "        self.model = model\n",
    "        self.year = year\n",
    "        self.odometer_reading = 0\n",
    "\n",
    "    def get_descriptive_name(self):\n",
    "        \"\"\"Return a neatly formatted descriptive name.\"\"\"\n",
    "        return f\"{self.year} {self.make} {self.model}\"\n",
    "\n",
    "    def read_odometer(self):\n",
    "        \"\"\"Print a statement showing the car's mileage.\"\"\"\n",
    "        print(f\"This car has {self.odometer_reading} miles on it.\")\n",
    "\n",
    "# Defining a child class 'ElectricCar' that inherits from 'Car'\n",
    "class ElectricCar(Car):\n",
    "    \"\"\"Represents aspects of a car, specific to electric vehicles.\"\"\"\n",
    "    def __init__(self, make, model, year, battery_size=75):\n",
    "        \"\"\"\n",
    "        Initialize attributes of the parent class.\n",
    "        Then initialize attributes specific to an electric car.\n",
    "        \"\"\"\n",
    "        # Call the __init__ of the parent class (Car)\n",
    "        super().__init__(make, model, year)\n",
    "        # Add a new attribute specific to ElectricCar\n",
    "        self.battery_size = battery_size\n",
    "\n",
    "    def describe_battery(self):\n",
    "        \"\"\"Print a statement describing the battery size.\"\"\"\n",
    "        print(f\"This car has a {self.battery_size}-kWh battery.\")\n",
    "\n",
    "    # Overriding a method from the parent\n",
    "    # If a child class defines a method with the same name as a parent method,\n",
    "    # it overrides the parent's version.\n",
    "    def get_descriptive_name(self):\n",
    "        \"\"\"Return a custom descriptive name for the electric car.\"\"\"\n",
    "        return f\"{self.year} {self.make} {self.model} (Electric)\"\n",
    "\n",
    "\n",
    "# Create an instance of the parent class\n",
    "my_beetle = Car(\"Volkswagen\", \"Beetle\", 2019)\n",
    "print(my_beetle.get_descriptive_name())\n",
    "my_beetle.read_odometer()\n",
    "\n",
    "print(\"\\n---\")\n",
    "\n",
    "# Create an instance of the child class\n",
    "my_tesla = ElectricCar(\"Tesla\", \"Model S\", 2024)\n",
    "print(my_tesla.get_descriptive_name()) # Calls the overridden method\n",
    "my_tesla.read_odometer() # Calls the inherited method from Car\n",
    "my_tesla.describe_battery() # Calls its own specific method"
   ]
  },
  {
   "cell_type": "markdown",
   "id": "c6f58ef5-4d64-460b-a058-0dd6c290ca96",
   "metadata": {},
   "source": [
    "## **5. Special Methods (Dunder/Magic Methods)**\n",
    "Methods with double underscores at the beginning and end (e.g., __init__, __str__). They allow you to emulate the behavior of built-in types.\n",
    "- **__str__(self):** Defines the \"informal\" string representation of an object. This is what's called when you print(my_object) or str(my_object). It should be user-friendly.\n",
    "- **__repr__(self):** Defines the \"official\" or \"developer\" string representation. The goal of __repr__ is to be unambiguous; ideally, it should be a string that can be evaluated to recreate the object (eval(repr(my_object)) == my_object). If __str__ is not defined, print() will use __repr__."
   ]
  },
  {
   "cell_type": "code",
   "execution_count": 4,
   "id": "75e79ddb-3054-4aa1-989c-404ba8d67db5",
   "metadata": {},
   "outputs": [
    {
     "name": "stdout",
     "output_type": "stream",
     "text": [
      "'The Hitchhiker's Guide to the Galaxy' by Douglas Adams\n",
      "'The Hitchhiker's Guide to the Galaxy' by Douglas Adams\n",
      "Book(title='The Hitchhiker's Guide to the Galaxy', author='Douglas Adams')\n"
     ]
    }
   ],
   "source": [
    "class Book:\n",
    "    def __init__(self, title, author):\n",
    "        self.title = title\n",
    "        self.author = author\n",
    "\n",
    "    def __str__(self):\n",
    "        # User-friendly representation\n",
    "        return f\"'{self.title}' by {self.author}\"\n",
    "\n",
    "    def __repr__(self):\n",
    "        # Developer-friendly, unambiguous representation\n",
    "        return f\"Book(title='{self.title}', author='{self.author}')\"\n",
    "\n",
    "my_book = Book(\"The Hitchhiker's Guide to the Galaxy\", \"Douglas Adams\")\n",
    "\n",
    "print(my_book)  # Calls __str__\n",
    "print(str(my_book)) # Calls __str__\n",
    "print(repr(my_book)) # Calls __repr__\n",
    "\n",
    "# In an interactive session, just typing the object's name calls __repr__\n",
    "# my_book"
   ]
  },
  {
   "cell_type": "markdown",
   "id": "e67f8342-a619-41dc-9196-e3df7bc03e15",
   "metadata": {},
   "source": [
    "## **Exercises**"
   ]
  },
  {
   "cell_type": "markdown",
   "id": "3579cea5-7716-4614-bf4c-c1a8d8d213ea",
   "metadata": {},
   "source": [
    "**1. BankAccount Class:**\n",
    "- Create a class named BankAccount.\n",
    "- In the __init__ method, it should accept owner_name and an initial balance.\n",
    "- Create an __str__ method that returns a string like \"Account owner: [Owner Name], Balance: $[Balance]\".\n",
    "- Create a deposit(amount) method that adds to the balance.\n",
    "- Create a withdraw(amount) method that subtracts from the balance. It should not allow the balance to go below zero. If a withdrawal would make the balance negative, print an \"Insufficient funds!\" message and do not change the balance.\n",
    "- Create an instance of BankAccount, deposit some money, try to withdraw a valid amount, and try to withdraw an invalid amount. Print the account details after each operation."
   ]
  },
  {
   "cell_type": "code",
   "execution_count": 10,
   "id": "403923b2-3a82-4bb8-b6e2-5d947bcec4de",
   "metadata": {},
   "outputs": [
    {
     "name": "stdout",
     "output_type": "stream",
     "text": [
      "********** Account satatement of Gourav Das **********\n",
      "\n",
      "$5000 is credited to the Gourav Das's account.\n",
      "Updated balance is: $15000\n",
      "\n",
      "Insufficient funds! Withdrawal not processed.\n",
      "\n",
      "$8000 is deducted from the Gourav Das's account.\n",
      "Updated balance is: $7000\n"
     ]
    }
   ],
   "source": [
    "class BankAccount:\n",
    "    \"\"\" A simple bank account with deposit and withdrawal functionalities. \"\"\"\n",
    "    def __init__(self, owner_name, initial_balance):\n",
    "        \n",
    "        self.owner_name = owner_name\n",
    "        self.initial_balance = initial_balance\n",
    "    def __str__(self):\n",
    "        return f\"Account owner: {self.owner_name}, Balance: ${self.initial_balance}\"\n",
    "    def deposit_amount(self,deposit):\n",
    "        \"\"\" Deposits a specified amount into the account.\"\"\"\n",
    "        self.deposit = deposit\n",
    "        self.initial_balance += self.deposit\n",
    "        print(f\"********** Account satatement of {self.owner_name} **********\") \n",
    "        print(f\"\\n${self.deposit} is credited to the {self.owner_name}'s account.\\nUpdated balance is: ${self.initial_balance}\")\n",
    "        \n",
    "    def withdraw_amount(self,withdraw):\n",
    "        \"\"\" Withdraws a specified amount from the account. \"\"\"\n",
    "        self.withdraw = withdraw\n",
    "        if self.initial_balance - self.withdraw >=0:\n",
    "            self.initial_balance -= self.withdraw\n",
    "            print(f\"\\n${self.withdraw} is deducted from the {self.owner_name}'s account.\\nUpdated balance is: ${self.initial_balance}\")\n",
    "        else:\n",
    "            print(\"\\nInsufficient funds! Withdrawal not processed.\")\n",
    "            \n",
    "   \n",
    "account= BankAccount(\"Gourav Das\", 10000)\n",
    "account.deposit_amount(5000)\n",
    "account.withdraw_amount(17000)\n",
    "account.withdraw_amount(8000)"
   ]
  },
  {
   "cell_type": "markdown",
   "id": "bed81f03-0dab-4264-82cd-5489fbf953b8",
   "metadata": {},
   "source": [
    "**2. Inheritance for Student and Teacher:**\n",
    "- Create a parent class called Person with an __init__ method that takes name and age, and a display_info() method that prints the name and age.\n",
    "- Create a child class Student that inherits from Person. Its __init__ method should also take a student_id. It should call the parent's __init__ method.\n",
    "- Create a child class Teacher that inherits from Person. Its __init__ method should also take a subject they teach. It should - call the parent's __init__ method.\n",
    "- Create an instance of Student and an instance of Teacher and call their display_info() methods.\n"
   ]
  },
  {
   "cell_type": "code",
   "execution_count": 9,
   "id": "5e419488-fef0-4852-a6fd-ca31b3a8d850",
   "metadata": {},
   "outputs": [
    {
     "name": "stdout",
     "output_type": "stream",
     "text": [
      "Student Information:\n",
      "Name: Riju Das, Age: 20\n",
      "Student ID: S12345\n",
      "\n",
      "Teacher Information:\n",
      "Name: Gourav Das, Age: 27\n",
      "Subject: Mathematics\n"
     ]
    }
   ],
   "source": [
    "class Person:\n",
    "    \"\"\" _________ \"\"\"\n",
    "    def __init__(self, name, age):\n",
    "        self.name = name\n",
    "        self.age = age\n",
    "    def display_info(self):\n",
    "        print(f\"Name: {self.name}, Age: {self.age}\")\n",
    "\n",
    "class Student(Person):\n",
    "    def __init__(self, name, age, student_id):\n",
    "        super().__init__(name,age)\n",
    "        self.student_id = student_id\n",
    "    def display_info(self):\n",
    "        super().display_info()\n",
    "        print(f\"Student ID: {self.student_id}\")\n",
    "\n",
    "class Teacher(Person):\n",
    "    \"\"\"\n",
    "    A class to represent a teacher, inheriting from Person.\n",
    "    Includes the subject they teach.\n",
    "    \"\"\"\n",
    "    def __init__(self, name, age, subject):\n",
    "        # Call the parent class's __init__ method\n",
    "        super().__init__(name, age)\n",
    "        self.subject = subject\n",
    "\n",
    "    def display_info(self):\n",
    "        # Call the parent's display_info and add teacher-specific info\n",
    "        super().display_info()\n",
    "        print(f\"Subject: {self.subject}\")\n",
    "\n",
    "# Create an instance of Student\n",
    "student1 = Student(\"Riju Das\", 20, \"S12345\")\n",
    "\n",
    "# Create an instance of Teacher\n",
    "teacher1 = Teacher(\"Gourav Das\", 27, \"Mathematics\")\n",
    "\n",
    "# Call their display_info() methods\n",
    "print(\"Student Information:\")\n",
    "student1.display_info()\n",
    "print(\"\\nTeacher Information:\")\n",
    "teacher1.display_info()\n"
   ]
  },
  {
   "cell_type": "code",
   "execution_count": null,
   "id": "b2c99057-6687-441c-8929-38ae87836012",
   "metadata": {},
   "outputs": [],
   "source": []
  }
 ],
 "metadata": {
  "kernelspec": {
   "display_name": "Python 3 (ipykernel)",
   "language": "python",
   "name": "python3"
  },
  "language_info": {
   "codemirror_mode": {
    "name": "ipython",
    "version": 3
   },
   "file_extension": ".py",
   "mimetype": "text/x-python",
   "name": "python",
   "nbconvert_exporter": "python",
   "pygments_lexer": "ipython3",
   "version": "3.11.9"
  }
 },
 "nbformat": 4,
 "nbformat_minor": 5
}

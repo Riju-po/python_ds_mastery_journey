{
 "cells": [
  {
   "cell_type": "code",
   "execution_count": null,
   "id": "fe05f943-4045-4a38-8df4-d9dff5dac503",
   "metadata": {},
   "outputs": [],
   "source": [
    "# Module 0.1: Environment and Git Setup\n",
    "\n",
    "This notebook documents the initial setup for my Python & Data Science Mastery Journey.\n",
    "\n",
    "## Steps Taken:\n",
    "\n",
    "1.  Verified/Installed Git.\n",
    "2.  Created the `python_ds_mastery_journey` GitHub repository.\n",
    "3.  Cloned the repository locally.\n",
    "4.  Created the `module_0_setup` directory.\n",
    "5.  Initialized and activated a Python virtual environment (`venv_ds`).\n",
    "6.  Installed Jupyter.\n",
    "7.  Created this notebook and an initial `requirements.txt`.\n",
    "\n",
    "## Key Git Commands Used So Far (and their purpose):\n",
    "\n",
    "*   `git clone <https://github.com/Riju-po/python_ds_mastery_journey.git>`: To copy the remote repository to my local machine.\n",
    "*   *(You will add more here as you commit and push)*\n",
    "\n",
    "## Reflection on Importance:\n",
    "\n",
    "*Why is having a structured setup with version control and virtual environments crucial for a data science project?*\n",
    "(Write a few sentences reflecting on this. Think about reproducibility, collaboration, dependency management, tracking changes, etc.)"
   ]
  },
  {
   "cell_type": "code",
   "execution_count": 1,
   "id": "a18a27b0-24ca-4c92-a8d2-5582ff50c136",
   "metadata": {},
   "outputs": [
    {
     "name": "stdout",
     "output_type": "stream",
     "text": [
      "My Python & Data Science Mastery Journey has officially begun!\n",
      "Python version: 3.11.9 (tags/v3.11.9:de54cf5, Apr  2 2024, 10:12:12) [MSC v.1938 64 bit (AMD64)]\n"
     ]
    }
   ],
   "source": [
    "print(\"My Python & Data Science Mastery Journey has officially begun!\")\n",
    "import sys\n",
    "print(f\"Python version: {sys.version}\")\n",
    "# We'll add more to requirements.txt soon, but let's make sure it's tracked."
   ]
  },
  {
   "cell_type": "code",
   "execution_count": null,
   "id": "0215fafa-9628-4e19-a64b-a1688950e8fb",
   "metadata": {},
   "outputs": [],
   "source": []
  }
 ],
 "metadata": {
  "kernelspec": {
   "display_name": "Python 3 (ipykernel)",
   "language": "python",
   "name": "python3"
  },
  "language_info": {
   "codemirror_mode": {
    "name": "ipython",
    "version": 3
   },
   "file_extension": ".py",
   "mimetype": "text/x-python",
   "name": "python",
   "nbconvert_exporter": "python",
   "pygments_lexer": "ipython3",
   "version": "3.11.9"
  }
 },
 "nbformat": 4,
 "nbformat_minor": 5
}

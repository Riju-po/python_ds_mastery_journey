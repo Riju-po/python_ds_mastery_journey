{
 "cells": [
  {
   "cell_type": "markdown",
   "id": "05921014-156e-48b7-976b-146995a31d92",
   "metadata": {},
   "source": [
    "## The Core Difference: Label vs. Position\n",
    "- **.loc (LOCation):** Selects data by LABEL. This means you use the names of your index and columns. It's inclusive of the end point when slicing.\n",
    "- **.iloc (Integer LOCation):** Selects data by INTEGER POSITION. This works just like list/NumPy slicing. It's exclusive of the end point when slicing."
   ]
  },
  {
   "cell_type": "markdown",
   "id": "c248fdd4-1f89-4f0e-93d1-36ac63d22543",
   "metadata": {},
   "source": [
    "**Let's set up our DataFrame for this module.** We'll use the same sales data, but we'll set the Transaction ID as the index to better demonstrate label-based selection with .loc."
   ]
  },
  {
   "cell_type": "code",
   "execution_count": 3,
   "id": "c9586925-ced9-4785-80c0-f81a81f8381e",
   "metadata": {},
   "outputs": [
    {
     "name": "stdout",
     "output_type": "stream",
     "text": [
      "Sales DataFrame with 'Transaction ID' as index:\n"
     ]
    },
    {
     "data": {
      "text/html": [
       "<div>\n",
       "<style scoped>\n",
       "    .dataframe tbody tr th:only-of-type {\n",
       "        vertical-align: middle;\n",
       "    }\n",
       "\n",
       "    .dataframe tbody tr th {\n",
       "        vertical-align: top;\n",
       "    }\n",
       "\n",
       "    .dataframe thead th {\n",
       "        text-align: right;\n",
       "    }\n",
       "</style>\n",
       "<table border=\"1\" class=\"dataframe\">\n",
       "  <thead>\n",
       "    <tr style=\"text-align: right;\">\n",
       "      <th></th>\n",
       "      <th>Date</th>\n",
       "      <th>Product Category</th>\n",
       "      <th>Product Name</th>\n",
       "      <th>Units Sold</th>\n",
       "      <th>Unit Price</th>\n",
       "    </tr>\n",
       "    <tr>\n",
       "      <th>Transaction ID</th>\n",
       "      <th></th>\n",
       "      <th></th>\n",
       "      <th></th>\n",
       "      <th></th>\n",
       "      <th></th>\n",
       "    </tr>\n",
       "  </thead>\n",
       "  <tbody>\n",
       "    <tr>\n",
       "      <th>1001</th>\n",
       "      <td>2023-01-15</td>\n",
       "      <td>Electronics</td>\n",
       "      <td>Laptop</td>\n",
       "      <td>2</td>\n",
       "      <td>1200</td>\n",
       "    </tr>\n",
       "    <tr>\n",
       "      <th>1002</th>\n",
       "      <td>2023-01-16</td>\n",
       "      <td>Office Supplies</td>\n",
       "      <td>Pen Set</td>\n",
       "      <td>10</td>\n",
       "      <td>15</td>\n",
       "    </tr>\n",
       "    <tr>\n",
       "      <th>1003</th>\n",
       "      <td>2023-01-16</td>\n",
       "      <td>Electronics</td>\n",
       "      <td>Mouse</td>\n",
       "      <td>5</td>\n",
       "      <td>25</td>\n",
       "    </tr>\n",
       "    <tr>\n",
       "      <th>1004</th>\n",
       "      <td>2023-01-17</td>\n",
       "      <td>Home Goods</td>\n",
       "      <td>Coffee Maker</td>\n",
       "      <td>1</td>\n",
       "      <td>80</td>\n",
       "    </tr>\n",
       "    <tr>\n",
       "      <th>1005</th>\n",
       "      <td>2023-01-18</td>\n",
       "      <td>Office Supplies</td>\n",
       "      <td>Notebook</td>\n",
       "      <td>20</td>\n",
       "      <td>5</td>\n",
       "    </tr>\n",
       "    <tr>\n",
       "      <th>1006</th>\n",
       "      <td>2023-01-18</td>\n",
       "      <td>Electronics</td>\n",
       "      <td>Laptop</td>\n",
       "      <td>1</td>\n",
       "      <td>1250</td>\n",
       "    </tr>\n",
       "    <tr>\n",
       "      <th>1007</th>\n",
       "      <td>2023-01-19</td>\n",
       "      <td>Home Goods</td>\n",
       "      <td>Blender</td>\n",
       "      <td>2</td>\n",
       "      <td>50</td>\n",
       "    </tr>\n",
       "  </tbody>\n",
       "</table>\n",
       "</div>"
      ],
      "text/plain": [
       "                      Date Product Category  Product Name  Units Sold  \\\n",
       "Transaction ID                                                          \n",
       "1001            2023-01-15      Electronics        Laptop           2   \n",
       "1002            2023-01-16  Office Supplies       Pen Set          10   \n",
       "1003            2023-01-16      Electronics         Mouse           5   \n",
       "1004            2023-01-17       Home Goods  Coffee Maker           1   \n",
       "1005            2023-01-18  Office Supplies      Notebook          20   \n",
       "1006            2023-01-18      Electronics        Laptop           1   \n",
       "1007            2023-01-19       Home Goods       Blender           2   \n",
       "\n",
       "                Unit Price  \n",
       "Transaction ID              \n",
       "1001                  1200  \n",
       "1002                    15  \n",
       "1003                    25  \n",
       "1004                    80  \n",
       "1005                     5  \n",
       "1006                  1250  \n",
       "1007                    50  "
      ]
     },
     "execution_count": 3,
     "metadata": {},
     "output_type": "execute_result"
    }
   ],
   "source": [
    "import pandas as pd\n",
    "\n",
    "# Load the data and set 'Transaction ID' as the index\n",
    "sales_df = pd.read_csv(\"simple_sales.csv\", index_col=\"Transaction ID\")\n",
    "\n",
    "print(\"Sales DataFrame with 'Transaction ID' as index:\")\n",
    "sales_df"
   ]
  },
  {
   "cell_type": "markdown",
   "id": "e9b86558-75f8-4607-8689-9e4a6e81d2e1",
   "metadata": {},
   "source": [
    "## **1. Selecting Columns**\n",
    "This is the simplest selection. You can use standard square brackets [ ]."
   ]
  },
  {
   "cell_type": "code",
   "execution_count": 61,
   "id": "70d9a4b6-e729-4732-885a-73817645a4e6",
   "metadata": {},
   "outputs": [
    {
     "name": "stdout",
     "output_type": "stream",
     "text": [
      "--- Selecting the 'Product Name' column ---\n",
      "<class 'pandas.core.series.Series'>\n",
      "Transaction ID\n",
      "1001          Laptop\n",
      "1002         Pen Set\n",
      "1003           Mouse\n",
      "1004    Coffee Maker\n",
      "1005        Notebook\n",
      "1006          Laptop\n",
      "1007         Blender\n",
      "Name: Product Name, dtype: object\n",
      "\n",
      "--- Selecting 'Product Name' and 'Unit Price' columns ---\n",
      "<class 'pandas.core.frame.DataFrame'>\n",
      "                Product Name  Unit Price\n",
      "Transaction ID                          \n",
      "1001                  Laptop        1200\n",
      "1002                 Pen Set          15\n",
      "1003                   Mouse          25\n",
      "1004            Coffee Maker          80\n",
      "1005                Notebook           5\n",
      "1006                  Laptop        1250\n",
      "1007                 Blender          50\n"
     ]
    }
   ],
   "source": [
    "# Select a single column (returns a Series)\n",
    "\n",
    "product_names = sales_df['Product Name']\n",
    "print(\"--- Selecting the 'Product Name' column ---\")\n",
    "print(type(product_names))\n",
    "print(product_names)\n",
    "\n",
    "# Select multiple columns (returns a DataFrame)\n",
    "# Note the double square brackets [[]]\n",
    "# The inner list specifies which columns you want.\n",
    "\n",
    "subset = sales_df[['Product Name', 'Unit Price']]\n",
    "print(\"\\n--- Selecting 'Product Name' and 'Unit Price' columns ---\")\n",
    "print(type(subset))\n",
    "print(subset)"
   ]
  },
  {
   "cell_type": "markdown",
   "id": "5853e8d1-487e-4d10-a881-8156c21f2a62",
   "metadata": {},
   "source": [
    "## **2. Selecting Rows and Columns with .loc (Label-based)**\n",
    "- **Syntax:** df.loc[row_labels, column_labels]"
   ]
  },
  {
   "cell_type": "code",
   "execution_count": 65,
   "id": "36913a24-6d2d-4110-b7f1-190868639747",
   "metadata": {},
   "outputs": [
    {
     "name": "stdout",
     "output_type": "stream",
     "text": [
      "\n",
      "--- Selecting row with index label 1003 ---\n",
      "Date                 2023-01-16\n",
      "Product Category    Electronics\n",
      "Product Name              Mouse\n",
      "Units Sold                    5\n",
      "Unit Price                   25\n",
      "Name: 1003, dtype: object\n"
     ]
    }
   ],
   "source": [
    "# Select a single row by its index label (returns a Series)\n",
    "row_1003 = sales_df.loc[1003] # can use sales_df.loc[[1003]] for better visuals\n",
    "print(\"\\n--- Selecting row with index label 1003 ---\")\n",
    "print(row_1003)"
   ]
  },
  {
   "cell_type": "code",
   "execution_count": 59,
   "id": "7172ade0-bbec-4f67-83e6-00c66039e7f7",
   "metadata": {},
   "outputs": [
    {
     "name": "stdout",
     "output_type": "stream",
     "text": [
      "\n",
      "--- Selecting rows with labels 1002 and 1005 ---\n"
     ]
    },
    {
     "data": {
      "text/html": [
       "<div>\n",
       "<style scoped>\n",
       "    .dataframe tbody tr th:only-of-type {\n",
       "        vertical-align: middle;\n",
       "    }\n",
       "\n",
       "    .dataframe tbody tr th {\n",
       "        vertical-align: top;\n",
       "    }\n",
       "\n",
       "    .dataframe thead th {\n",
       "        text-align: right;\n",
       "    }\n",
       "</style>\n",
       "<table border=\"1\" class=\"dataframe\">\n",
       "  <thead>\n",
       "    <tr style=\"text-align: right;\">\n",
       "      <th></th>\n",
       "      <th>Date</th>\n",
       "      <th>Product Category</th>\n",
       "      <th>Product Name</th>\n",
       "      <th>Units Sold</th>\n",
       "      <th>Unit Price</th>\n",
       "    </tr>\n",
       "    <tr>\n",
       "      <th>Transaction ID</th>\n",
       "      <th></th>\n",
       "      <th></th>\n",
       "      <th></th>\n",
       "      <th></th>\n",
       "      <th></th>\n",
       "    </tr>\n",
       "  </thead>\n",
       "  <tbody>\n",
       "    <tr>\n",
       "      <th>1002</th>\n",
       "      <td>2023-01-16</td>\n",
       "      <td>Office Supplies</td>\n",
       "      <td>Pen Set</td>\n",
       "      <td>10</td>\n",
       "      <td>15</td>\n",
       "    </tr>\n",
       "    <tr>\n",
       "      <th>1005</th>\n",
       "      <td>2023-01-18</td>\n",
       "      <td>Office Supplies</td>\n",
       "      <td>Notebook</td>\n",
       "      <td>20</td>\n",
       "      <td>5</td>\n",
       "    </tr>\n",
       "  </tbody>\n",
       "</table>\n",
       "</div>"
      ],
      "text/plain": [
       "                      Date Product Category Product Name  Units Sold  \\\n",
       "Transaction ID                                                         \n",
       "1002            2023-01-16  Office Supplies      Pen Set          10   \n",
       "1005            2023-01-18  Office Supplies     Notebook          20   \n",
       "\n",
       "                Unit Price  \n",
       "Transaction ID              \n",
       "1002                    15  \n",
       "1005                     5  "
      ]
     },
     "execution_count": 59,
     "metadata": {},
     "output_type": "execute_result"
    }
   ],
   "source": [
    "# Select multiple rows by their labels\n",
    "\n",
    "rows_1002_1005 = sales_df.loc[[1002, 1005]]\n",
    "print(\"\\n--- Selecting rows with labels 1002 and 1005 ---\")\n",
    "rows_1002_1005"
   ]
  },
  {
   "cell_type": "code",
   "execution_count": 58,
   "id": "b0edf7f0-0d81-436b-b317-11a5d69d1c82",
   "metadata": {},
   "outputs": [
    {
     "name": "stdout",
     "output_type": "stream",
     "text": [
      "\n",
      "--- Slicing rows from label 1002 to 1005 (inclusive) ---\n"
     ]
    },
    {
     "data": {
      "text/html": [
       "<div>\n",
       "<style scoped>\n",
       "    .dataframe tbody tr th:only-of-type {\n",
       "        vertical-align: middle;\n",
       "    }\n",
       "\n",
       "    .dataframe tbody tr th {\n",
       "        vertical-align: top;\n",
       "    }\n",
       "\n",
       "    .dataframe thead th {\n",
       "        text-align: right;\n",
       "    }\n",
       "</style>\n",
       "<table border=\"1\" class=\"dataframe\">\n",
       "  <thead>\n",
       "    <tr style=\"text-align: right;\">\n",
       "      <th></th>\n",
       "      <th>Date</th>\n",
       "      <th>Product Category</th>\n",
       "      <th>Product Name</th>\n",
       "      <th>Units Sold</th>\n",
       "      <th>Unit Price</th>\n",
       "    </tr>\n",
       "    <tr>\n",
       "      <th>Transaction ID</th>\n",
       "      <th></th>\n",
       "      <th></th>\n",
       "      <th></th>\n",
       "      <th></th>\n",
       "      <th></th>\n",
       "    </tr>\n",
       "  </thead>\n",
       "  <tbody>\n",
       "    <tr>\n",
       "      <th>1002</th>\n",
       "      <td>2023-01-16</td>\n",
       "      <td>Office Supplies</td>\n",
       "      <td>Pen Set</td>\n",
       "      <td>10</td>\n",
       "      <td>15</td>\n",
       "    </tr>\n",
       "    <tr>\n",
       "      <th>1003</th>\n",
       "      <td>2023-01-16</td>\n",
       "      <td>Electronics</td>\n",
       "      <td>Mouse</td>\n",
       "      <td>5</td>\n",
       "      <td>25</td>\n",
       "    </tr>\n",
       "    <tr>\n",
       "      <th>1004</th>\n",
       "      <td>2023-01-17</td>\n",
       "      <td>Home Goods</td>\n",
       "      <td>Coffee Maker</td>\n",
       "      <td>1</td>\n",
       "      <td>80</td>\n",
       "    </tr>\n",
       "    <tr>\n",
       "      <th>1005</th>\n",
       "      <td>2023-01-18</td>\n",
       "      <td>Office Supplies</td>\n",
       "      <td>Notebook</td>\n",
       "      <td>20</td>\n",
       "      <td>5</td>\n",
       "    </tr>\n",
       "  </tbody>\n",
       "</table>\n",
       "</div>"
      ],
      "text/plain": [
       "                      Date Product Category  Product Name  Units Sold  \\\n",
       "Transaction ID                                                          \n",
       "1002            2023-01-16  Office Supplies       Pen Set          10   \n",
       "1003            2023-01-16      Electronics         Mouse           5   \n",
       "1004            2023-01-17       Home Goods  Coffee Maker           1   \n",
       "1005            2023-01-18  Office Supplies      Notebook          20   \n",
       "\n",
       "                Unit Price  \n",
       "Transaction ID              \n",
       "1002                    15  \n",
       "1003                    25  \n",
       "1004                    80  \n",
       "1005                     5  "
      ]
     },
     "execution_count": 58,
     "metadata": {},
     "output_type": "execute_result"
    }
   ],
   "source": [
    "# Slice rows by label. Note: .loc slicing is INCLUSIVE of the end label.\n",
    "\n",
    "row_slice = sales_df.loc[1002:1005]\n",
    "print(\"\\n--- Slicing rows from label 1002 to 1005 (inclusive) ---\")\n",
    "row_slice"
   ]
  },
  {
   "cell_type": "code",
   "execution_count": 57,
   "id": "0f661a1c-3837-40fd-ac89-03c67db11799",
   "metadata": {},
   "outputs": [
    {
     "name": "stdout",
     "output_type": "stream",
     "text": [
      "\n",
      "Unit Price for transaction 1004: 80\n"
     ]
    }
   ],
   "source": [
    "# Select rows AND columns with .loc\n",
    "# Get the 'Unit Price' for transaction 1004\n",
    "\n",
    "price_1004 = sales_df.loc[1004, 'Unit Price']\n",
    "print(f\"\\nUnit Price for transaction 1004: {price_1004}\")"
   ]
  },
  {
   "cell_type": "code",
   "execution_count": 56,
   "id": "666926dd-f400-48f6-8683-df119f0f0b62",
   "metadata": {},
   "outputs": [
    {
     "name": "stdout",
     "output_type": "stream",
     "text": [
      "\n",
      "--- Selecting specific rows and columns with .loc ---\n"
     ]
    },
    {
     "data": {
      "text/html": [
       "<div>\n",
       "<style scoped>\n",
       "    .dataframe tbody tr th:only-of-type {\n",
       "        vertical-align: middle;\n",
       "    }\n",
       "\n",
       "    .dataframe tbody tr th {\n",
       "        vertical-align: top;\n",
       "    }\n",
       "\n",
       "    .dataframe thead th {\n",
       "        text-align: right;\n",
       "    }\n",
       "</style>\n",
       "<table border=\"1\" class=\"dataframe\">\n",
       "  <thead>\n",
       "    <tr style=\"text-align: right;\">\n",
       "      <th></th>\n",
       "      <th>Product Name</th>\n",
       "      <th>Units Sold</th>\n",
       "    </tr>\n",
       "    <tr>\n",
       "      <th>Transaction ID</th>\n",
       "      <th></th>\n",
       "      <th></th>\n",
       "    </tr>\n",
       "  </thead>\n",
       "  <tbody>\n",
       "    <tr>\n",
       "      <th>1005</th>\n",
       "      <td>Notebook</td>\n",
       "      <td>20</td>\n",
       "    </tr>\n",
       "    <tr>\n",
       "      <th>1006</th>\n",
       "      <td>Laptop</td>\n",
       "      <td>1</td>\n",
       "    </tr>\n",
       "    <tr>\n",
       "      <th>1007</th>\n",
       "      <td>Blender</td>\n",
       "      <td>2</td>\n",
       "    </tr>\n",
       "  </tbody>\n",
       "</table>\n",
       "</div>"
      ],
      "text/plain": [
       "               Product Name  Units Sold\n",
       "Transaction ID                         \n",
       "1005               Notebook          20\n",
       "1006                 Laptop           1\n",
       "1007                Blender           2"
      ]
     },
     "execution_count": 56,
     "metadata": {},
     "output_type": "execute_result"
    }
   ],
   "source": [
    "# Get 'Product Name' and 'Units Sold' for transactions 1005 through 1007\n",
    "\n",
    "subset_loc = sales_df.loc[1005:1007, ['Product Name', 'Units Sold']]\n",
    "print(\"\\n--- Selecting specific rows and columns with .loc ---\")\n",
    "subset_loc"
   ]
  },
  {
   "cell_type": "markdown",
   "id": "9f9114d8-70df-4d1e-93d7-6f530bba9e13",
   "metadata": {},
   "source": [
    "## **3. Selecting Rows and Columns with .iloc (Integer Position-based)**\n",
    "- **Syntax:** df.iloc[row_positions, column_positions]"
   ]
  },
  {
   "cell_type": "code",
   "execution_count": 55,
   "id": "d7d4c7bf-ce6f-4801-9603-5b13f66482d6",
   "metadata": {},
   "outputs": [
    {
     "name": "stdout",
     "output_type": "stream",
     "text": [
      "\n",
      "--- Selecting the first row (position 0) with .iloc ---\n",
      "Date                 2023-01-15\n",
      "Product Category    Electronics\n",
      "Product Name             Laptop\n",
      "Units Sold                    2\n",
      "Unit Price                 1200\n",
      "Name: 1001, dtype: object\n"
     ]
    }
   ],
   "source": [
    "# Select the first row (at integer position 0)\n",
    "\n",
    "first_row = sales_df.iloc[0]\n",
    "print(\"\\n--- Selecting the first row (position 0) with .iloc ---\")\n",
    "print(first_row)"
   ]
  },
  {
   "cell_type": "code",
   "execution_count": 54,
   "id": "cc8fc644-bd47-46fa-a71b-c7870040e1a6",
   "metadata": {},
   "outputs": [
    {
     "name": "stdout",
     "output_type": "stream",
     "text": [
      "\n",
      "--- Selecting the last row (position -1) with .iloc ---\n"
     ]
    },
    {
     "data": {
      "text/html": [
       "<div>\n",
       "<style scoped>\n",
       "    .dataframe tbody tr th:only-of-type {\n",
       "        vertical-align: middle;\n",
       "    }\n",
       "\n",
       "    .dataframe tbody tr th {\n",
       "        vertical-align: top;\n",
       "    }\n",
       "\n",
       "    .dataframe thead th {\n",
       "        text-align: right;\n",
       "    }\n",
       "</style>\n",
       "<table border=\"1\" class=\"dataframe\">\n",
       "  <thead>\n",
       "    <tr style=\"text-align: right;\">\n",
       "      <th></th>\n",
       "      <th>Date</th>\n",
       "      <th>Product Category</th>\n",
       "      <th>Product Name</th>\n",
       "      <th>Units Sold</th>\n",
       "      <th>Unit Price</th>\n",
       "    </tr>\n",
       "    <tr>\n",
       "      <th>Transaction ID</th>\n",
       "      <th></th>\n",
       "      <th></th>\n",
       "      <th></th>\n",
       "      <th></th>\n",
       "      <th></th>\n",
       "    </tr>\n",
       "  </thead>\n",
       "  <tbody>\n",
       "    <tr>\n",
       "      <th>1007</th>\n",
       "      <td>2023-01-19</td>\n",
       "      <td>Home Goods</td>\n",
       "      <td>Blender</td>\n",
       "      <td>2</td>\n",
       "      <td>50</td>\n",
       "    </tr>\n",
       "  </tbody>\n",
       "</table>\n",
       "</div>"
      ],
      "text/plain": [
       "                      Date Product Category Product Name  Units Sold  \\\n",
       "Transaction ID                                                         \n",
       "1007            2023-01-19       Home Goods      Blender           2   \n",
       "\n",
       "                Unit Price  \n",
       "Transaction ID              \n",
       "1007                    50  "
      ]
     },
     "execution_count": 54,
     "metadata": {},
     "output_type": "execute_result"
    }
   ],
   "source": [
    "# Select the last row (at integer position -1)\n",
    "\n",
    "last_row = sales_df.iloc[[-1]]\n",
    "print(\"\\n--- Selecting the last row (position -1) with .iloc ---\")\n",
    "last_row"
   ]
  },
  {
   "cell_type": "code",
   "execution_count": 53,
   "id": "a8e1853d-a27d-40ae-84c6-245969befcbd",
   "metadata": {},
   "outputs": [
    {
     "name": "stdout",
     "output_type": "stream",
     "text": [
      "\n",
      "--- Slicing rows from position 1 to 4 (exclusive) with .iloc ---\n"
     ]
    },
    {
     "data": {
      "text/html": [
       "<div>\n",
       "<style scoped>\n",
       "    .dataframe tbody tr th:only-of-type {\n",
       "        vertical-align: middle;\n",
       "    }\n",
       "\n",
       "    .dataframe tbody tr th {\n",
       "        vertical-align: top;\n",
       "    }\n",
       "\n",
       "    .dataframe thead th {\n",
       "        text-align: right;\n",
       "    }\n",
       "</style>\n",
       "<table border=\"1\" class=\"dataframe\">\n",
       "  <thead>\n",
       "    <tr style=\"text-align: right;\">\n",
       "      <th></th>\n",
       "      <th>Date</th>\n",
       "      <th>Product Category</th>\n",
       "      <th>Product Name</th>\n",
       "      <th>Units Sold</th>\n",
       "      <th>Unit Price</th>\n",
       "    </tr>\n",
       "    <tr>\n",
       "      <th>Transaction ID</th>\n",
       "      <th></th>\n",
       "      <th></th>\n",
       "      <th></th>\n",
       "      <th></th>\n",
       "      <th></th>\n",
       "    </tr>\n",
       "  </thead>\n",
       "  <tbody>\n",
       "    <tr>\n",
       "      <th>1002</th>\n",
       "      <td>2023-01-16</td>\n",
       "      <td>Office Supplies</td>\n",
       "      <td>Pen Set</td>\n",
       "      <td>10</td>\n",
       "      <td>15</td>\n",
       "    </tr>\n",
       "    <tr>\n",
       "      <th>1003</th>\n",
       "      <td>2023-01-16</td>\n",
       "      <td>Electronics</td>\n",
       "      <td>Mouse</td>\n",
       "      <td>5</td>\n",
       "      <td>25</td>\n",
       "    </tr>\n",
       "    <tr>\n",
       "      <th>1004</th>\n",
       "      <td>2023-01-17</td>\n",
       "      <td>Home Goods</td>\n",
       "      <td>Coffee Maker</td>\n",
       "      <td>1</td>\n",
       "      <td>80</td>\n",
       "    </tr>\n",
       "  </tbody>\n",
       "</table>\n",
       "</div>"
      ],
      "text/plain": [
       "                      Date Product Category  Product Name  Units Sold  \\\n",
       "Transaction ID                                                          \n",
       "1002            2023-01-16  Office Supplies       Pen Set          10   \n",
       "1003            2023-01-16      Electronics         Mouse           5   \n",
       "1004            2023-01-17       Home Goods  Coffee Maker           1   \n",
       "\n",
       "                Unit Price  \n",
       "Transaction ID              \n",
       "1002                    15  \n",
       "1003                    25  \n",
       "1004                    80  "
      ]
     },
     "execution_count": 53,
     "metadata": {},
     "output_type": "execute_result"
    }
   ],
   "source": [
    "# Slice rows by integer position. Note: .iloc slicing is EXCLUSIVE of the end position.\n",
    "\n",
    "row_slice_iloc = sales_df.iloc[1:4] # Rows at position 1, 2, 3\n",
    "print(\"\\n--- Slicing rows from position 1 to 4 (exclusive) with .iloc ---\")\n",
    "row_slice_iloc"
   ]
  },
  {
   "cell_type": "code",
   "execution_count": 52,
   "id": "ca35222d-2a92-4e04-ba2f-e61a273172ec",
   "metadata": {},
   "outputs": [
    {
     "name": "stdout",
     "output_type": "stream",
     "text": [
      "\n",
      "Value at [2, 3]: 5\n"
     ]
    }
   ],
   "source": [
    "# Select rows AND columns with .iloc\n",
    "# Get the value at row position 2, column position 3\n",
    "\n",
    "val = sales_df.iloc[2, 3] # Corresponds to Units Sold for transaction 1003\n",
    "print(f\"\\nValue at [2, 3]: {val}\")"
   ]
  },
  {
   "cell_type": "code",
   "execution_count": 51,
   "id": "a953e714-31ab-49f5-8ed9-47c93a296aad",
   "metadata": {},
   "outputs": [
    {
     "name": "stdout",
     "output_type": "stream",
     "text": [
      "\n",
      "--- Selecting last 3 rows and first 2 columns with .iloc ---\n"
     ]
    },
    {
     "data": {
      "text/html": [
       "<div>\n",
       "<style scoped>\n",
       "    .dataframe tbody tr th:only-of-type {\n",
       "        vertical-align: middle;\n",
       "    }\n",
       "\n",
       "    .dataframe tbody tr th {\n",
       "        vertical-align: top;\n",
       "    }\n",
       "\n",
       "    .dataframe thead th {\n",
       "        text-align: right;\n",
       "    }\n",
       "</style>\n",
       "<table border=\"1\" class=\"dataframe\">\n",
       "  <thead>\n",
       "    <tr style=\"text-align: right;\">\n",
       "      <th></th>\n",
       "      <th>Date</th>\n",
       "      <th>Product Category</th>\n",
       "    </tr>\n",
       "    <tr>\n",
       "      <th>Transaction ID</th>\n",
       "      <th></th>\n",
       "      <th></th>\n",
       "    </tr>\n",
       "  </thead>\n",
       "  <tbody>\n",
       "    <tr>\n",
       "      <th>1005</th>\n",
       "      <td>2023-01-18</td>\n",
       "      <td>Office Supplies</td>\n",
       "    </tr>\n",
       "    <tr>\n",
       "      <th>1006</th>\n",
       "      <td>2023-01-18</td>\n",
       "      <td>Electronics</td>\n",
       "    </tr>\n",
       "    <tr>\n",
       "      <th>1007</th>\n",
       "      <td>2023-01-19</td>\n",
       "      <td>Home Goods</td>\n",
       "    </tr>\n",
       "  </tbody>\n",
       "</table>\n",
       "</div>"
      ],
      "text/plain": [
       "                      Date Product Category\n",
       "Transaction ID                             \n",
       "1005            2023-01-18  Office Supplies\n",
       "1006            2023-01-18      Electronics\n",
       "1007            2023-01-19       Home Goods"
      ]
     },
     "execution_count": 51,
     "metadata": {},
     "output_type": "execute_result"
    }
   ],
   "source": [
    "# Get the last 3 rows and the first 2 columns\n",
    "\n",
    "subset_iloc = sales_df.iloc[-3:, :2]\n",
    "print(\"\\n--- Selecting last 3 rows and first 2 columns with .iloc ---\")\n",
    "subset_iloc"
   ]
  },
  {
   "cell_type": "markdown",
   "id": "8d75730f-9b58-4d6f-808d-c98e546befc0",
   "metadata": {},
   "source": [
    "## **4. Conditional Selection (Boolean Indexing)**\n",
    "This is one of the most powerful features. It combines a boolean condition with .loc."
   ]
  },
  {
   "cell_type": "code",
   "execution_count": 48,
   "id": "472fcb15-33f3-42cb-9df6-ce45e0377b4f",
   "metadata": {},
   "outputs": [
    {
     "name": "stdout",
     "output_type": "stream",
     "text": [
      "\n",
      "--- Boolean mask for 'Electronics' category ---\n",
      "Transaction ID\n",
      "1001     True\n",
      "1002    False\n",
      "1003     True\n",
      "1004    False\n",
      "1005    False\n",
      "1006     True\n",
      "1007    False\n",
      "Name: Product Category, dtype: bool\n"
     ]
    }
   ],
   "source": [
    "# Step 1: Create a boolean Series (a \"mask\")\n",
    "\n",
    "is_electronics = sales_df['Product Category'] == 'Electronics'\n",
    "print(\"\\n--- Boolean mask for 'Electronics' category ---\")\n",
    "print(is_electronics)"
   ]
  },
  {
   "cell_type": "code",
   "execution_count": 49,
   "id": "1dec989f-d074-46e7-b2f7-91df1d59130c",
   "metadata": {},
   "outputs": [
    {
     "name": "stdout",
     "output_type": "stream",
     "text": [
      "\n",
      "--- Selecting only 'Electronics' sales ---\n"
     ]
    },
    {
     "data": {
      "text/html": [
       "<div>\n",
       "<style scoped>\n",
       "    .dataframe tbody tr th:only-of-type {\n",
       "        vertical-align: middle;\n",
       "    }\n",
       "\n",
       "    .dataframe tbody tr th {\n",
       "        vertical-align: top;\n",
       "    }\n",
       "\n",
       "    .dataframe thead th {\n",
       "        text-align: right;\n",
       "    }\n",
       "</style>\n",
       "<table border=\"1\" class=\"dataframe\">\n",
       "  <thead>\n",
       "    <tr style=\"text-align: right;\">\n",
       "      <th></th>\n",
       "      <th>Date</th>\n",
       "      <th>Product Category</th>\n",
       "      <th>Product Name</th>\n",
       "      <th>Units Sold</th>\n",
       "      <th>Unit Price</th>\n",
       "    </tr>\n",
       "    <tr>\n",
       "      <th>Transaction ID</th>\n",
       "      <th></th>\n",
       "      <th></th>\n",
       "      <th></th>\n",
       "      <th></th>\n",
       "      <th></th>\n",
       "    </tr>\n",
       "  </thead>\n",
       "  <tbody>\n",
       "    <tr>\n",
       "      <th>1001</th>\n",
       "      <td>2023-01-15</td>\n",
       "      <td>Electronics</td>\n",
       "      <td>Laptop</td>\n",
       "      <td>2</td>\n",
       "      <td>1200</td>\n",
       "    </tr>\n",
       "    <tr>\n",
       "      <th>1003</th>\n",
       "      <td>2023-01-16</td>\n",
       "      <td>Electronics</td>\n",
       "      <td>Mouse</td>\n",
       "      <td>5</td>\n",
       "      <td>25</td>\n",
       "    </tr>\n",
       "    <tr>\n",
       "      <th>1006</th>\n",
       "      <td>2023-01-18</td>\n",
       "      <td>Electronics</td>\n",
       "      <td>Laptop</td>\n",
       "      <td>1</td>\n",
       "      <td>1250</td>\n",
       "    </tr>\n",
       "  </tbody>\n",
       "</table>\n",
       "</div>"
      ],
      "text/plain": [
       "                      Date Product Category Product Name  Units Sold  \\\n",
       "Transaction ID                                                         \n",
       "1001            2023-01-15      Electronics       Laptop           2   \n",
       "1003            2023-01-16      Electronics        Mouse           5   \n",
       "1006            2023-01-18      Electronics       Laptop           1   \n",
       "\n",
       "                Unit Price  \n",
       "Transaction ID              \n",
       "1001                  1200  \n",
       "1003                    25  \n",
       "1006                  1250  "
      ]
     },
     "execution_count": 49,
     "metadata": {},
     "output_type": "execute_result"
    }
   ],
   "source": [
    "# Step 2: Use the mask inside .loc[] to select the rows where the condition is True\n",
    "\n",
    "electronics_df = sales_df.loc[is_electronics]\n",
    "print(\"\\n--- Selecting only 'Electronics' sales ---\")\n",
    "electronics_df"
   ]
  },
  {
   "cell_type": "code",
   "execution_count": 50,
   "id": "9b36fb89-67ec-4587-b751-f0de6a8835bf",
   "metadata": {},
   "outputs": [
    {
     "name": "stdout",
     "output_type": "stream",
     "text": [
      "\n",
      "--- Selecting sales with Unit Price > 100 ---\n"
     ]
    },
    {
     "data": {
      "text/html": [
       "<div>\n",
       "<style scoped>\n",
       "    .dataframe tbody tr th:only-of-type {\n",
       "        vertical-align: middle;\n",
       "    }\n",
       "\n",
       "    .dataframe tbody tr th {\n",
       "        vertical-align: top;\n",
       "    }\n",
       "\n",
       "    .dataframe thead th {\n",
       "        text-align: right;\n",
       "    }\n",
       "</style>\n",
       "<table border=\"1\" class=\"dataframe\">\n",
       "  <thead>\n",
       "    <tr style=\"text-align: right;\">\n",
       "      <th></th>\n",
       "      <th>Date</th>\n",
       "      <th>Product Category</th>\n",
       "      <th>Product Name</th>\n",
       "      <th>Units Sold</th>\n",
       "      <th>Unit Price</th>\n",
       "    </tr>\n",
       "    <tr>\n",
       "      <th>Transaction ID</th>\n",
       "      <th></th>\n",
       "      <th></th>\n",
       "      <th></th>\n",
       "      <th></th>\n",
       "      <th></th>\n",
       "    </tr>\n",
       "  </thead>\n",
       "  <tbody>\n",
       "    <tr>\n",
       "      <th>1001</th>\n",
       "      <td>2023-01-15</td>\n",
       "      <td>Electronics</td>\n",
       "      <td>Laptop</td>\n",
       "      <td>2</td>\n",
       "      <td>1200</td>\n",
       "    </tr>\n",
       "    <tr>\n",
       "      <th>1006</th>\n",
       "      <td>2023-01-18</td>\n",
       "      <td>Electronics</td>\n",
       "      <td>Laptop</td>\n",
       "      <td>1</td>\n",
       "      <td>1250</td>\n",
       "    </tr>\n",
       "  </tbody>\n",
       "</table>\n",
       "</div>"
      ],
      "text/plain": [
       "                      Date Product Category Product Name  Units Sold  \\\n",
       "Transaction ID                                                         \n",
       "1001            2023-01-15      Electronics       Laptop           2   \n",
       "1006            2023-01-18      Electronics       Laptop           1   \n",
       "\n",
       "                Unit Price  \n",
       "Transaction ID              \n",
       "1001                  1200  \n",
       "1006                  1250  "
      ]
     },
     "execution_count": 50,
     "metadata": {},
     "output_type": "execute_result"
    }
   ],
   "source": [
    "# You can do this in one line\n",
    "\n",
    "high_price_df = sales_df.loc[sales_df['Unit Price'] > 100]\n",
    "print(\"\\n--- Selecting sales with Unit Price > 100 ---\")\n",
    "high_price_df"
   ]
  },
  {
   "cell_type": "code",
   "execution_count": 47,
   "id": "e6c99b1c-4b6d-4a49-b739-f46faba090bb",
   "metadata": {},
   "outputs": [
    {
     "name": "stdout",
     "output_type": "stream",
     "text": [
      "\n",
      "--- Selecting Laptops OR items with Unit Price > 60 ---\n"
     ]
    },
    {
     "data": {
      "text/html": [
       "<div>\n",
       "<style scoped>\n",
       "    .dataframe tbody tr th:only-of-type {\n",
       "        vertical-align: middle;\n",
       "    }\n",
       "\n",
       "    .dataframe tbody tr th {\n",
       "        vertical-align: top;\n",
       "    }\n",
       "\n",
       "    .dataframe thead th {\n",
       "        text-align: right;\n",
       "    }\n",
       "</style>\n",
       "<table border=\"1\" class=\"dataframe\">\n",
       "  <thead>\n",
       "    <tr style=\"text-align: right;\">\n",
       "      <th></th>\n",
       "      <th>Date</th>\n",
       "      <th>Product Category</th>\n",
       "      <th>Product Name</th>\n",
       "      <th>Units Sold</th>\n",
       "      <th>Unit Price</th>\n",
       "    </tr>\n",
       "    <tr>\n",
       "      <th>Transaction ID</th>\n",
       "      <th></th>\n",
       "      <th></th>\n",
       "      <th></th>\n",
       "      <th></th>\n",
       "      <th></th>\n",
       "    </tr>\n",
       "  </thead>\n",
       "  <tbody>\n",
       "    <tr>\n",
       "      <th>1001</th>\n",
       "      <td>2023-01-15</td>\n",
       "      <td>Electronics</td>\n",
       "      <td>Laptop</td>\n",
       "      <td>2</td>\n",
       "      <td>1200</td>\n",
       "    </tr>\n",
       "    <tr>\n",
       "      <th>1004</th>\n",
       "      <td>2023-01-17</td>\n",
       "      <td>Home Goods</td>\n",
       "      <td>Coffee Maker</td>\n",
       "      <td>1</td>\n",
       "      <td>80</td>\n",
       "    </tr>\n",
       "    <tr>\n",
       "      <th>1006</th>\n",
       "      <td>2023-01-18</td>\n",
       "      <td>Electronics</td>\n",
       "      <td>Laptop</td>\n",
       "      <td>1</td>\n",
       "      <td>1250</td>\n",
       "    </tr>\n",
       "  </tbody>\n",
       "</table>\n",
       "</div>"
      ],
      "text/plain": [
       "                      Date Product Category  Product Name  Units Sold  \\\n",
       "Transaction ID                                                          \n",
       "1001            2023-01-15      Electronics        Laptop           2   \n",
       "1004            2023-01-17       Home Goods  Coffee Maker           1   \n",
       "1006            2023-01-18      Electronics        Laptop           1   \n",
       "\n",
       "                Unit Price  \n",
       "Transaction ID              \n",
       "1001                  1200  \n",
       "1004                    80  \n",
       "1006                  1250  "
      ]
     },
     "execution_count": 47,
     "metadata": {},
     "output_type": "execute_result"
    }
   ],
   "source": [
    "# Combining multiple conditions\n",
    "# & for AND, | for OR. Each condition MUST be in parentheses.\n",
    "\n",
    "laptops_or_high_price = sales_df.loc[(sales_df['Product Name'] == 'Laptop') | (sales_df['Unit Price'] > 60)]\n",
    "print(\"\\n--- Selecting Laptops OR items with Unit Price > 60 ---\")\n",
    "laptops_or_high_price"
   ]
  },
  {
   "cell_type": "markdown",
   "id": "369969ad-aeb8-4b28-b53b-44915380bc2d",
   "metadata": {},
   "source": [
    "## **Exercises**\n",
    "Use the sales_df DataFrame with Transaction ID as the index for all exercises"
   ]
  },
  {
   "cell_type": "markdown",
   "id": "05aed0e9-eaa6-41e9-8500-490c2e68e85b",
   "metadata": {},
   "source": [
    "**1. .loc Practice:**\n",
    "- Select the row for Transaction ID 1006 and print it.\n",
    "- Select the Date and Product Name for transactions 1002, 1004, and 1006.\n",
    "- Select all rows from Transaction ID 1003 to 1006, but only the Product Category and Units Sold columns."
   ]
  },
  {
   "cell_type": "code",
   "execution_count": 13,
   "id": "ab5b20ba-1ba6-4173-80be-aa9195e2befa",
   "metadata": {},
   "outputs": [
    {
     "name": "stdout",
     "output_type": "stream",
     "text": [
      "\n",
      "--- Selecting row with index label 1006 ---\n",
      "Date                 2023-01-18\n",
      "Product Category    Electronics\n",
      "Product Name             Laptop\n",
      "Units Sold                    1\n",
      "Unit Price                 1250\n",
      "Name: 1006, dtype: object\n"
     ]
    }
   ],
   "source": [
    "sales_df = pd.read_csv(\"simple_sales.csv\", index_col = \"Transaction ID\")\n",
    "transaction_id1006 = sales_df.loc[1006]\n",
    "\n",
    "print(\"\\n--- Selecting row with index label 1006 ---\")\n",
    "print(transaction_id1006)"
   ]
  },
  {
   "cell_type": "code",
   "execution_count": 14,
   "id": "745248c4-68dd-41db-a1d1-b8f165799dd3",
   "metadata": {},
   "outputs": [
    {
     "name": "stdout",
     "output_type": "stream",
     "text": [
      "\n",
      "--- Selecting the Date and Product Name for transactions 1002, 1004, and 1006. ---\n"
     ]
    },
    {
     "data": {
      "text/html": [
       "<div>\n",
       "<style scoped>\n",
       "    .dataframe tbody tr th:only-of-type {\n",
       "        vertical-align: middle;\n",
       "    }\n",
       "\n",
       "    .dataframe tbody tr th {\n",
       "        vertical-align: top;\n",
       "    }\n",
       "\n",
       "    .dataframe thead th {\n",
       "        text-align: right;\n",
       "    }\n",
       "</style>\n",
       "<table border=\"1\" class=\"dataframe\">\n",
       "  <thead>\n",
       "    <tr style=\"text-align: right;\">\n",
       "      <th></th>\n",
       "      <th>Date</th>\n",
       "      <th>Product Name</th>\n",
       "    </tr>\n",
       "    <tr>\n",
       "      <th>Transaction ID</th>\n",
       "      <th></th>\n",
       "      <th></th>\n",
       "    </tr>\n",
       "  </thead>\n",
       "  <tbody>\n",
       "    <tr>\n",
       "      <th>1002</th>\n",
       "      <td>2023-01-16</td>\n",
       "      <td>Pen Set</td>\n",
       "    </tr>\n",
       "    <tr>\n",
       "      <th>1004</th>\n",
       "      <td>2023-01-17</td>\n",
       "      <td>Coffee Maker</td>\n",
       "    </tr>\n",
       "    <tr>\n",
       "      <th>1006</th>\n",
       "      <td>2023-01-18</td>\n",
       "      <td>Laptop</td>\n",
       "    </tr>\n",
       "  </tbody>\n",
       "</table>\n",
       "</div>"
      ],
      "text/plain": [
       "                      Date  Product Name\n",
       "Transaction ID                          \n",
       "1002            2023-01-16       Pen Set\n",
       "1004            2023-01-17  Coffee Maker\n",
       "1006            2023-01-18        Laptop"
      ]
     },
     "execution_count": 14,
     "metadata": {},
     "output_type": "execute_result"
    }
   ],
   "source": [
    "row_1002_1004_1006_date_product_name = sales_df.loc[[1002, 1004, 1006], [\"Date\", \"Product Name\"]]\n",
    "\n",
    "print(\"\\n--- Selecting the Date and Product Name for transactions 1002, 1004, and 1006. ---\")\n",
    "row_1002_1004_1006_date_product_name"
   ]
  },
  {
   "cell_type": "code",
   "execution_count": 15,
   "id": "38536ee1-9553-4973-a9e1-3aef1918e5a4",
   "metadata": {},
   "outputs": [
    {
     "name": "stdout",
     "output_type": "stream",
     "text": [
      "\n",
      "--- Selecting all rows from Transaction ID 1003 to 1006 and Product Category and Units Sold columns ---\n"
     ]
    },
    {
     "data": {
      "text/html": [
       "<div>\n",
       "<style scoped>\n",
       "    .dataframe tbody tr th:only-of-type {\n",
       "        vertical-align: middle;\n",
       "    }\n",
       "\n",
       "    .dataframe tbody tr th {\n",
       "        vertical-align: top;\n",
       "    }\n",
       "\n",
       "    .dataframe thead th {\n",
       "        text-align: right;\n",
       "    }\n",
       "</style>\n",
       "<table border=\"1\" class=\"dataframe\">\n",
       "  <thead>\n",
       "    <tr style=\"text-align: right;\">\n",
       "      <th></th>\n",
       "      <th>Product Category</th>\n",
       "      <th>Units Sold</th>\n",
       "    </tr>\n",
       "    <tr>\n",
       "      <th>Transaction ID</th>\n",
       "      <th></th>\n",
       "      <th></th>\n",
       "    </tr>\n",
       "  </thead>\n",
       "  <tbody>\n",
       "    <tr>\n",
       "      <th>1003</th>\n",
       "      <td>Electronics</td>\n",
       "      <td>5</td>\n",
       "    </tr>\n",
       "    <tr>\n",
       "      <th>1004</th>\n",
       "      <td>Home Goods</td>\n",
       "      <td>1</td>\n",
       "    </tr>\n",
       "    <tr>\n",
       "      <th>1005</th>\n",
       "      <td>Office Supplies</td>\n",
       "      <td>20</td>\n",
       "    </tr>\n",
       "    <tr>\n",
       "      <th>1006</th>\n",
       "      <td>Electronics</td>\n",
       "      <td>1</td>\n",
       "    </tr>\n",
       "  </tbody>\n",
       "</table>\n",
       "</div>"
      ],
      "text/plain": [
       "               Product Category  Units Sold\n",
       "Transaction ID                             \n",
       "1003                Electronics           5\n",
       "1004                 Home Goods           1\n",
       "1005            Office Supplies          20\n",
       "1006                Electronics           1"
      ]
     },
     "execution_count": 15,
     "metadata": {},
     "output_type": "execute_result"
    }
   ],
   "source": [
    "subset = sales_df.loc[1003:1006, [\"Product Category\", \"Units Sold\"]]\n",
    "\n",
    "print(\"\\n--- Selecting all rows from Transaction ID 1003 to 1006 and Product Category and Units Sold columns ---\")\n",
    "subset"
   ]
  },
  {
   "cell_type": "markdown",
   "id": "b1d2e2dc-5a36-4163-b549-ad446c9499b0",
   "metadata": {},
   "source": [
    "**2. .iloc Practice:**\n",
    "- Select the row at the 4th position (integer index 3).\n",
    "- Select the last 2 rows and the last 3 columns of the DataFrame.\n",
    "- Select the element at the intersection of the 2nd row and the 3rd column."
   ]
  },
  {
   "cell_type": "code",
   "execution_count": 18,
   "id": "764caff5-47c5-4347-8966-f988deb2cdd8",
   "metadata": {},
   "outputs": [
    {
     "name": "stdout",
     "output_type": "stream",
     "text": [
      "\n",
      "--- Selecting the row at the 4th position (integer index 3) ---\n"
     ]
    },
    {
     "data": {
      "text/plain": [
       "Date                  2023-01-17\n",
       "Product Category      Home Goods\n",
       "Product Name        Coffee Maker\n",
       "Units Sold                     1\n",
       "Unit Price                    80\n",
       "Name: 1004, dtype: object"
      ]
     },
     "execution_count": 18,
     "metadata": {},
     "output_type": "execute_result"
    }
   ],
   "source": [
    "fourth_row = sales_df.iloc[3]\n",
    "\n",
    "print(\"\\n--- Selecting the row at the 4th position (integer index 3) ---\")\n",
    "fourth_row"
   ]
  },
  {
   "cell_type": "code",
   "execution_count": 20,
   "id": "e56eb459-3163-49db-8374-d86d166afb76",
   "metadata": {},
   "outputs": [
    {
     "name": "stdout",
     "output_type": "stream",
     "text": [
      "\n",
      "--- Selecting the last 2 rows and the last 3 columns of the DataFrame ---\n"
     ]
    },
    {
     "data": {
      "text/html": [
       "<div>\n",
       "<style scoped>\n",
       "    .dataframe tbody tr th:only-of-type {\n",
       "        vertical-align: middle;\n",
       "    }\n",
       "\n",
       "    .dataframe tbody tr th {\n",
       "        vertical-align: top;\n",
       "    }\n",
       "\n",
       "    .dataframe thead th {\n",
       "        text-align: right;\n",
       "    }\n",
       "</style>\n",
       "<table border=\"1\" class=\"dataframe\">\n",
       "  <thead>\n",
       "    <tr style=\"text-align: right;\">\n",
       "      <th></th>\n",
       "      <th>Product Name</th>\n",
       "      <th>Units Sold</th>\n",
       "      <th>Unit Price</th>\n",
       "    </tr>\n",
       "    <tr>\n",
       "      <th>Transaction ID</th>\n",
       "      <th></th>\n",
       "      <th></th>\n",
       "      <th></th>\n",
       "    </tr>\n",
       "  </thead>\n",
       "  <tbody>\n",
       "    <tr>\n",
       "      <th>1006</th>\n",
       "      <td>Laptop</td>\n",
       "      <td>1</td>\n",
       "      <td>1250</td>\n",
       "    </tr>\n",
       "    <tr>\n",
       "      <th>1007</th>\n",
       "      <td>Blender</td>\n",
       "      <td>2</td>\n",
       "      <td>50</td>\n",
       "    </tr>\n",
       "  </tbody>\n",
       "</table>\n",
       "</div>"
      ],
      "text/plain": [
       "               Product Name  Units Sold  Unit Price\n",
       "Transaction ID                                     \n",
       "1006                 Laptop           1        1250\n",
       "1007                Blender           2          50"
      ]
     },
     "execution_count": 20,
     "metadata": {},
     "output_type": "execute_result"
    }
   ],
   "source": [
    "subset1 = sales_df.iloc[-2:, -3:]\n",
    "\n",
    "print(\"\\n--- Selecting the last 2 rows and the last 3 columns of the DataFrame ---\")\n",
    "subset1"
   ]
  },
  {
   "cell_type": "code",
   "execution_count": 24,
   "id": "e110cae2-bfe0-4efc-b423-63c65a3e436c",
   "metadata": {},
   "outputs": [
    {
     "name": "stdout",
     "output_type": "stream",
     "text": [
      "Element at the intersection of the 2nd row and the 3rd column: Pen Set\n"
     ]
    }
   ],
   "source": [
    "element = sales_df.iloc[1, 2]\n",
    "\n",
    "print(f\"Element at the intersection of the 2nd row and the 3rd column: {element}\")"
   ]
  },
  {
   "cell_type": "markdown",
   "id": "f848ed6b-83a6-4728-828a-a4e44dd67f2f",
   "metadata": {},
   "source": [
    "**3. Conditional Selection Challenge:**\n",
    "- Select all sales from the 'Office Supplies' category.\n",
    "- Select all sales where 'Units Sold' was greater than 5.\n",
    "- Select all sales that were not Laptops. (Hint: use the != operator).\n",
    "- Select all sales that were 'Electronics' and had a 'Unit Price' of less than $1000. Print the resulting DataFrame."
   ]
  },
  {
   "cell_type": "code",
   "execution_count": 28,
   "id": "8ba9905b-0f9f-4e3a-8e2a-093959b70ade",
   "metadata": {},
   "outputs": [
    {
     "name": "stdout",
     "output_type": "stream",
     "text": [
      "\n",
      "--- Selecting all sales from the 'Office Supplies' category ---\n"
     ]
    },
    {
     "data": {
      "text/html": [
       "<div>\n",
       "<style scoped>\n",
       "    .dataframe tbody tr th:only-of-type {\n",
       "        vertical-align: middle;\n",
       "    }\n",
       "\n",
       "    .dataframe tbody tr th {\n",
       "        vertical-align: top;\n",
       "    }\n",
       "\n",
       "    .dataframe thead th {\n",
       "        text-align: right;\n",
       "    }\n",
       "</style>\n",
       "<table border=\"1\" class=\"dataframe\">\n",
       "  <thead>\n",
       "    <tr style=\"text-align: right;\">\n",
       "      <th></th>\n",
       "      <th>Date</th>\n",
       "      <th>Product Category</th>\n",
       "      <th>Product Name</th>\n",
       "      <th>Units Sold</th>\n",
       "      <th>Unit Price</th>\n",
       "    </tr>\n",
       "    <tr>\n",
       "      <th>Transaction ID</th>\n",
       "      <th></th>\n",
       "      <th></th>\n",
       "      <th></th>\n",
       "      <th></th>\n",
       "      <th></th>\n",
       "    </tr>\n",
       "  </thead>\n",
       "  <tbody>\n",
       "    <tr>\n",
       "      <th>1002</th>\n",
       "      <td>2023-01-16</td>\n",
       "      <td>Office Supplies</td>\n",
       "      <td>Pen Set</td>\n",
       "      <td>10</td>\n",
       "      <td>15</td>\n",
       "    </tr>\n",
       "    <tr>\n",
       "      <th>1005</th>\n",
       "      <td>2023-01-18</td>\n",
       "      <td>Office Supplies</td>\n",
       "      <td>Notebook</td>\n",
       "      <td>20</td>\n",
       "      <td>5</td>\n",
       "    </tr>\n",
       "  </tbody>\n",
       "</table>\n",
       "</div>"
      ],
      "text/plain": [
       "                      Date Product Category Product Name  Units Sold  \\\n",
       "Transaction ID                                                         \n",
       "1002            2023-01-16  Office Supplies      Pen Set          10   \n",
       "1005            2023-01-18  Office Supplies     Notebook          20   \n",
       "\n",
       "                Unit Price  \n",
       "Transaction ID              \n",
       "1002                    15  \n",
       "1005                     5  "
      ]
     },
     "execution_count": 28,
     "metadata": {},
     "output_type": "execute_result"
    }
   ],
   "source": [
    "print(\"\\n--- Selecting all sales from the 'Office Supplies' category ---\")\n",
    "sales_df[sales_df[\"Product Category\"] == \"Office Supplies\"]"
   ]
  },
  {
   "cell_type": "code",
   "execution_count": 32,
   "id": "ae498548-08c0-4866-a95b-dd7a013b31a7",
   "metadata": {},
   "outputs": [
    {
     "name": "stdout",
     "output_type": "stream",
     "text": [
      "\n",
      "--- Selecting all sales where 'Units Sold' was greater than 5 ---\n"
     ]
    },
    {
     "data": {
      "text/html": [
       "<div>\n",
       "<style scoped>\n",
       "    .dataframe tbody tr th:only-of-type {\n",
       "        vertical-align: middle;\n",
       "    }\n",
       "\n",
       "    .dataframe tbody tr th {\n",
       "        vertical-align: top;\n",
       "    }\n",
       "\n",
       "    .dataframe thead th {\n",
       "        text-align: right;\n",
       "    }\n",
       "</style>\n",
       "<table border=\"1\" class=\"dataframe\">\n",
       "  <thead>\n",
       "    <tr style=\"text-align: right;\">\n",
       "      <th></th>\n",
       "      <th>Date</th>\n",
       "      <th>Product Category</th>\n",
       "      <th>Product Name</th>\n",
       "      <th>Units Sold</th>\n",
       "      <th>Unit Price</th>\n",
       "    </tr>\n",
       "    <tr>\n",
       "      <th>Transaction ID</th>\n",
       "      <th></th>\n",
       "      <th></th>\n",
       "      <th></th>\n",
       "      <th></th>\n",
       "      <th></th>\n",
       "    </tr>\n",
       "  </thead>\n",
       "  <tbody>\n",
       "    <tr>\n",
       "      <th>1002</th>\n",
       "      <td>2023-01-16</td>\n",
       "      <td>Office Supplies</td>\n",
       "      <td>Pen Set</td>\n",
       "      <td>10</td>\n",
       "      <td>15</td>\n",
       "    </tr>\n",
       "    <tr>\n",
       "      <th>1005</th>\n",
       "      <td>2023-01-18</td>\n",
       "      <td>Office Supplies</td>\n",
       "      <td>Notebook</td>\n",
       "      <td>20</td>\n",
       "      <td>5</td>\n",
       "    </tr>\n",
       "  </tbody>\n",
       "</table>\n",
       "</div>"
      ],
      "text/plain": [
       "                      Date Product Category Product Name  Units Sold  \\\n",
       "Transaction ID                                                         \n",
       "1002            2023-01-16  Office Supplies      Pen Set          10   \n",
       "1005            2023-01-18  Office Supplies     Notebook          20   \n",
       "\n",
       "                Unit Price  \n",
       "Transaction ID              \n",
       "1002                    15  \n",
       "1005                     5  "
      ]
     },
     "execution_count": 32,
     "metadata": {},
     "output_type": "execute_result"
    }
   ],
   "source": [
    "print(\"\\n--- Selecting all sales where 'Units Sold' was greater than 5 ---\")\n",
    "sales_df[sales_df[\"Units Sold\"] > 5]"
   ]
  },
  {
   "cell_type": "code",
   "execution_count": 34,
   "id": "67f8dae1-6362-4eaa-b558-65c9b5d5e382",
   "metadata": {},
   "outputs": [
    {
     "name": "stdout",
     "output_type": "stream",
     "text": [
      "\n",
      "--- Selecting all sales that were not Laptops ---\n"
     ]
    },
    {
     "data": {
      "text/html": [
       "<div>\n",
       "<style scoped>\n",
       "    .dataframe tbody tr th:only-of-type {\n",
       "        vertical-align: middle;\n",
       "    }\n",
       "\n",
       "    .dataframe tbody tr th {\n",
       "        vertical-align: top;\n",
       "    }\n",
       "\n",
       "    .dataframe thead th {\n",
       "        text-align: right;\n",
       "    }\n",
       "</style>\n",
       "<table border=\"1\" class=\"dataframe\">\n",
       "  <thead>\n",
       "    <tr style=\"text-align: right;\">\n",
       "      <th></th>\n",
       "      <th>Date</th>\n",
       "      <th>Product Category</th>\n",
       "      <th>Product Name</th>\n",
       "      <th>Units Sold</th>\n",
       "      <th>Unit Price</th>\n",
       "    </tr>\n",
       "    <tr>\n",
       "      <th>Transaction ID</th>\n",
       "      <th></th>\n",
       "      <th></th>\n",
       "      <th></th>\n",
       "      <th></th>\n",
       "      <th></th>\n",
       "    </tr>\n",
       "  </thead>\n",
       "  <tbody>\n",
       "    <tr>\n",
       "      <th>1002</th>\n",
       "      <td>2023-01-16</td>\n",
       "      <td>Office Supplies</td>\n",
       "      <td>Pen Set</td>\n",
       "      <td>10</td>\n",
       "      <td>15</td>\n",
       "    </tr>\n",
       "    <tr>\n",
       "      <th>1003</th>\n",
       "      <td>2023-01-16</td>\n",
       "      <td>Electronics</td>\n",
       "      <td>Mouse</td>\n",
       "      <td>5</td>\n",
       "      <td>25</td>\n",
       "    </tr>\n",
       "    <tr>\n",
       "      <th>1004</th>\n",
       "      <td>2023-01-17</td>\n",
       "      <td>Home Goods</td>\n",
       "      <td>Coffee Maker</td>\n",
       "      <td>1</td>\n",
       "      <td>80</td>\n",
       "    </tr>\n",
       "    <tr>\n",
       "      <th>1005</th>\n",
       "      <td>2023-01-18</td>\n",
       "      <td>Office Supplies</td>\n",
       "      <td>Notebook</td>\n",
       "      <td>20</td>\n",
       "      <td>5</td>\n",
       "    </tr>\n",
       "    <tr>\n",
       "      <th>1007</th>\n",
       "      <td>2023-01-19</td>\n",
       "      <td>Home Goods</td>\n",
       "      <td>Blender</td>\n",
       "      <td>2</td>\n",
       "      <td>50</td>\n",
       "    </tr>\n",
       "  </tbody>\n",
       "</table>\n",
       "</div>"
      ],
      "text/plain": [
       "                      Date Product Category  Product Name  Units Sold  \\\n",
       "Transaction ID                                                          \n",
       "1002            2023-01-16  Office Supplies       Pen Set          10   \n",
       "1003            2023-01-16      Electronics         Mouse           5   \n",
       "1004            2023-01-17       Home Goods  Coffee Maker           1   \n",
       "1005            2023-01-18  Office Supplies      Notebook          20   \n",
       "1007            2023-01-19       Home Goods       Blender           2   \n",
       "\n",
       "                Unit Price  \n",
       "Transaction ID              \n",
       "1002                    15  \n",
       "1003                    25  \n",
       "1004                    80  \n",
       "1005                     5  \n",
       "1007                    50  "
      ]
     },
     "execution_count": 34,
     "metadata": {},
     "output_type": "execute_result"
    }
   ],
   "source": [
    "print(\"\\n--- Selecting all sales that were not Laptops ---\")\n",
    "sales_df[sales_df[\"Product Name\"] != \"Laptop\"]"
   ]
  },
  {
   "cell_type": "code",
   "execution_count": 38,
   "id": "1c100016-1f98-4c57-984d-9a301ce995ef",
   "metadata": {},
   "outputs": [
    {
     "name": "stdout",
     "output_type": "stream",
     "text": [
      "\n",
      "All sales that were 'Electronics' and had a 'Unit Price' of less than $1000:                       Date Product Category Product Name  Units Sold  \\\n",
      "Transaction ID                                                         \n",
      "1003            2023-01-16      Electronics        Mouse           5   \n",
      "\n",
      "                Unit Price  \n",
      "Transaction ID              \n",
      "1003                    25  \n"
     ]
    }
   ],
   "source": [
    "result = sales_df.loc[(sales_df[\"Product Category\"] == \"Electronics\") & (sales_df[\"Unit Price\"] <1000)]\n",
    "print(f\"\\nAll sales that were 'Electronics' and had a 'Unit Price' of less than $1000: {result}\")"
   ]
  }
 ],
 "metadata": {
  "kernelspec": {
   "display_name": "Python 3 (ipykernel)",
   "language": "python",
   "name": "python3"
  },
  "language_info": {
   "codemirror_mode": {
    "name": "ipython",
    "version": 3
   },
   "file_extension": ".py",
   "mimetype": "text/x-python",
   "name": "python",
   "nbconvert_exporter": "python",
   "pygments_lexer": "ipython3",
   "version": "3.11.9"
  }
 },
 "nbformat": 4,
 "nbformat_minor": 5
}

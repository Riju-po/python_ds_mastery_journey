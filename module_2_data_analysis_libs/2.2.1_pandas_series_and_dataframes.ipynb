{
 "cells": [
  {
   "cell_type": "markdown",
   "id": "59628743-1737-469e-9099-bae8d2fbd82e",
   "metadata": {},
   "source": [
    "## **What is Pandas?**\n",
    "- Pandas is the most popular Python library for data manipulation and analysis. It's the data scientist's equivalent of a spreadsheet (like Excel or Google Sheets), but infinitely more powerful and scalable.\n",
    "- It introduces two primary data structures: the Series (1-dimensional) and the DataFrame (2-dimensional).\n",
    "- **Why Pandas?**\n",
    "    1. **Labeled Data:** Unlike NumPy arrays, which are accessed by integer position, Pandas allows you to use custom labels for rows (the Index) and columns. This makes your data and code much more intuitive and readable (e.g., df['age'] instead of arr[:, 3]).\n",
    "    2. **Handling Different Data Types:** A single DataFrame can contain columns of different types (integers, floats, strings, dates, etc.), just like a real-world dataset.\n",
    "    3. **Data I/O:** It provides incredibly powerful and easy-to-use tools for reading and writing data from various formats (CSV, Excel, SQL databases, JSON, and more).\n",
    "    4. **Rich Functionality:** It has a massive set of functions for cleaning, transforming, merging, reshaping, and analyzing data."
   ]
  },
  {
   "cell_type": "markdown",
   "id": "7e93c976-7b9c-4f79-9fb7-c670714b3243",
   "metadata": {},
   "source": [
    "## **1. Importing Pandas**\n",
    "By convention, Pandas is always imported with the alias **pd**."
   ]
  },
  {
   "cell_type": "code",
   "execution_count": 1,
   "id": "ecbff870-8567-406c-8e96-60c3ae1c05bf",
   "metadata": {},
   "outputs": [],
   "source": [
    "import pandas as pd\n",
    "import numpy as np # It's standard practice to import numpy alongside pandas"
   ]
  },
  {
   "cell_type": "markdown",
   "id": "768952e1-c734-458f-ba62-df16407aa68a",
   "metadata": {},
   "source": [
    "## **2. The Pandas Series**\n",
    "A Series is a one-dimensional labeled array, much like a single column in a spreadsheet. It consists of two main parts: the **data** and the **index**."
   ]
  },
  {
   "cell_type": "code",
   "execution_count": 2,
   "id": "8d1a664b-7a90-47a4-8948-f9c6ea351120",
   "metadata": {},
   "outputs": [
    {
     "name": "stdout",
     "output_type": "stream",
     "text": [
      "Series from list:\n",
      "0    10\n",
      "1    20\n",
      "2    30\n",
      "3    40\n",
      "dtype: int64\n",
      "\n",
      "Values: [10 20 30 40]\n",
      "Index: RangeIndex(start=0, stop=4, step=1)\n",
      "\n",
      "Series from dictionary (keys become index):\n",
      "Alice      25\n",
      "Bob        30\n",
      "Charlie    35\n",
      "dtype: int64\n",
      "\n",
      "Bob's age: 30\n"
     ]
    }
   ],
   "source": [
    "# Creating a Series from a list\n",
    "numbers = [10, 20, 30, 40]\n",
    "s1 = pd.Series(numbers)\n",
    "print(\"Series from list:\")\n",
    "print(s1)\n",
    "\n",
    "# Notice the data on the left and the default integer index on the right.\n",
    "print(f\"\\nValues: {s1.values}\") # The data is a NumPy array!\n",
    "print(f\"Index: {s1.index}\")\n",
    "\n",
    "# Creating a Series with a custom index\n",
    "ages = {'Alice': 25, 'Bob': 30, 'Charlie': 35}\n",
    "s2 = pd.Series(ages)\n",
    "print(\"\\nSeries from dictionary (keys become index):\")\n",
    "print(s2)\n",
    "\n",
    "# Accessing data using the index label\n",
    "print(f\"\\nBob's age: {s2['Bob']}\")"
   ]
  },
  {
   "cell_type": "markdown",
   "id": "880a447a-11a9-494c-9444-b7b2f9fbb357",
   "metadata": {},
   "source": [
    "## **3. The Pandas DataFrame**\n",
    "A DataFrame is a two-dimensional labeled data structure with columns of potentially different types. It's the most important object in Pandas. Think of it as a spreadsheet, a SQL table, or a dictionary of Series objects.\n",
    "- **Creating a DataFrame**\n",
    "  - **From a Dictionary of Lists (most common):**"
   ]
  },
  {
   "cell_type": "code",
   "execution_count": 4,
   "id": "e80d09f5-0683-4f2e-bef5-3ec5f4c9c435",
   "metadata": {},
   "outputs": [
    {
     "name": "stdout",
     "output_type": "stream",
     "text": [
      "DataFrame from a dictionary of lists:\n"
     ]
    },
    {
     "data": {
      "text/html": [
       "<div>\n",
       "<style scoped>\n",
       "    .dataframe tbody tr th:only-of-type {\n",
       "        vertical-align: middle;\n",
       "    }\n",
       "\n",
       "    .dataframe tbody tr th {\n",
       "        vertical-align: top;\n",
       "    }\n",
       "\n",
       "    .dataframe thead th {\n",
       "        text-align: right;\n",
       "    }\n",
       "</style>\n",
       "<table border=\"1\" class=\"dataframe\">\n",
       "  <thead>\n",
       "    <tr style=\"text-align: right;\">\n",
       "      <th></th>\n",
       "      <th>name</th>\n",
       "      <th>age</th>\n",
       "      <th>city</th>\n",
       "    </tr>\n",
       "  </thead>\n",
       "  <tbody>\n",
       "    <tr>\n",
       "      <th>0</th>\n",
       "      <td>Alice</td>\n",
       "      <td>25</td>\n",
       "      <td>New York</td>\n",
       "    </tr>\n",
       "    <tr>\n",
       "      <th>1</th>\n",
       "      <td>Bob</td>\n",
       "      <td>30</td>\n",
       "      <td>Los Angeles</td>\n",
       "    </tr>\n",
       "    <tr>\n",
       "      <th>2</th>\n",
       "      <td>Charlie</td>\n",
       "      <td>35</td>\n",
       "      <td>Chicago</td>\n",
       "    </tr>\n",
       "    <tr>\n",
       "      <th>3</th>\n",
       "      <td>David</td>\n",
       "      <td>40</td>\n",
       "      <td>Houston</td>\n",
       "    </tr>\n",
       "  </tbody>\n",
       "</table>\n",
       "</div>"
      ],
      "text/plain": [
       "      name  age         city\n",
       "0    Alice   25     New York\n",
       "1      Bob   30  Los Angeles\n",
       "2  Charlie   35      Chicago\n",
       "3    David   40      Houston"
      ]
     },
     "execution_count": 4,
     "metadata": {},
     "output_type": "execute_result"
    }
   ],
   "source": [
    "data = {\n",
    "    'name': ['Alice', 'Bob', 'Charlie', 'David'],\n",
    "    'age': [25, 30, 35, 40],\n",
    "    'city': ['New York', 'Los Angeles', 'Chicago', 'Houston']\n",
    "}\n",
    "df = pd.DataFrame(data)\n",
    "print(\"DataFrame from a dictionary of lists:\")\n",
    "df"
   ]
  },
  {
   "cell_type": "markdown",
   "id": "debe1680-d833-4199-8952-af3a3625f8d3",
   "metadata": {},
   "source": [
    "**Setting a different column as the index:**"
   ]
  },
  {
   "cell_type": "code",
   "execution_count": 8,
   "id": "ecfd81c5-dc7f-4000-8289-2f415796e400",
   "metadata": {},
   "outputs": [
    {
     "name": "stdout",
     "output_type": "stream",
     "text": [
      "\n",
      "DataFrame with 'name' as the index:\n"
     ]
    },
    {
     "data": {
      "text/html": [
       "<div>\n",
       "<style scoped>\n",
       "    .dataframe tbody tr th:only-of-type {\n",
       "        vertical-align: middle;\n",
       "    }\n",
       "\n",
       "    .dataframe tbody tr th {\n",
       "        vertical-align: top;\n",
       "    }\n",
       "\n",
       "    .dataframe thead th {\n",
       "        text-align: right;\n",
       "    }\n",
       "</style>\n",
       "<table border=\"1\" class=\"dataframe\">\n",
       "  <thead>\n",
       "    <tr style=\"text-align: right;\">\n",
       "      <th></th>\n",
       "      <th>age</th>\n",
       "      <th>city</th>\n",
       "    </tr>\n",
       "    <tr>\n",
       "      <th>name</th>\n",
       "      <th></th>\n",
       "      <th></th>\n",
       "    </tr>\n",
       "  </thead>\n",
       "  <tbody>\n",
       "    <tr>\n",
       "      <th>Alice</th>\n",
       "      <td>25</td>\n",
       "      <td>New York</td>\n",
       "    </tr>\n",
       "    <tr>\n",
       "      <th>Bob</th>\n",
       "      <td>30</td>\n",
       "      <td>Los Angeles</td>\n",
       "    </tr>\n",
       "    <tr>\n",
       "      <th>Charlie</th>\n",
       "      <td>35</td>\n",
       "      <td>Chicago</td>\n",
       "    </tr>\n",
       "    <tr>\n",
       "      <th>David</th>\n",
       "      <td>40</td>\n",
       "      <td>Houston</td>\n",
       "    </tr>\n",
       "  </tbody>\n",
       "</table>\n",
       "</div>"
      ],
      "text/plain": [
       "         age         city\n",
       "name                     \n",
       "Alice     25     New York\n",
       "Bob       30  Los Angeles\n",
       "Charlie   35      Chicago\n",
       "David     40      Houston"
      ]
     },
     "execution_count": 8,
     "metadata": {},
     "output_type": "execute_result"
    }
   ],
   "source": [
    "df_with_name_index = df.set_index('name')\n",
    "print(\"\\nDataFrame with 'name' as the index:\")\n",
    "df_with_name_index"
   ]
  },
  {
   "cell_type": "markdown",
   "id": "0f307b5f-276d-4d12-b41c-7070e45a452d",
   "metadata": {},
   "source": [
    "## **4. Reading Data from Files**\n",
    "This is the most common way you'll create a DataFrame in the real world."
   ]
  },
  {
   "cell_type": "markdown",
   "id": "f68b77fd-cd62-452f-be78-71ad62094ad6",
   "metadata": {},
   "source": [
    "**Reading a CSV: simple_sales.csv**"
   ]
  },
  {
   "cell_type": "code",
   "execution_count": 8,
   "id": "58a489fa-b04f-43b6-bc22-2763eab9c2d9",
   "metadata": {},
   "outputs": [
    {
     "data": {
      "text/html": [
       "<div>\n",
       "<style scoped>\n",
       "    .dataframe tbody tr th:only-of-type {\n",
       "        vertical-align: middle;\n",
       "    }\n",
       "\n",
       "    .dataframe tbody tr th {\n",
       "        vertical-align: top;\n",
       "    }\n",
       "\n",
       "    .dataframe thead th {\n",
       "        text-align: right;\n",
       "    }\n",
       "</style>\n",
       "<table border=\"1\" class=\"dataframe\">\n",
       "  <thead>\n",
       "    <tr style=\"text-align: right;\">\n",
       "      <th></th>\n",
       "      <th>Transaction ID</th>\n",
       "      <th>Date</th>\n",
       "      <th>Product Category</th>\n",
       "      <th>Product Name</th>\n",
       "      <th>Units Sold</th>\n",
       "      <th>Unit Price</th>\n",
       "    </tr>\n",
       "  </thead>\n",
       "  <tbody>\n",
       "    <tr>\n",
       "      <th>0</th>\n",
       "      <td>1001</td>\n",
       "      <td>2023-01-15</td>\n",
       "      <td>Electronics</td>\n",
       "      <td>Laptop</td>\n",
       "      <td>2</td>\n",
       "      <td>1200</td>\n",
       "    </tr>\n",
       "    <tr>\n",
       "      <th>1</th>\n",
       "      <td>1002</td>\n",
       "      <td>2023-01-16</td>\n",
       "      <td>Office Supplies</td>\n",
       "      <td>Pen Set</td>\n",
       "      <td>10</td>\n",
       "      <td>15</td>\n",
       "    </tr>\n",
       "    <tr>\n",
       "      <th>2</th>\n",
       "      <td>1003</td>\n",
       "      <td>2023-01-16</td>\n",
       "      <td>Electronics</td>\n",
       "      <td>Mouse</td>\n",
       "      <td>5</td>\n",
       "      <td>25</td>\n",
       "    </tr>\n",
       "    <tr>\n",
       "      <th>3</th>\n",
       "      <td>1004</td>\n",
       "      <td>2023-01-17</td>\n",
       "      <td>Home Goods</td>\n",
       "      <td>Coffee Maker</td>\n",
       "      <td>1</td>\n",
       "      <td>80</td>\n",
       "    </tr>\n",
       "    <tr>\n",
       "      <th>4</th>\n",
       "      <td>1005</td>\n",
       "      <td>2023-01-18</td>\n",
       "      <td>Office Supplies</td>\n",
       "      <td>Notebook</td>\n",
       "      <td>20</td>\n",
       "      <td>5</td>\n",
       "    </tr>\n",
       "    <tr>\n",
       "      <th>5</th>\n",
       "      <td>1006</td>\n",
       "      <td>2023-01-18</td>\n",
       "      <td>Electronics</td>\n",
       "      <td>Laptop</td>\n",
       "      <td>1</td>\n",
       "      <td>1250</td>\n",
       "    </tr>\n",
       "    <tr>\n",
       "      <th>6</th>\n",
       "      <td>1007</td>\n",
       "      <td>2023-01-19</td>\n",
       "      <td>Home Goods</td>\n",
       "      <td>Blender</td>\n",
       "      <td>2</td>\n",
       "      <td>50</td>\n",
       "    </tr>\n",
       "  </tbody>\n",
       "</table>\n",
       "</div>"
      ],
      "text/plain": [
       "   Transaction ID        Date Product Category  Product Name  Units Sold  \\\n",
       "0            1001  2023-01-15      Electronics        Laptop           2   \n",
       "1            1002  2023-01-16  Office Supplies       Pen Set          10   \n",
       "2            1003  2023-01-16      Electronics         Mouse           5   \n",
       "3            1004  2023-01-17       Home Goods  Coffee Maker           1   \n",
       "4            1005  2023-01-18  Office Supplies      Notebook          20   \n",
       "5            1006  2023-01-18      Electronics        Laptop           1   \n",
       "6            1007  2023-01-19       Home Goods       Blender           2   \n",
       "\n",
       "   Unit Price  \n",
       "0        1200  \n",
       "1          15  \n",
       "2          25  \n",
       "3          80  \n",
       "4           5  \n",
       "5        1250  \n",
       "6          50  "
      ]
     },
     "execution_count": 8,
     "metadata": {},
     "output_type": "execute_result"
    }
   ],
   "source": [
    "# Make sure 'simple_sales.csv' is in the same directory as your notebook\n",
    "sales_df = pd.read_csv(\"simple_sales.csv\")\n",
    "sales_df"
   ]
  },
  {
   "cell_type": "markdown",
   "id": "8c736342-0624-4935-a8e3-7451eb5615ba",
   "metadata": {},
   "source": [
    "## **5. Inspecting a DataFrame**\n",
    "Once you have a DataFrame, these are the first commands you'll always run to understand it.\n",
    "- **.head(n):** Shows the first n rows (default is 5).\n",
    "- **.tail(n):** Shows the last n rows (default is 5).\n",
    "- **.info():** Provides a concise summary: index type, column types, non-null values, and memory usage. This is extremely important.\n",
    "- **.describe():** Generates descriptive statistics for numerical columns (count, mean, std, min, max, etc.).\n",
    "- **.shape:** A tuple representing the dimensions (rows, columns).\n",
    "- **.columns:** An index object containing the column labels.\n",
    "- **.dtypes:** Shows the data type of each column."
   ]
  },
  {
   "cell_type": "code",
   "execution_count": 13,
   "id": "959756cb-4306-4db9-88a5-c7c4e09eb081",
   "metadata": {},
   "outputs": [
    {
     "name": "stdout",
     "output_type": "stream",
     "text": [
      "--- First 5 rows of the sales data ---\n"
     ]
    },
    {
     "data": {
      "text/html": [
       "<div>\n",
       "<style scoped>\n",
       "    .dataframe tbody tr th:only-of-type {\n",
       "        vertical-align: middle;\n",
       "    }\n",
       "\n",
       "    .dataframe tbody tr th {\n",
       "        vertical-align: top;\n",
       "    }\n",
       "\n",
       "    .dataframe thead th {\n",
       "        text-align: right;\n",
       "    }\n",
       "</style>\n",
       "<table border=\"1\" class=\"dataframe\">\n",
       "  <thead>\n",
       "    <tr style=\"text-align: right;\">\n",
       "      <th></th>\n",
       "      <th>Transaction ID</th>\n",
       "      <th>Date</th>\n",
       "      <th>Product Category</th>\n",
       "      <th>Product Name</th>\n",
       "      <th>Units Sold</th>\n",
       "      <th>Unit Price</th>\n",
       "    </tr>\n",
       "  </thead>\n",
       "  <tbody>\n",
       "    <tr>\n",
       "      <th>0</th>\n",
       "      <td>1001</td>\n",
       "      <td>2023-01-15</td>\n",
       "      <td>Electronics</td>\n",
       "      <td>Laptop</td>\n",
       "      <td>2</td>\n",
       "      <td>1200</td>\n",
       "    </tr>\n",
       "    <tr>\n",
       "      <th>1</th>\n",
       "      <td>1002</td>\n",
       "      <td>2023-01-16</td>\n",
       "      <td>Office Supplies</td>\n",
       "      <td>Pen Set</td>\n",
       "      <td>10</td>\n",
       "      <td>15</td>\n",
       "    </tr>\n",
       "    <tr>\n",
       "      <th>2</th>\n",
       "      <td>1003</td>\n",
       "      <td>2023-01-16</td>\n",
       "      <td>Electronics</td>\n",
       "      <td>Mouse</td>\n",
       "      <td>5</td>\n",
       "      <td>25</td>\n",
       "    </tr>\n",
       "    <tr>\n",
       "      <th>3</th>\n",
       "      <td>1004</td>\n",
       "      <td>2023-01-17</td>\n",
       "      <td>Home Goods</td>\n",
       "      <td>Coffee Maker</td>\n",
       "      <td>1</td>\n",
       "      <td>80</td>\n",
       "    </tr>\n",
       "    <tr>\n",
       "      <th>4</th>\n",
       "      <td>1005</td>\n",
       "      <td>2023-01-18</td>\n",
       "      <td>Office Supplies</td>\n",
       "      <td>Notebook</td>\n",
       "      <td>20</td>\n",
       "      <td>5</td>\n",
       "    </tr>\n",
       "  </tbody>\n",
       "</table>\n",
       "</div>"
      ],
      "text/plain": [
       "   Transaction ID        Date Product Category  Product Name  Units Sold  \\\n",
       "0            1001  2023-01-15      Electronics        Laptop           2   \n",
       "1            1002  2023-01-16  Office Supplies       Pen Set          10   \n",
       "2            1003  2023-01-16      Electronics         Mouse           5   \n",
       "3            1004  2023-01-17       Home Goods  Coffee Maker           1   \n",
       "4            1005  2023-01-18  Office Supplies      Notebook          20   \n",
       "\n",
       "   Unit Price  \n",
       "0        1200  \n",
       "1          15  \n",
       "2          25  \n",
       "3          80  \n",
       "4           5  "
      ]
     },
     "execution_count": 13,
     "metadata": {},
     "output_type": "execute_result"
    }
   ],
   "source": [
    "print(\"--- First 5 rows of the sales data ---\")\n",
    "sales_df.head()"
   ]
  },
  {
   "cell_type": "code",
   "execution_count": 14,
   "id": "a2703d2f-f1ca-45a1-9031-4efa329e8f11",
   "metadata": {},
   "outputs": [
    {
     "name": "stdout",
     "output_type": "stream",
     "text": [
      "\n",
      "--- Concise summary of the DataFrame ---\n",
      "<class 'pandas.core.frame.DataFrame'>\n",
      "RangeIndex: 7 entries, 0 to 6\n",
      "Data columns (total 6 columns):\n",
      " #   Column            Non-Null Count  Dtype \n",
      "---  ------            --------------  ----- \n",
      " 0   Transaction ID    7 non-null      int64 \n",
      " 1   Date              7 non-null      object\n",
      " 2   Product Category  7 non-null      object\n",
      " 3   Product Name      7 non-null      object\n",
      " 4   Units Sold        7 non-null      int64 \n",
      " 5   Unit Price        7 non-null      int64 \n",
      "dtypes: int64(3), object(3)\n",
      "memory usage: 468.0+ bytes\n"
     ]
    }
   ],
   "source": [
    "print(\"\\n--- Concise summary of the DataFrame ---\")\n",
    "sales_df.info()"
   ]
  },
  {
   "cell_type": "code",
   "execution_count": 18,
   "id": "11e119da-4823-4c50-9ff5-2d02478d71c2",
   "metadata": {},
   "outputs": [
    {
     "name": "stdout",
     "output_type": "stream",
     "text": [
      "\n",
      "--- Descriptive statistics for numerical columns ---\n"
     ]
    },
    {
     "data": {
      "text/html": [
       "<div>\n",
       "<style scoped>\n",
       "    .dataframe tbody tr th:only-of-type {\n",
       "        vertical-align: middle;\n",
       "    }\n",
       "\n",
       "    .dataframe tbody tr th {\n",
       "        vertical-align: top;\n",
       "    }\n",
       "\n",
       "    .dataframe thead th {\n",
       "        text-align: right;\n",
       "    }\n",
       "</style>\n",
       "<table border=\"1\" class=\"dataframe\">\n",
       "  <thead>\n",
       "    <tr style=\"text-align: right;\">\n",
       "      <th></th>\n",
       "      <th>count</th>\n",
       "      <th>mean</th>\n",
       "      <th>std</th>\n",
       "      <th>min</th>\n",
       "      <th>25%</th>\n",
       "      <th>50%</th>\n",
       "      <th>75%</th>\n",
       "      <th>max</th>\n",
       "    </tr>\n",
       "  </thead>\n",
       "  <tbody>\n",
       "    <tr>\n",
       "      <th>Transaction ID</th>\n",
       "      <td>7.0</td>\n",
       "      <td>1004.000000</td>\n",
       "      <td>2.160247</td>\n",
       "      <td>1001.0</td>\n",
       "      <td>1002.5</td>\n",
       "      <td>1004.0</td>\n",
       "      <td>1005.5</td>\n",
       "      <td>1007.0</td>\n",
       "    </tr>\n",
       "    <tr>\n",
       "      <th>Units Sold</th>\n",
       "      <td>7.0</td>\n",
       "      <td>5.857143</td>\n",
       "      <td>7.010197</td>\n",
       "      <td>1.0</td>\n",
       "      <td>1.5</td>\n",
       "      <td>2.0</td>\n",
       "      <td>7.5</td>\n",
       "      <td>20.0</td>\n",
       "    </tr>\n",
       "    <tr>\n",
       "      <th>Unit Price</th>\n",
       "      <td>7.0</td>\n",
       "      <td>375.000000</td>\n",
       "      <td>581.363340</td>\n",
       "      <td>5.0</td>\n",
       "      <td>20.0</td>\n",
       "      <td>50.0</td>\n",
       "      <td>640.0</td>\n",
       "      <td>1250.0</td>\n",
       "    </tr>\n",
       "  </tbody>\n",
       "</table>\n",
       "</div>"
      ],
      "text/plain": [
       "                count         mean         std     min     25%     50%  \\\n",
       "Transaction ID    7.0  1004.000000    2.160247  1001.0  1002.5  1004.0   \n",
       "Units Sold        7.0     5.857143    7.010197     1.0     1.5     2.0   \n",
       "Unit Price        7.0   375.000000  581.363340     5.0    20.0    50.0   \n",
       "\n",
       "                   75%     max  \n",
       "Transaction ID  1005.5  1007.0  \n",
       "Units Sold         7.5    20.0  \n",
       "Unit Price       640.0  1250.0  "
      ]
     },
     "execution_count": 18,
     "metadata": {},
     "output_type": "execute_result"
    }
   ],
   "source": [
    "print(\"\\n--- Descriptive statistics for numerical columns ---\")\n",
    "sales_df.describe().T"
   ]
  },
  {
   "cell_type": "code",
   "execution_count": 22,
   "id": "fdf7766a-04be-47ef-b642-127b459a05dd",
   "metadata": {},
   "outputs": [
    {
     "name": "stdout",
     "output_type": "stream",
     "text": [
      "\n",
      "Shape of the DataFrame: (7, 6)\n",
      "\n",
      "Column labels: Index(['Transaction ID', 'Date', 'Product Category', 'Product Name',\n",
      "       'Units Sold', 'Unit Price'],\n",
      "      dtype='object')\n",
      "\n",
      "Data types of each column:\n",
      "Transaction ID       int64\n",
      "Date                object\n",
      "Product Category    object\n",
      "Product Name        object\n",
      "Units Sold           int64\n",
      "Unit Price           int64\n",
      "dtype: object\n"
     ]
    }
   ],
   "source": [
    "print(f\"\\nShape of the DataFrame: {sales_df.shape}\")\n",
    "print(f\"\\nColumn labels: {sales_df.columns}\")\n",
    "print(f\"\\nData types of each column:\\n{sales_df.dtypes}\")"
   ]
  },
  {
   "cell_type": "markdown",
   "id": "d8d6b8d8-1eb2-4538-8f49-012da6620ab0",
   "metadata": {},
   "source": [
    "## **Exercises**"
   ]
  },
  {
   "cell_type": "markdown",
   "id": "d7892f43-9f66-4419-8b0e-e70dce249e3d",
   "metadata": {},
   "source": [
    "**1. Series Creation:**\n",
    "- Create a Pandas Series named countries from a Python list of strings: [\"USA\", \"Canada\", \"Mexico\", \"Brazil\"].\n",
    "- Create another Pandas Series named capitals from a Python list of strings: [\"Washington D.C.\", \"Ottawa\", \"Mexico City\", \"Brasília\"].\n",
    "- Now, create a Series where the capitals are the data and the countries are the index. Print this Series."
   ]
  },
  {
   "cell_type": "code",
   "execution_count": 28,
   "id": "699bd712-7453-44e2-98c9-be15e7614f4d",
   "metadata": {},
   "outputs": [
    {
     "name": "stdout",
     "output_type": "stream",
     "text": [
      "Series with Capitals as Data and Countries as Index:\n",
      "USA       Washington D.C.\n",
      "Canada             Ottawa\n",
      "Mexico        Mexico City\n",
      "Brazil           Brasília\n",
      "dtype: object\n"
     ]
    }
   ],
   "source": [
    "countries = pd.Series([\"USA\", \"Canada\", \"Mexico\", \"Brazil\"])\n",
    "capitals  = pd.Series([\"Washington D.C.\", \"Ottawa\", \"Mexico City\", \"Brasília\"])\n",
    "countries_capital = pd.Series(data = capitals.values, index = countries.values)\n",
    "\n",
    "print(f\"Series with Capitals as Data and Countries as Index:\\n{countries_capital}\")"
   ]
  },
  {
   "cell_type": "markdown",
   "id": "02b8b809-7220-4446-863b-494136b56eed",
   "metadata": {},
   "source": [
    "**2. DataFrame Creation:**\n",
    "- Create a Python dictionary to store data about students:\n",
    "- `student_data = {\n",
    "    'student_id': [101, 102, 103, 104],\n",
    "    'name': ['Alice', 'Bob', 'Charlie', 'David'],\n",
    "    'major': ['CS', 'Physics', 'Math', 'CS']\n",
    "}`\n",
    "- Convert this dictionary into a Pandas DataFrame.\n",
    "- Set the student_id column as the index of the DataFrame.\n",
    "- Print the final DataFrame."
   ]
  },
  {
   "cell_type": "code",
   "execution_count": 6,
   "id": "1ff91075-6cde-4c31-b18d-6b3256108fe4",
   "metadata": {},
   "outputs": [
    {
     "name": "stdout",
     "output_type": "stream",
     "text": [
      "Student Data:\n",
      "   student_id     name    major\n",
      "0         101    Alice       CS\n",
      "1         102      Bob  Physics\n",
      "2         103  Charlie     Math\n",
      "3         104    David       CS\n"
     ]
    },
    {
     "data": {
      "text/html": [
       "<div>\n",
       "<style scoped>\n",
       "    .dataframe tbody tr th:only-of-type {\n",
       "        vertical-align: middle;\n",
       "    }\n",
       "\n",
       "    .dataframe tbody tr th {\n",
       "        vertical-align: top;\n",
       "    }\n",
       "\n",
       "    .dataframe thead th {\n",
       "        text-align: right;\n",
       "    }\n",
       "</style>\n",
       "<table border=\"1\" class=\"dataframe\">\n",
       "  <thead>\n",
       "    <tr style=\"text-align: right;\">\n",
       "      <th></th>\n",
       "      <th>name</th>\n",
       "      <th>major</th>\n",
       "    </tr>\n",
       "    <tr>\n",
       "      <th>student_id</th>\n",
       "      <th></th>\n",
       "      <th></th>\n",
       "    </tr>\n",
       "  </thead>\n",
       "  <tbody>\n",
       "    <tr>\n",
       "      <th>101</th>\n",
       "      <td>Alice</td>\n",
       "      <td>CS</td>\n",
       "    </tr>\n",
       "    <tr>\n",
       "      <th>102</th>\n",
       "      <td>Bob</td>\n",
       "      <td>Physics</td>\n",
       "    </tr>\n",
       "    <tr>\n",
       "      <th>103</th>\n",
       "      <td>Charlie</td>\n",
       "      <td>Math</td>\n",
       "    </tr>\n",
       "    <tr>\n",
       "      <th>104</th>\n",
       "      <td>David</td>\n",
       "      <td>CS</td>\n",
       "    </tr>\n",
       "  </tbody>\n",
       "</table>\n",
       "</div>"
      ],
      "text/plain": [
       "               name    major\n",
       "student_id                  \n",
       "101           Alice       CS\n",
       "102             Bob  Physics\n",
       "103         Charlie     Math\n",
       "104           David       CS"
      ]
     },
     "execution_count": 6,
     "metadata": {},
     "output_type": "execute_result"
    }
   ],
   "source": [
    "student_data = {\n",
    "    'student_id': [101, 102, 103, 104],\n",
    "    'name': ['Alice', 'Bob', 'Charlie', 'David'],\n",
    "    'major': ['CS', 'Physics', 'Math', 'CS']\n",
    "}\n",
    "\n",
    "df = pd.DataFrame(student_data)\n",
    "print(f\"Student Data:\\n{df}\")\n",
    "df_with_id_index = df.set_index('student_id')\n",
    "df_with_id_index"
   ]
  },
  {
   "cell_type": "markdown",
   "id": "1ff1f72b-ef97-41d9-981d-9e1f3bc090ac",
   "metadata": {},
   "source": [
    "**3. DataFrame Inspection:**\n",
    "- Using the sales_df DataFrame you created by reading simple_sales.csv:\n",
    "- Print the last 3 rows.\n",
    "- Print the data type of just the Unit Price column.\n",
    "- Calculate and print the total number of Units Sold across all transactions (Hint: select the column and call a familiar aggregation method like .sum())."
   ]
  },
  {
   "cell_type": "code",
   "execution_count": 9,
   "id": "6537834e-830a-4893-b375-3310f4a35eb0",
   "metadata": {},
   "outputs": [
    {
     "data": {
      "text/html": [
       "<div>\n",
       "<style scoped>\n",
       "    .dataframe tbody tr th:only-of-type {\n",
       "        vertical-align: middle;\n",
       "    }\n",
       "\n",
       "    .dataframe tbody tr th {\n",
       "        vertical-align: top;\n",
       "    }\n",
       "\n",
       "    .dataframe thead th {\n",
       "        text-align: right;\n",
       "    }\n",
       "</style>\n",
       "<table border=\"1\" class=\"dataframe\">\n",
       "  <thead>\n",
       "    <tr style=\"text-align: right;\">\n",
       "      <th></th>\n",
       "      <th>Transaction ID</th>\n",
       "      <th>Date</th>\n",
       "      <th>Product Category</th>\n",
       "      <th>Product Name</th>\n",
       "      <th>Units Sold</th>\n",
       "      <th>Unit Price</th>\n",
       "    </tr>\n",
       "  </thead>\n",
       "  <tbody>\n",
       "    <tr>\n",
       "      <th>4</th>\n",
       "      <td>1005</td>\n",
       "      <td>2023-01-18</td>\n",
       "      <td>Office Supplies</td>\n",
       "      <td>Notebook</td>\n",
       "      <td>20</td>\n",
       "      <td>5</td>\n",
       "    </tr>\n",
       "    <tr>\n",
       "      <th>5</th>\n",
       "      <td>1006</td>\n",
       "      <td>2023-01-18</td>\n",
       "      <td>Electronics</td>\n",
       "      <td>Laptop</td>\n",
       "      <td>1</td>\n",
       "      <td>1250</td>\n",
       "    </tr>\n",
       "    <tr>\n",
       "      <th>6</th>\n",
       "      <td>1007</td>\n",
       "      <td>2023-01-19</td>\n",
       "      <td>Home Goods</td>\n",
       "      <td>Blender</td>\n",
       "      <td>2</td>\n",
       "      <td>50</td>\n",
       "    </tr>\n",
       "  </tbody>\n",
       "</table>\n",
       "</div>"
      ],
      "text/plain": [
       "   Transaction ID        Date Product Category Product Name  Units Sold  \\\n",
       "4            1005  2023-01-18  Office Supplies     Notebook          20   \n",
       "5            1006  2023-01-18      Electronics       Laptop           1   \n",
       "6            1007  2023-01-19       Home Goods      Blender           2   \n",
       "\n",
       "   Unit Price  \n",
       "4           5  \n",
       "5        1250  \n",
       "6          50  "
      ]
     },
     "execution_count": 9,
     "metadata": {},
     "output_type": "execute_result"
    }
   ],
   "source": [
    "sales_df.tail(3)"
   ]
  },
  {
   "cell_type": "code",
   "execution_count": 21,
   "id": "4b3ab5c2-f014-4d4e-8a2c-3fb57f671d4d",
   "metadata": {},
   "outputs": [
    {
     "name": "stdout",
     "output_type": "stream",
     "text": [
      "\n",
      "Data Type of Unit Price column: int64\n"
     ]
    }
   ],
   "source": [
    "print(f\"\\nData Type of Unit Price column: {sales_df['Unit Price'].dtypes}\")"
   ]
  },
  {
   "cell_type": "code",
   "execution_count": 22,
   "id": "9e04c972-d4ec-431f-b864-357a8f1c8ae5",
   "metadata": {},
   "outputs": [
    {
     "name": "stdout",
     "output_type": "stream",
     "text": [
      "\n",
      "Total Units Sold: 41\n"
     ]
    }
   ],
   "source": [
    "print(f\"\\nTotal Units Sold: {sales_df['Units Sold'].sum()}\")"
   ]
  }
 ],
 "metadata": {
  "kernelspec": {
   "display_name": "Python 3 (ipykernel)",
   "language": "python",
   "name": "python3"
  },
  "language_info": {
   "codemirror_mode": {
    "name": "ipython",
    "version": 3
   },
   "file_extension": ".py",
   "mimetype": "text/x-python",
   "name": "python",
   "nbconvert_exporter": "python",
   "pygments_lexer": "ipython3",
   "version": "3.11.9"
  }
 },
 "nbformat": 4,
 "nbformat_minor": 5
}

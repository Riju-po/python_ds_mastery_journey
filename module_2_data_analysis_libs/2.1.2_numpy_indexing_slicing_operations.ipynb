{
 "cells": [
  {
   "cell_type": "markdown",
   "id": "8069a4a3-6bf9-4c07-b6fe-4c4ce3c8097f",
   "metadata": {},
   "source": [
    "## **1. Basic Indexing and Slicing**\n",
    "This works very similarly to Python lists, but extends to multiple dimensions."
   ]
  },
  {
   "cell_type": "code",
   "execution_count": 2,
   "id": "bf86c539-cc56-46f2-ace6-76b1e0389283",
   "metadata": {},
   "outputs": [
    {
     "name": "stdout",
     "output_type": "stream",
     "text": [
      "Original 1D array: [0 1 2 3 4 5 6 7 8 9]\n",
      "Element at index 3: 3\n",
      "Elements from index 2 to 5 (exclusive): [2 3 4]\n",
      "\n",
      "Original 2D array:\n",
      "[[1 2 3]\n",
      " [4 5 6]\n",
      " [7 8 9]]\n",
      "\n",
      "Element at [1, 2]: 6\n",
      "Element at [1][2]: 6\n",
      "\n",
      "First two rows:\n",
      "[[1 2 3]\n",
      " [4 5 6]]\n",
      "\n",
      "Last two columns:\n",
      "[[2 3]\n",
      " [5 6]\n",
      " [8 9]]\n",
      "\n",
      "Top right 2x2 sub-matrix:\n",
      "[[2 3]\n",
      " [5 6]]\n"
     ]
    }
   ],
   "source": [
    "import numpy as np\n",
    "\n",
    "# 1D Array Slicing (same as lists)\n",
    "arr1d = np.arange(10) # [0, 1, 2, 3, 4, 5, 6, 7, 8, 9]\n",
    "print(f\"Original 1D array: {arr1d}\")\n",
    "print(f\"Element at index 3: {arr1d[3]}\")\n",
    "print(f\"Elements from index 2 to 5 (exclusive): {arr1d[2:5]}\")\n",
    "\n",
    "# 2D Array Indexing and Slicing\n",
    "# Think of it as [row, column]\n",
    "arr2d = np.array([[1, 2, 3], [4, 5, 6], [7, 8, 9]])\n",
    "print(f\"\\nOriginal 2D array:\\n{arr2d}\")\n",
    "\n",
    "# Get a single element (row 1, column 2)\n",
    "element = arr2d[1, 2] # The element is 6\n",
    "print(f\"\\nElement at [1, 2]: {element}\")\n",
    "\n",
    "# Alternative syntax (less common)\n",
    "element_alt = arr2d[1][2]\n",
    "print(f\"Element at [1][2]: {element_alt}\")\n",
    "\n",
    "# Slicing 2D arrays\n",
    "# Get the first two rows\n",
    "slice1 = arr2d[:2, :] # Rows 0-1, all columns\n",
    "print(f\"\\nFirst two rows:\\n{slice1}\")\n",
    "\n",
    "# Get the last two columns\n",
    "slice2 = arr2d[:, 1:] # All rows, columns 1-2\n",
    "print(f\"\\nLast two columns:\\n{slice2}\")\n",
    "\n",
    "# Get a sub-matrix (a 2x2 from the top right)\n",
    "sub_matrix = arr2d[:2, 1:] # Rows 0-1, columns 1-2\n",
    "print(f\"\\nTop right 2x2 sub-matrix:\\n{sub_matrix}\")"
   ]
  },
  {
   "cell_type": "markdown",
   "id": "ae5ed6eb-68f7-4c62-b0f1-9b38f4595753",
   "metadata": {},
   "source": [
    "**Important Note on Slices: Views vs. Copies**\n",
    "- Unlike Python lists, NumPy array slices are views into the original array. This means if you modify a slice, you are also modifying the original array. This is done for performance reasons to avoid copying large amounts of data.\n",
    "- To create an explicit copy, use the **.copy()** method."
   ]
  },
  {
   "cell_type": "code",
   "execution_count": 2,
   "id": "622358c3-466a-4821-8d1f-28bfcf8247c4",
   "metadata": {},
   "outputs": [
    {
     "name": "stdout",
     "output_type": "stream",
     "text": [
      "\n",
      "Original array: [0 1 2 3 4 5 6 7 8 9]\n",
      "Slice: [5 6 7]\n",
      "Slice after modification: [  5 999   7]\n",
      "Original array after modifying slice: [  0   1   2   3   4   5 999   7   8   9]\n",
      "\n",
      "Original array 2: [0 1 2 3 4 5 6 7 8 9]\n",
      "Copied slice after modification: [  5 777   7]\n"
     ]
    }
   ],
   "source": [
    "# Create an array\n",
    "original_arr = np.arange(10)\n",
    "print(f\"\\nOriginal array: {original_arr}\")\n",
    "\n",
    "# Create a slice (a view)\n",
    "slice_arr = original_arr[5:8]\n",
    "print(f\"Slice: {slice_arr}\")\n",
    "\n",
    "# Modify an element in the slice\n",
    "slice_arr[1] = 999\n",
    "print(f\"Slice after modification: {slice_arr}\")\n",
    "\n",
    "# The original array is also changed!\n",
    "print(f\"Original array after modifying slice: {original_arr}\")\n",
    "\n",
    "# To avoid this, use .copy()\n",
    "original_arr2 = np.arange(10)\n",
    "slice_copy = original_arr2[5:8].copy()\n",
    "slice_copy[1] = 777\n",
    "print(f\"\\nOriginal array 2: {original_arr2}\") # Unchanged\n",
    "print(f\"Copied slice after modification: {slice_copy}\")"
   ]
  },
  {
   "cell_type": "markdown",
   "id": "32adcd94-8c2f-4287-8d52-9081e63401c9",
   "metadata": {},
   "source": [
    "## **2. Boolean Indexing (Masking)**\n",
    "This is an extremely powerful feature for data analysis. You can select elements from an array based on a condition.\n",
    "- Apply a condition to an array (e.g., arr > 5). This produces a boolean array of True/False values.\n",
    "- Use this boolean array (the \"mask\") inside square brackets [] to select only the elements from the original array where the mask is True."
   ]
  },
  {
   "cell_type": "code",
   "execution_count": 3,
   "id": "bcf04804-13f8-417b-b0a4-b44d0d55f4f0",
   "metadata": {},
   "outputs": [
    {
     "name": "stdout",
     "output_type": "stream",
     "text": [
      "Original data:\n",
      "[[10  2 37 17 23]\n",
      " [10 35 14 50 45]\n",
      " [23 17 13 11 21]\n",
      " [22 27 44 35 34]]\n",
      "\n",
      "Boolean mask (data > 25):\n",
      "[[False False  True False False]\n",
      " [False  True False  True  True]\n",
      " [False False False False False]\n",
      " [False  True  True  True  True]]\n",
      "\n",
      "Elements greater than 25: [37 35 50 45 27 44 35 34]\n",
      "\n",
      "Elements less than 10 (one line): [2]\n",
      "\n",
      "Data after setting even numbers to 0:\n",
      "[[ 0  0 37 17 23]\n",
      " [ 0 35  0  0 45]\n",
      " [23 17 13 11 21]\n",
      " [ 0 27  0 35  0]]\n"
     ]
    }
   ],
   "source": [
    "data = np.random.randint(1, 51, size=(4, 5))\n",
    "print(f\"Original data:\\n{data}\")\n",
    "\n",
    "# Create a boolean mask for values greater than 25\n",
    "mask = data > 25\n",
    "print(f\"\\nBoolean mask (data > 25):\\n{mask}\")\n",
    "\n",
    "# Use the mask to select the elements\n",
    "selected_data = data[mask]\n",
    "print(f\"\\nElements greater than 25: {selected_data}\")\n",
    "\n",
    "# You can do this in one line\n",
    "print(f\"\\nElements less than 10 (one line): {data[data < 10]}\")\n",
    "\n",
    "# You can also use boolean indexing to modify values\n",
    "# Set all even numbers to 0\n",
    "data[data % 2 == 0] = 0\n",
    "print(f\"\\nData after setting even numbers to 0:\\n{data}\")"
   ]
  },
  {
   "cell_type": "markdown",
   "id": "063395ef-1a08-4c71-9adc-a7455d2b221a",
   "metadata": {},
   "source": [
    "## **3. Fancy Indexing**\n",
    "This allows you to select elements using an array of indices."
   ]
  },
  {
   "cell_type": "code",
   "execution_count": 4,
   "id": "9dd50e0f-45aa-46a5-8fd9-5e1f38243311",
   "metadata": {},
   "outputs": [
    {
     "name": "stdout",
     "output_type": "stream",
     "text": [
      "\n",
      "Selected elements using fancy indexing: [20 40 70]\n",
      "\n",
      "Original 2D array:\n",
      "[[ 0  1  2]\n",
      " [ 3  4  5]\n",
      " [ 6  7  8]\n",
      " [ 9 10 11]]\n",
      "\n",
      "Selected specific elements from 2D array: [1 8 9]\n"
     ]
    }
   ],
   "source": [
    "arr = np.array([10, 20, 30, 40, 50, 60, 70])\n",
    "\n",
    "# Select elements at specific indices\n",
    "indices = [1, 3, 6]\n",
    "print(f\"\\nSelected elements using fancy indexing: {arr[indices]}\")\n",
    "\n",
    "# For 2D arrays, you can pass a tuple of index arrays: one for rows, one for columns\n",
    "arr2d = np.arange(12).reshape((4, 3))\n",
    "print(f\"\\nOriginal 2D array:\\n{arr2d}\")\n",
    "\n",
    "# Select elements at (row 0, col 1), (row 2, col 2), and (row 3, col 0)\n",
    "row_indices = [0, 2, 3]\n",
    "col_indices = [1, 2, 0]\n",
    "selected = arr2d[row_indices, col_indices]\n",
    "print(f\"\\nSelected specific elements from 2D array: {selected}\")"
   ]
  },
  {
   "cell_type": "markdown",
   "id": "f4f1e96e-2b81-4ffe-be4f-1a292324d1a1",
   "metadata": {},
   "source": [
    "## **4. Universal Functions (ufuncs) and Mathematical Operations**\n",
    "This is vectorization in action. NumPy operations are applied element-wise to entire arrays without needing Python loops."
   ]
  },
  {
   "cell_type": "code",
   "execution_count": 5,
   "id": "b601f4e4-c2a0-49eb-80f0-ff654969ed2b",
   "metadata": {},
   "outputs": [
    {
     "name": "stdout",
     "output_type": "stream",
     "text": [
      "\n",
      "x + y = [ 6  8 10 12]\n",
      "x * y = [ 5 12 21 32]\n",
      "x / 2 = [0.5 1.  1.5 2. ]\n",
      "x ** 2 = [ 1  4  9 16]\n",
      "\n",
      "Square root of x: [1.         1.41421356 1.73205081 2.        ]\n",
      "Exponential of x: [ 2.71828183  7.3890561  20.08553692 54.59815003]\n",
      "Sine of x: [ 0.84147098  0.90929743  0.14112001 -0.7568025 ]\n",
      "Maximum of x and y element-wise: [5 6 7 8]\n"
     ]
    }
   ],
   "source": [
    "x = np.array([1, 2, 3, 4])\n",
    "y = np.array([5, 6, 7, 8])\n",
    "\n",
    "# Element-wise operations\n",
    "print(f\"\\nx + y = {x + y}\")\n",
    "print(f\"x * y = {x * y}\")\n",
    "print(f\"x / 2 = {x / 2}\")\n",
    "print(f\"x ** 2 = {x ** 2}\")\n",
    "\n",
    "# Universal functions\n",
    "print(f\"\\nSquare root of x: {np.sqrt(x)}\")\n",
    "print(f\"Exponential of x: {np.exp(x)}\")\n",
    "print(f\"Sine of x: {np.sin(x)}\")\n",
    "print(f\"Maximum of x and y element-wise: {np.maximum(x, y)}\")"
   ]
  },
  {
   "cell_type": "markdown",
   "id": "3f2261a3-635d-4b15-b034-f73e0031bf47",
   "metadata": {},
   "source": [
    "## **Exercises**"
   ]
  },
  {
   "cell_type": "markdown",
   "id": "0fb87b65-7ce1-44bf-b5c8-b51943aca3f3",
   "metadata": {},
   "source": [
    "**1. Slicing Practice:**\n",
    "- Create a 2D NumPy array with a shape of (5, 5) containing integers from 1 to 25. (Hint: np.arange(1, 26).reshape(5, 5)).\n",
    "- From this array, extract a 3x3 sub-array from the center of the original array.\n",
    "- Extract the entire last column of the array.\n",
    "- Extract every other element from the 3rd row.\n",
    "- Print the original array and all three extracted parts."
   ]
  },
  {
   "cell_type": "code",
   "execution_count": 21,
   "id": "3549c7d1-fe52-4231-a7dd-579d40f6f15d",
   "metadata": {},
   "outputs": [
    {
     "name": "stdout",
     "output_type": "stream",
     "text": [
      "Original Array:\n",
      "[[ 1  2  3  4  5]\n",
      " [ 6  7  8  9 10]\n",
      " [11 12 13 14 15]\n",
      " [16 17 18 19 20]\n",
      " [21 22 23 24 25]]\n",
      "\n",
      "A 3x3 sub-array from the center of the original array:\n",
      "[[ 7  8  9]\n",
      " [12 13 14]\n",
      " [17 18 19]]\n",
      "\n",
      "Last column of the array:\n",
      "[[ 5]\n",
      " [10]\n",
      " [15]\n",
      " [20]\n",
      " [25]]\n",
      "\n",
      "Every other element from the 3rd row:\n",
      "[11 13 15]\n"
     ]
    }
   ],
   "source": [
    "arr2d = np.arange(1,26).reshape(5,5)\n",
    "sub_arr = arr2d[1:4, 1:4]\n",
    "last_column = arr2d[:,4:]\n",
    "third_row = arr2d[2,::2]\n",
    "print(f\"Original Array:\\n{arr2d}\")\n",
    "print(f\"\\nA 3x3 sub-array from the center of the original array:\\n{sub_arr}\")\n",
    "print(f\"\\nLast column of the array:\\n{last_column}\")\n",
    "print(f\"\\nEvery other element from the 3rd row:\\n{third_row}\")"
   ]
  },
  {
   "cell_type": "markdown",
   "id": "798f8978-88cf-444d-bc22-8db23c0e8711",
   "metadata": {},
   "source": [
    "**2. Data Filtering with Boolean Masking:**\n",
    "- Create a 1D NumPy array with 10 random integers between -50 and 50.\n",
    "- Create a boolean mask to find all the positive numbers in the array.\n",
    "- Use the mask to select and print only the positive numbers.\n",
    "- In a single line, replace all negative numbers in the original array with 0 and print the modified array."
   ]
  },
  {
   "cell_type": "code",
   "execution_count": 14,
   "id": "a022201f-f92c-4073-a876-cc30f7c5a48e",
   "metadata": {},
   "outputs": [
    {
     "name": "stdout",
     "output_type": "stream",
     "text": [
      "Original Array: [-29   6 -26 -50 -23 -10   1  -4  36 -25]\n",
      "All the positive numbers in the array is: [ 6  1 36]\n",
      "Modifid Array: [ 0  6  0  0  0  0  1  0 36  0]\n"
     ]
    }
   ],
   "source": [
    "arr1d = np.random.randint(-50,51,10)\n",
    "print(f\"Original Array: {arr1d}\")\n",
    "mask = arr1d > 0\n",
    "positive_numbers = arr1d[mask]\n",
    "print(f\"All the positive numbers in the array is: {positive_numbers}\")\n",
    "arr1d[arr1d <0] = 0\n",
    "print(f\"Modifid Array: {arr1d}\")"
   ]
  },
  {
   "cell_type": "markdown",
   "id": "c1046365-b2fe-4c24-996d-a577d15f3be5",
   "metadata": {},
   "source": [
    "**3. Views vs. Copies:**\n",
    "- Create a 1D NumPy array of numbers from 0 to 9.\n",
    "- Create a slice of this array containing the elements from index 5 onwards. Name this slice my_view.\n",
    "- Create a copy of this same slice. Name this copy my_copy.\n",
    "- Modify the first element of my_view to be 99.\n",
    "- Modify the second element of my_copy to be 777.\n",
    "- Print the original array, my_view, and my_copy to observe the differences. Explain in a Markdown cell why the original array changed in one case but not the other."
   ]
  },
  {
   "cell_type": "code",
   "execution_count": 23,
   "id": "acefd4e2-61c8-4df5-a8e4-a33f13069184",
   "metadata": {},
   "outputs": [
    {
     "name": "stdout",
     "output_type": "stream",
     "text": [
      "Before modification Original Array: [0 1 2 3 4 5 6 7 8 9]\n",
      "After modification Original Array: [ 0  1  2  3  4 99  6  7  8  9]\n",
      "my_view: [99  6  7  8  9]\n",
      "my_copy: [  5 777   7   8   9]\n"
     ]
    }
   ],
   "source": [
    "arr1d = np.arange(0,10)\n",
    "print(f\"Before modification Original Array: {arr1d}\")\n",
    "my_view = arr1d[5:]\n",
    "my_copy = arr1d[5:].copy()\n",
    "my_view[0] = 99\n",
    "my_copy[1] = 777\n",
    "print(f\"After modification Original Array: {arr1d}\")\n",
    "print(f\"my_view: {my_view}\")\n",
    "print(f\"my_copy: {my_copy}\")"
   ]
  },
  {
   "cell_type": "markdown",
   "id": "3085a151-42a5-4420-8da9-80e2781b9db3",
   "metadata": {},
   "source": [
    "- **Explaination**\n",
    "The original array arr1d was modified when we changed my_view, but not when we changed my_copy. This happens because of how NumPy handles memory for performance:\n",
    "    - "
   ]
  },
  {
   "cell_type": "code",
   "execution_count": null,
   "id": "cad4a6c1-86f9-46d3-aeeb-7c6d18320020",
   "metadata": {},
   "outputs": [],
   "source": []
  }
 ],
 "metadata": {
  "kernelspec": {
   "display_name": "Python 3 (ipykernel)",
   "language": "python",
   "name": "python3"
  },
  "language_info": {
   "codemirror_mode": {
    "name": "ipython",
    "version": 3
   },
   "file_extension": ".py",
   "mimetype": "text/x-python",
   "name": "python",
   "nbconvert_exporter": "python",
   "pygments_lexer": "ipython3",
   "version": "3.11.9"
  }
 },
 "nbformat": 4,
 "nbformat_minor": 5
}

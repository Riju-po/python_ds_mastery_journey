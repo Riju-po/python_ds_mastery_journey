{
 "cells": [
  {
   "cell_type": "markdown",
   "id": "6e664643-cf1f-4202-826f-a943098edd33",
   "metadata": {},
   "source": [
    "## **1. Array Shape Manipulation**\n",
    "Often, you'll need to change the shape of your data to make it compatible with other data or algorithms.\n",
    "- **reshape(new_shape):** Reshapes an array without changing its data. The new shape must have the same number of elements as the original.\n",
    "- **T attribute or transpose():** Transposes an array, swapping its axes (rows become columns and columns become rows).\n",
    "- **ravel() or flatten():** Converts a multi-dimensional array into a 1D array.\n",
    "    - **ravel()** creates a view (faster, memory-efficient) if possible.\n",
    "    - **flatten()** always creates a copy."
   ]
  },
  {
   "cell_type": "code",
   "execution_count": 2,
   "id": "97e01c15-ff25-4442-98a2-fca8b8e7186b",
   "metadata": {},
   "outputs": [
    {
     "name": "stdout",
     "output_type": "stream",
     "text": [
      "Original array: [ 0  1  2  3  4  5  6  7  8  9 10 11]\n",
      "\n",
      "Reshaped array (3x4):\n",
      "[[ 0  1  2  3]\n",
      " [ 4  5  6  7]\n",
      " [ 8  9 10 11]]\n",
      "\n",
      "Transposed array (4x3):\n",
      "[[ 0  4  8]\n",
      " [ 1  5  9]\n",
      " [ 2  6 10]\n",
      " [ 3  7 11]]\n",
      "\n",
      "Raveled array: [ 0  1  2  3  4  5  6  7  8  9 10 11]\n",
      "Original reshaped array is also modified:\n",
      "[[100   1   2   3]\n",
      " [  4   5   6   7]\n",
      " [  8   9  10  11]]\n",
      "\n",
      "Flattened array: [ 0  1  2  3  4  5  6  7  8  9 10 11]\n",
      "Original array is NOT modified:\n",
      "[[ 0  1  2  3]\n",
      " [ 4  5  6  7]\n",
      " [ 8  9 10 11]]\n"
     ]
    }
   ],
   "source": [
    "import numpy as np\n",
    "\n",
    "# reshape\n",
    "arr = np.arange(12) # [0, 1, ..., 11]\n",
    "print(f\"Original array: {arr}\")\n",
    "reshaped_arr = arr.reshape(3, 4)\n",
    "print(f\"\\nReshaped array (3x4):\\n{reshaped_arr}\")\n",
    "\n",
    "# transpose\n",
    "print(f\"\\nTransposed array (4x3):\\n{reshaped_arr.T}\")\n",
    "\n",
    "# ravel\n",
    "raveled_arr = reshaped_arr.ravel()\n",
    "print(f\"\\nRaveled array: {raveled_arr}\")\n",
    "raveled_arr[0] = 100 # Modifying the raveled array\n",
    "print(f\"Original reshaped array is also modified:\\n{reshaped_arr}\")\n",
    "\n",
    "# flatten\n",
    "arr2 = np.arange(12).reshape(3, 4)\n",
    "flattened_arr = arr2.flatten()\n",
    "print(f\"\\nFlattened array: {flattened_arr}\")\n",
    "flattened_arr[0] = 999 # Modifying the flattened array\n",
    "print(f\"Original array is NOT modified:\\n{arr2}\")"
   ]
  },
  {
   "cell_type": "markdown",
   "id": "845a719f-6776-4127-83d6-19eb87e57918",
   "metadata": {},
   "source": [
    "## **2. Combining and Splitting Arrays**\n",
    "- **Combining:**\n",
    "    - np.concatenate((arr1, arr2, ...), axis=...): Joins a sequence of arrays along an existing axis.\n",
    "    - np.vstack((arr1, arr2)): Stacks arrays vertically (row-wise). Shortcut for concatenate with axis=0.\n",
    "    - np.hstack((arr1, arr2)): Stacks arrays horizontally (column-wise). Shortcut for concatenate with axis=1.\n",
    "- **Splitting:**\n",
    "    - np.split(arr, num_sections, axis=...): Splits an array into multiple sub-arrays.\n",
    "    - np.hsplit(arr, num_sections) and np.vsplit(arr, num_sections) are convenient shortcuts."
   ]
  },
  {
   "cell_type": "code",
   "execution_count": 2,
   "id": "bdb9fb50-d7b2-4aed-a1f3-14a6d35791e4",
   "metadata": {},
   "outputs": [
    {
     "name": "stdout",
     "output_type": "stream",
     "text": [
      "Vertically stacked:\n",
      "[[1 2]\n",
      " [3 4]\n",
      " [5 6]\n",
      " [7 8]]\n",
      "\n",
      "Horizontally stacked:\n",
      "[[1 2 5 6]\n",
      " [3 4 7 8]]\n",
      "\n",
      "Array to split:\n",
      "[[ 0  1  2  3]\n",
      " [ 4  5  6  7]\n",
      " [ 8  9 10 11]\n",
      " [12 13 14 15]]\n",
      "\n",
      "Top part:\n",
      "[[0 1 2 3]\n",
      " [4 5 6 7]]\n",
      "\n",
      "Bottom part:\n",
      "[[ 8  9 10 11]\n",
      " [12 13 14 15]]\n"
     ]
    }
   ],
   "source": [
    "arr1 = np.array([[1, 2], [3, 4]])\n",
    "arr2 = np.array([[5, 6], [7, 8]])\n",
    "\n",
    "# Vertical stacking\n",
    "vstacked = np.vstack((arr1, arr2))\n",
    "print(f\"Vertically stacked:\\n{vstacked}\")\n",
    "\n",
    "# Horizontal stacking\n",
    "hstacked = np.hstack((arr1, arr2))\n",
    "print(f\"\\nHorizontally stacked:\\n{hstacked}\")\n",
    "\n",
    "# Splitting\n",
    "arr_to_split = np.arange(16).reshape(4, 4)\n",
    "print(f\"\\nArray to split:\\n{arr_to_split}\")\n",
    "\n",
    "# Vertical split into 2 equal parts\n",
    "top, bottom = np.vsplit(arr_to_split, 2)\n",
    "print(f\"\\nTop part:\\n{top}\")\n",
    "print(f\"\\nBottom part:\\n{bottom}\")"
   ]
  },
  {
   "cell_type": "markdown",
   "id": "834a18b2-8129-428c-a24b-8bc2b16c1d47",
   "metadata": {},
   "source": [
    "## **3. Aggregations and Statistical Functions Along Axes**\n",
    "We've seen .sum(), .min(), .max(). By default, they operate on the entire array. However, you can specify an axis to perform the operation along.\n",
    "- **axis=0:** Operates \"down\" the columns.\n",
    "- **axis=1:** Operates \"across\" the rows.\n",
    "This is a critical concept for data analysis."
   ]
  },
  {
   "cell_type": "code",
   "execution_count": 4,
   "id": "75315666-8818-4dd9-bf5a-2459ce0ff4b4",
   "metadata": {},
   "outputs": [
    {
     "name": "stdout",
     "output_type": "stream",
     "text": [
      "Original data:\n",
      "[[1 2 3]\n",
      " [4 5 6]\n",
      " [7 8 9]]\n",
      "\n",
      "Overall sum: 45\n",
      "Sum of each column (axis=0): [12 15 18]\n",
      "Sum of each row (axis=1): [ 6 15 24]\n",
      "\n",
      "Mean of each column (axis=0): [4. 5. 6.]\n",
      "Standard deviation of each row (axis=1): [0.81649658 0.81649658 0.81649658]\n"
     ]
    }
   ],
   "source": [
    "data = np.arange(1, 10).reshape(3, 3)\n",
    "print(f\"Original data:\\n{data}\")\n",
    "\n",
    "# Overall sum (no axis)\n",
    "print(f\"\\nOverall sum: {data.sum()}\")\n",
    "\n",
    "# Sum of each column (axis=0)\n",
    "print(f\"Sum of each column (axis=0): {data.sum(axis=0)}\")\n",
    "\n",
    "# Sum of each row (axis=1)\n",
    "print(f\"Sum of each row (axis=1): {data.sum(axis=1)}\")\n",
    "\n",
    "# Other common functions: .mean(), .std() (standard deviation), .var() (variance)\n",
    "print(f\"\\nMean of each column (axis=0): {data.mean(axis=0)}\")\n",
    "print(f\"Standard deviation of each row (axis=1): {data.std(axis=1)}\")"
   ]
  },
  {
   "cell_type": "markdown",
   "id": "1504890d-08bc-458d-bedc-e6eb5b110537",
   "metadata": {},
   "source": [
    "## **4. Broadcasting**\n",
    "This is a powerful mechanism that allows NumPy to work with arrays of different shapes when performing arithmetic operations. In short, NumPy \"broadcasts\" the smaller array across the larger array so that they have compatible shapes.\n",
    "- **Rule 1:** If the two arrays differ in their number of dimensions, the shape of the one with fewer dimensions is padded with ones on its leading (left) side.\n",
    "- **Rule 2:** If the shape of the two arrays does not match in any dimension, the array with shape equal to 1 in that dimension is stretched to match the other shape.\n",
    "- **Rule 3:** If in any dimension the sizes disagree and neither is equal to 1, an error is raised."
   ]
  },
  {
   "cell_type": "code",
   "execution_count": 5,
   "id": "243a3121-c7cd-4b4f-b778-1842dc73c648",
   "metadata": {},
   "outputs": [
    {
     "name": "stdout",
     "output_type": "stream",
     "text": [
      "Adding a scalar (broadcasting):\n",
      "[6 7 8]\n",
      "\n",
      "Matrix:\n",
      "[[1. 1. 1.]\n",
      " [1. 1. 1.]\n",
      " [1. 1. 1.]]\n",
      "Vector: [0 1 2]\n",
      "\n",
      "Matrix + Vector (broadcasting):\n",
      "[[1. 2. 3.]\n",
      " [1. 2. 3.]\n",
      " [1. 2. 3.]]\n"
     ]
    }
   ],
   "source": [
    "# Simple example: adding a scalar to an array\n",
    "arr = np.array([1, 2, 3])\n",
    "scalar_add = arr + 5 # The scalar 5 is \"broadcast\" to each element\n",
    "print(f\"Adding a scalar (broadcasting):\\n{scalar_add}\")\n",
    "\n",
    "# More complex example: adding a 1D array to a 2D array\n",
    "matrix = np.ones((3, 3)) # A 3x3 matrix of ones\n",
    "vector = np.arange(3)    # A 1D array [0, 1, 2]\n",
    "\n",
    "print(f\"\\nMatrix:\\n{matrix}\")\n",
    "print(f\"Vector: {vector}\")\n",
    "\n",
    "# Add the vector to each row of the matrix\n",
    "# The vector's shape (3,) is broadcast across the matrix's shape (3, 3)\n",
    "result = matrix + vector\n",
    "print(f\"\\nMatrix + Vector (broadcasting):\\n{result}\")"
   ]
  },
  {
   "cell_type": "markdown",
   "id": "877560d5-7dc2-4431-8690-d9af039eb438",
   "metadata": {},
   "source": [
    "## **Exercises**"
   ]
  },
  {
   "cell_type": "markdown",
   "id": "ffbdce3e-4150-4465-8add-aba3cca20a28",
   "metadata": {},
   "source": [
    "**1. Reshaping and Stacking:**\n",
    "- Create two 1D NumPy arrays: arr_a = np.arange(10) and arr_b = np.arange(10, 20).\n",
    "- Reshape both arrays into a (2, 5) shape.\n",
    "- Stack them vertically (vstack) to create a single (4, 5) array.\n",
    "- Stack them horizontally (hstack) to create a single (2, 10) array.\n",
    "- Print all resulting arrays with descriptive labels."
   ]
  },
  {
   "cell_type": "code",
   "execution_count": 8,
   "id": "27dd868b-3017-4b4c-8c12-ed418a8937bc",
   "metadata": {},
   "outputs": [
    {
     "name": "stdout",
     "output_type": "stream",
     "text": [
      "Reshaped arr_a:\n",
      "[[0 1 2 3 4]\n",
      " [5 6 7 8 9]]\n",
      "\n",
      "Reshaped arr_b:\n",
      "[[10 11 12 13 14]\n",
      " [15 16 17 18 19]]\n",
      "\n",
      "Vstacked array:\n",
      "[[ 0  1  2  3  4]\n",
      " [ 5  6  7  8  9]\n",
      " [10 11 12 13 14]\n",
      " [15 16 17 18 19]]\n",
      "\n",
      "Hstacked array:\n",
      "[[ 0  1  2  3  4 10 11 12 13 14]\n",
      " [ 5  6  7  8  9 15 16 17 18 19]]\n"
     ]
    }
   ],
   "source": [
    "arr_a = np.arange(10)\n",
    "arr_b = np.arange(10, 20)\n",
    "\n",
    "reshape_arr_a = arr_a.reshape(2,5)\n",
    "print(f\"Reshaped arr_a:\\n{reshape_arr_a}\")\n",
    "\n",
    "reshape_arr_b = arr_b.reshape(2,5)\n",
    "print(f\"\\nReshaped arr_b:\\n{reshape_arr_b}\")\n",
    "\n",
    "vstacked = np.vstack((reshape_arr_a, reshape_arr_b))\n",
    "print(f\"\\nVstacked array:\\n{vstacked}\")\n",
    "\n",
    "hstacked = np.hstack((reshape_arr_a, reshape_arr_b))\n",
    "print(f\"\\nHstacked array:\\n{hstacked}\")"
   ]
  },
  {
   "cell_type": "markdown",
   "id": "74162790-819e-4efb-abbb-77d8986788a0",
   "metadata": {},
   "source": [
    "**2. Axis-wise Operations:**\n",
    "- Create a 4x3 array of random integers between 0 and 100.\n",
    "- Calculate and print the mean of each column.\n",
    "- Calculate and print the minimum value in each row.\n",
    "- Find the index of the maximum value in the entire flattened array (Hint: use .argmax())."
   ]
  },
  {
   "cell_type": "code",
   "execution_count": 22,
   "id": "9d935397-1f39-45f9-9b37-ef3b1a7b0ba4",
   "metadata": {},
   "outputs": [
    {
     "name": "stdout",
     "output_type": "stream",
     "text": [
      "4x3 Array:\n",
      "[[87 88 90]\n",
      " [85 84 65]\n",
      " [14 93 47]\n",
      " [26 16 51]]\n",
      "\n",
      "Mean of each column: [53.   70.25 63.25]\n",
      "\n",
      "Minimum value of each row: [87 65 14 16]\n",
      "\n",
      "Flattened Array: [87 88 90 85 84 65 14 93 47 26 16 51]\n",
      "\n",
      "Index of the maximum value of the flattened array: 7\n"
     ]
    }
   ],
   "source": [
    "arr = np.random.randint(0,101, size = (4,3))\n",
    "\n",
    "print(f\"4x3 Array:\\n{arr}\")\n",
    "print(f\"\\nMean of each column: {arr.mean(axis = 0)}\")\n",
    "print(f\"\\nMinimum value of each row: {arr.min(axis = 1)}\")\n",
    "\n",
    "flattened_arr = arr.flatten()\n",
    "print(f\"\\nFlattened Array: {flattened_arr}\")\n",
    "print(f\"\\nIndex of the maximum value of the flattened array: {flattened_arr.argmax()}\")"
   ]
  },
  {
   "cell_type": "markdown",
   "id": "fa164dde-06e4-42b1-8897-268aebcb87d3",
   "metadata": {},
   "source": [
    "**3. Broadcasting Challenge:**\n",
    "- Create a 1D NumPy array representing 3 data points: data_points = np.array([10, 20, 30]).\n",
    "- Create a 2D NumPy array representing 3 weights for each data point: weights = np.array([[0.2, 0.3, 0.5], [0.1, 0.8, 0.1], [0.4, 0.4, 0.2]]). The shape should be (3, 3).\n",
    "- Your goal is to \"normalize\" the data_points by subtracting the mean of the data points from each point, and then multiply these centered points by the weights matrix.\n",
    "- Step 1: Calculate the mean of data_points.\n",
    "- Step 2: Use broadcasting to subtract the mean from data_points to create a new centered_points array.\n",
    "- Step 3: This is tricky. The shapes are (3, 3) for weights and (3,) for centered_points. To multiply them element-wise, you need to reshape centered_points to (3, 1) so it can broadcast across the columns of weights. Use .reshape(3, 1).\n",
    "- Step 4: Multiply the weights matrix by the reshaped centered_points array.\n",
    "- Print the mean, centered_points, and the final result."
   ]
  },
  {
   "cell_type": "code",
   "execution_count": 35,
   "id": "6124ff05-2ff2-4f7d-a938-8541a2384c7f",
   "metadata": {},
   "outputs": [
    {
     "name": "stdout",
     "output_type": "stream",
     "text": [
      "Mean of the data points: 20.0\n",
      "\n",
      "Centered points:\n",
      "[-10.   0.  10.]\n",
      "\n",
      "Reshaped centered points:\n",
      "[[-10.]\n",
      " [  0.]\n",
      " [ 10.]]\n",
      "\n",
      "Result after multiplying reshaped_centered_points with weights:\n",
      "[[-2. -3. -5.]\n",
      " [ 0.  0.  0.]\n",
      " [ 4.  4.  2.]]\n"
     ]
    }
   ],
   "source": [
    "data_points = np.array([10, 20, 30])\n",
    "weights = np.array([[0.2, 0.3, 0.5], [0.1, 0.8, 0.1], [0.4, 0.4, 0.2]])\n",
    "\n",
    "mean_data_points = data_points.mean()\n",
    "print(f\"Mean of the data points: {mean_data_points}\")\n",
    "\n",
    "centered_points = data_points - mean_data_points\n",
    "print(f\"\\nCentered points:\\n{centered_points}\")\n",
    "reshaped_centered_points = centered_points.reshape(3,1)\n",
    "print(f\"\\nReshaped centered points:\\n{reshaped_centered_points}\")\n",
    "result = reshaped_centered_points * weights\n",
    "print(f\"\\nResult after multiplying reshaped_centered_points with weights:\\n{result}\")"
   ]
  },
  {
   "cell_type": "code",
   "execution_count": null,
   "id": "4c970e3e-0672-46f7-bc4f-dfccbbcfd7b2",
   "metadata": {},
   "outputs": [],
   "source": []
  }
 ],
 "metadata": {
  "kernelspec": {
   "display_name": "Python 3 (ipykernel)",
   "language": "python",
   "name": "python3"
  },
  "language_info": {
   "codemirror_mode": {
    "name": "ipython",
    "version": 3
   },
   "file_extension": ".py",
   "mimetype": "text/x-python",
   "name": "python",
   "nbconvert_exporter": "python",
   "pygments_lexer": "ipython3",
   "version": "3.11.9"
  }
 },
 "nbformat": 4,
 "nbformat_minor": 5
}

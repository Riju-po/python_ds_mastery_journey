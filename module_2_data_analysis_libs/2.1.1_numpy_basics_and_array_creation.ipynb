{
 "cells": [
  {
   "cell_type": "markdown",
   "id": "221b8d33-bb55-4069-9ff6-c173d53514a5",
   "metadata": {},
   "source": [
    "## **1. Importing NumPy**\n",
    "By convention, NumPy is always imported with the alias **np**."
   ]
  },
  {
   "cell_type": "code",
   "execution_count": 2,
   "id": "84ac2ea8-ae4c-4c52-a9d9-24c8b54afa30",
   "metadata": {},
   "outputs": [],
   "source": [
    "import numpy as np"
   ]
  },
  {
   "cell_type": "markdown",
   "id": "d963c859-078d-484f-a940-3e66f9efa0f2",
   "metadata": {},
   "source": [
    "## **2. The NumPy ndarray**\n",
    "The core object is the ndarray (n-dimensional array). It's a grid of values, all of the same type.\n",
    "- From a Python List: The most common way to create an array."
   ]
  },
  {
   "cell_type": "code",
   "execution_count": 4,
   "id": "8217599c-aefc-4b53-a85a-6657f7f81220",
   "metadata": {},
   "outputs": [
    {
     "data": {
      "text/plain": [
       "array([[1, 2, 3],\n",
       "       [4, 5, 6]])"
      ]
     },
     "execution_count": 4,
     "metadata": {},
     "output_type": "execute_result"
    }
   ],
   "source": [
    "list2d = [[1, 2, 3], [4, 5, 6]]\n",
    "arr2d = np.array(list2d)\n",
    "arr2d"
   ]
  },
  {
   "cell_type": "markdown",
   "id": "ca34529a-f14e-4639-8782-85e34c6c50ba",
   "metadata": {},
   "source": [
    "- Attributes of an Array:\n",
    "    - **ndim:** The number of dimensions (or axes).\n",
    "    - **shape:** A tuple indicating the size of the array in each dimension.\n",
    "    - **size:** The total number of elements in the array.\n",
    "    - **dtype:** The data type of the elements in the array."
   ]
  },
  {
   "cell_type": "code",
   "execution_count": 2,
   "id": "be663927-05ca-4fb6-b4a1-48701920fd21",
   "metadata": {},
   "outputs": [
    {
     "name": "stdout",
     "output_type": "stream",
     "text": [
      "1D Array:\n",
      "[1 2 3 4 5]\n",
      "Dimensions (ndim): 1\n",
      "Shape: (5,)\n",
      "Size: 5\n",
      "Data type (dtype): int64\n",
      "\n",
      "2D Array:\n",
      "[[1 2 3]\n",
      " [4 5 6]]\n",
      "Dimensions (ndim): 2\n",
      "Shape: (2, 3)\n",
      "Size: 6\n",
      "Data type (dtype): int64\n",
      "\n",
      "Float array dtype: float64\n"
     ]
    }
   ],
   "source": [
    "# 1-dimensional array (vector)\n",
    "list1 = [1, 2, 3, 4, 5]\n",
    "arr1d = np.array(list1)\n",
    "\n",
    "print(\"1D Array:\")\n",
    "print(arr1d)\n",
    "print(f\"Dimensions (ndim): {arr1d.ndim}\")\n",
    "print(f\"Shape: {arr1d.shape}\") # Note the comma, indicating it's a tuple\n",
    "print(f\"Size: {arr1d.size}\")\n",
    "print(f\"Data type (dtype): {arr1d.dtype}\")\n",
    "\n",
    "# 2-dimensional array (matrix)\n",
    "list2 = [[1, 2, 3], [4, 5, 6]]\n",
    "arr2d = np.array(list2)\n",
    "\n",
    "print(\"\\n2D Array:\")\n",
    "print(arr2d)\n",
    "print(f\"Dimensions (ndim): {arr2d.ndim}\")\n",
    "print(f\"Shape: {arr2d.shape}\") # (2 rows, 3 columns)\n",
    "print(f\"Size: {arr2d.size}\")\n",
    "print(f\"Data type (dtype): {arr2d.dtype}\")\n",
    "\n",
    "# Specifying the data type on creation\n",
    "arr_float = np.array([1, 2, 3], dtype=np.float64)\n",
    "print(f\"\\nFloat array dtype: {arr_float.dtype}\")"
   ]
  },
  {
   "cell_type": "markdown",
   "id": "7d92c9da-ee1f-4ded-a5d6-6b3258cfe819",
   "metadata": {},
   "source": [
    "## **3. Built-in Array Creation Functions**\n",
    "NumPy provides functions to create arrays from scratch, which is very common.\n",
    "- **np.zeros(shape):** Creates an array of the given shape, filled with zeros.\n",
    "- **np.ones(shape):** Creates an array filled with ones.\n",
    "- **np.full(shape, fill_value):** Creates an array of the given shape, filled with a specific value.\n",
    "- **np.arange(start, stop, step):** Like Python's range(), but returns a NumPy array.\n",
    "- **np.linspace(start, stop, num):** Creates an array with a specified number (num) of evenly spaced values between start and stop (inclusive).\n",
    "- **np.random.rand(d0, d1, ...):** Creates an array of the given shape with random values in [0, 1).\n",
    "- **np.random.randn(d0, d1, ...):** Creates an array of the given shape with random values from a standard normal distribution (mean 0, variance 1).\n",
    "- **np.random.randint(low, high, size):** Creates an array of the given size with random integers between low (inclusive) and high (exclusive).\n",
    "- **np.eye(N):** Creates an N x N identity matrix (ones on the diagonal, zeros elsewhere)."
   ]
  },
  {
   "cell_type": "code",
   "execution_count": 5,
   "id": "b23b3ebd-3d72-4cdf-9fd6-661fefb998c2",
   "metadata": {},
   "outputs": [
    {
     "name": "stdout",
     "output_type": "stream",
     "text": [
      "\n",
      "Zeros array:\n",
      "[[0. 0. 0. 0.]\n",
      " [0. 0. 0. 0.]\n",
      " [0. 0. 0. 0.]]\n",
      "\n",
      "Ones array:\n",
      "[[[1. 1.]\n",
      "  [1. 1.]\n",
      "  [1. 1.]]\n",
      "\n",
      " [[1. 1.]\n",
      "  [1. 1.]\n",
      "  [1. 1.]]]\n",
      "\n",
      "Arange array:\n",
      "[ 0  1  2  3  4  5  6  7  8  9 10 11 12 13 14 15 16 17 18 19]\n",
      "\n",
      "Linspace array:\n",
      "[ 0.   2.5  5.   7.5 10. ]\n",
      "\n",
      "Random uniform array:\n",
      "[[0.65528952 0.61402548 0.64254285]\n",
      " [0.93754225 0.87300696 0.94025591]]\n",
      "\n",
      "Random integer array:\n",
      "[[47 98 87]\n",
      " [12 58 72]\n",
      " [67 61 49]]\n"
     ]
    }
   ],
   "source": [
    "# Create a 3x4 array of zeros\n",
    "zeros_arr = np.zeros((3, 4))\n",
    "print(f\"\\nZeros array:\\n{zeros_arr}\")\n",
    "\n",
    "# Create a 2x3x2 array of ones\n",
    "ones_arr = np.ones((2, 3, 2))\n",
    "print(f\"\\nOnes array:\\n{ones_arr}\")\n",
    "\n",
    "# Create an array from 0 to 19\n",
    "range_arr = np.arange(20)\n",
    "print(f\"\\nArange array:\\n{range_arr}\")\n",
    "\n",
    "# Create 5 evenly spaced numbers between 0 and 10\n",
    "linspace_arr = np.linspace(0, 10, 5)\n",
    "print(f\"\\nLinspace array:\\n{linspace_arr}\")\n",
    "\n",
    "# Create a 2x3 array of random numbers (uniform distribution)\n",
    "rand_arr = np.random.rand(2, 3)\n",
    "print(f\"\\nRandom uniform array:\\n{rand_arr}\")\n",
    "\n",
    "# Create a 3x3 array of random integers between 1 and 100\n",
    "randint_arr = np.random.randint(1, 101, size=(3, 3))\n",
    "print(f\"\\nRandom integer array:\\n{randint_arr}\")"
   ]
  },
  {
   "cell_type": "markdown",
   "id": "702a6615-dcc1-4383-9860-3dec079bba1f",
   "metadata": {},
   "source": [
    "## **4. The \"Amaze\" Factor: Vectorization and Performance**\n",
    "This is the most important concept. Let's see why NumPy is fast. We'll time the same operation (squaring every element in a sequence) using a standard Python for loop vs. a vectorized NumPy operation."
   ]
  },
  {
   "cell_type": "code",
   "execution_count": 6,
   "id": "483b55e8-77af-4de1-8228-e27c0c01a5ef",
   "metadata": {},
   "outputs": [
    {
     "name": "stdout",
     "output_type": "stream",
     "text": [
      "Timing the Python for loop:\n",
      "105 ms ± 2.32 ms per loop (mean ± std. dev. of 7 runs, 10 loops each)\n",
      "\n",
      "Timing the vectorized NumPy operation:\n",
      "4.02 ms ± 79.3 μs per loop (mean ± std. dev. of 7 runs, 100 loops each)\n"
     ]
    }
   ],
   "source": [
    "# Create a large sequence of numbers\n",
    "# Using a Python list\n",
    "python_list = list(range(1_000_000))\n",
    "\n",
    "# Using a NumPy array\n",
    "numpy_array = np.arange(1_000_000)\n",
    "\n",
    "# Time the Python for loop\n",
    "# %timeit is a Jupyter magic command that runs the code multiple times\n",
    "# to get an accurate measurement of its execution time.\n",
    "print(\"Timing the Python for loop:\")\n",
    "%timeit squared_list = [x**2 for x in python_list]\n",
    "\n",
    "# Time the vectorized NumPy operation\n",
    "print(\"\\nTiming the vectorized NumPy operation:\")\n",
    "%timeit squared_array = numpy_array ** 2"
   ]
  },
  {
   "cell_type": "markdown",
   "id": "5dcb2f16-042e-4be9-8c9a-0f4b18fcd696",
   "metadata": {},
   "source": [
    "## **Exercises**"
   ]
  },
  {
   "cell_type": "markdown",
   "id": "e423c28a-2e8b-4c63-829b-52530350b959",
   "metadata": {},
   "source": [
    "**1. Array from List:**\n",
    "- Create a Python list of numbers [10, 20, 30, 40, 50].\n",
    "- Convert this list into a NumPy array.\n",
    "- Create a Python nested list [[1, 2], [3, 4], [5, 6]].\n",
    "- Convert this nested list into a 2D NumPy array.\n",
    "- Print both arrays and their shape and ndim attributes."
   ]
  },
  {
   "cell_type": "code",
   "execution_count": 16,
   "id": "11bad0fa-ea88-48d9-854a-e061070e5356",
   "metadata": {},
   "outputs": [
    {
     "name": "stdout",
     "output_type": "stream",
     "text": [
      "********\n",
      " NumPy Array:\n",
      " [10 20 30 40 50]\n",
      "Shape: (5,)\n",
      "Dimention: 1\n",
      "\n",
      "********\n",
      " NumPy Array:\n",
      " [[1 2]\n",
      " [3 4]\n",
      " [5 6]]\n",
      "Shape: (3, 2)\n",
      "Dimention: 2\n"
     ]
    }
   ],
   "source": [
    "print(\"********\")\n",
    "list1 = [10, 20, 30, 40, 50]\n",
    "arr1d = np.array(list1)\n",
    "print(f\" NumPy Array:\\n {arr1d}\")\n",
    "print(f\"Shape: {arr1d.shape}\")\n",
    "print(f\"Dimention: {arr1d.ndim}\")\n",
    "print(\"\\n********\")\n",
    "\n",
    "list2 = [[1, 2], [3, 4], [5, 6]]\n",
    "arr2d = np.array(list2)\n",
    "print(f\" NumPy Array:\\n {arr2d}\")\n",
    "print(f\"Shape: {arr2d.shape}\")\n",
    "print(f\"Dimention: {arr2d.ndim}\")"
   ]
  },
  {
   "cell_type": "markdown",
   "id": "5a68dbc6-ed5b-4f5e-a084-f5a5b4ccc5e2",
   "metadata": {},
   "source": [
    "**2. Specialized Arrays:**\n",
    "- Create a 3x3 NumPy array filled with the value 8, using np.full().\n",
    "- Create a NumPy array of all the even numbers from 20 to 50 (inclusive) using np.arange().\n",
    "- Create a 4x4 identity matrix using np.eye().\n",
    "- Print all three arrays."
   ]
  },
  {
   "cell_type": "code",
   "execution_count": 23,
   "id": "6b2bbf3e-cfc5-4f94-8dcd-be7cdc36106f",
   "metadata": {},
   "outputs": [
    {
     "name": "stdout",
     "output_type": "stream",
     "text": [
      "3x3 NumPy array filled with the value 8:\n",
      "[[8 8 8]\n",
      " [8 8 8]\n",
      " [8 8 8]]\n",
      "\n",
      "A NumPy array of all the even numbers from 20 to 50:\n",
      "[20 22 24 26 28 30 32 34 36 38 40 42 44 46 48 50]\n",
      "\n",
      "A 4x4 identity matrix:\n",
      "[[1. 0. 0. 0.]\n",
      " [0. 1. 0. 0.]\n",
      " [0. 0. 1. 0.]\n",
      " [0. 0. 0. 1.]]\n"
     ]
    }
   ],
   "source": [
    "arr = np.full([3,3], 8)\n",
    "print(f\"3x3 NumPy array filled with the value 8:\\n{arr}\")\n",
    "\n",
    "arr2 = np.arange(20,51,2)\n",
    "print(f\"\\nA NumPy array of all the even numbers from 20 to 50:\\n{arr2}\")\n",
    "\n",
    "arr3 = np.eye(4)\n",
    "print(f\"\\nA 4x4 identity matrix:\\n{arr3}\")"
   ]
  },
  {
   "cell_type": "markdown",
   "id": "5a926e39-bc08-4a3a-bc2a-527c7c4718a6",
   "metadata": {},
   "source": [
    "**3. Random Number Generation and Basic Stats:**\n",
    "- Create a 5x5 NumPy array of random integers between 10 and 20 (inclusive of 10, exclusive of 21).\n",
    "Print the array.\n",
    "- From this array, find and print the maximum value, minimum value, and the overall sum of all elements (Hint: look for array methods like .max(), .min(), and .sum())."
   ]
  },
  {
   "cell_type": "code",
   "execution_count": 30,
   "id": "b7c1b41f-ff70-4ad3-a2d9-7526f8847995",
   "metadata": {},
   "outputs": [
    {
     "name": "stdout",
     "output_type": "stream",
     "text": [
      "\n",
      "A 5x5 NumPy array of random integers between 10 and 20:\n",
      "[[13 10 16 11 16]\n",
      " [18 16 13 10 11]\n",
      " [13 19 10 16 15]\n",
      " [10 12 13 15 16]\n",
      " [18 17 16 16 16]]\n",
      "Maximum Value: 19\n",
      "Minimum Value: 10\n",
      "Sum: 356\n"
     ]
    }
   ],
   "source": [
    "arr4 = np.random.randint(10,20, size = (5,5))\n",
    "print(f\"\\nA 5x5 NumPy array of random integers between 10 and 20:\\n{arr4}\")\n",
    "print(f\"Maximum Value: {arr4.max()}\")\n",
    "print(f\"Minimum Value: {arr4.min()}\")\n",
    "print(f\"Sum: {arr4.sum()}\")"
   ]
  },
  {
   "cell_type": "code",
   "execution_count": null,
   "id": "e065c0ae-1720-4e60-a8d1-b001f4bc92c5",
   "metadata": {},
   "outputs": [],
   "source": []
  }
 ],
 "metadata": {
  "kernelspec": {
   "display_name": "Python 3 (ipykernel)",
   "language": "python",
   "name": "python3"
  },
  "language_info": {
   "codemirror_mode": {
    "name": "ipython",
    "version": 3
   },
   "file_extension": ".py",
   "mimetype": "text/x-python",
   "name": "python",
   "nbconvert_exporter": "python",
   "pygments_lexer": "ipython3",
   "version": "3.11.9"
  }
 },
 "nbformat": 4,
 "nbformat_minor": 5
}

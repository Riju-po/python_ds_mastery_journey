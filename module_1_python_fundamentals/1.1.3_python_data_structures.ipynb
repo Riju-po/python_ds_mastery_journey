{
 "cells": [
  {
   "cell_type": "markdown",
   "id": "906bfcd0-fb02-43fd-8ddf-ed8391d2b610",
   "metadata": {},
   "source": [
    "## Lists, Tuples, Dictionaries, Sets"
   ]
  },
  {
   "cell_type": "markdown",
   "id": "0d8d53b0-7b0a-42bc-8a74-7ed51f91b203",
   "metadata": {
    "jp-MarkdownHeadingCollapsed": true
   },
   "source": [
    "### **1. Lists**"
   ]
  },
  {
   "cell_type": "code",
   "execution_count": 1,
   "id": "c699eef4-6577-4dc1-8ad7-4bd533ab0857",
   "metadata": {},
   "outputs": [
    {
     "name": "stdout",
     "output_type": "stream",
     "text": [
      "[2, 3, 5, 7, 11, 13]\n",
      "['apple', 'banana', 'cherry']\n",
      "[1, 'hello', 3.14, True]\n",
      "[]\n",
      "[1, 2, 3, ['a', 'b', 'c']]\n"
     ]
    }
   ],
   "source": [
    "# A list of numbers\n",
    "primes = [2, 3, 5, 7, 11, 13]\n",
    "print(primes)\n",
    "\n",
    "# A list of strings\n",
    "fruits = [\"apple\", \"banana\", \"cherry\"]\n",
    "print(fruits)\n",
    "\n",
    "# A mixed-type list\n",
    "mixed_list = [1, \"hello\", 3.14, True]\n",
    "print(mixed_list)\n",
    "\n",
    "# An empty list\n",
    "empty_list = []\n",
    "print(empty_list)\n",
    "\n",
    "# A list can contain another list (nested list)\n",
    "nested_list = [1, 2, 3, [\"a\", \"b\", \"c\"]]\n",
    "print(nested_list)"
   ]
  },
  {
   "cell_type": "markdown",
   "id": "2bd0f09f-4e44-4b27-824f-4c9a0ccd1d44",
   "metadata": {},
   "source": [
    "***Accessing and Modifying List Items***"
   ]
  },
  {
   "cell_type": "code",
   "execution_count": 4,
   "id": "3ce07797-6c03-4ea2-9db8-6ce93087263f",
   "metadata": {
    "scrolled": true
   },
   "outputs": [
    {
     "name": "stdout",
     "output_type": "stream",
     "text": [
      "First fruit: apple\n",
      "Last fruit: mango\n",
      "A slice of fruits: ['cherry', 'orange', 'kiwi']\n",
      "After modification: ['apple', 'blackberry', 'cherry', 'orange', 'kiwi', 'melon', 'mango']\n",
      "After slice modification: ['apple', 'blackberry', 'cherry', 'raspberry', 'strawberry', 'melon', 'mango']\n"
     ]
    }
   ],
   "source": [
    "fruits = [\"apple\", \"banana\", \"cherry\", \"orange\", \"kiwi\", \"melon\", \"mango\"]\n",
    "\n",
    "# Accessing\n",
    "print(f\"First fruit: {fruits[0]}\")\n",
    "print(f\"Last fruit: {fruits[-1]}\")\n",
    "print(f\"A slice of fruits: {fruits[2:5]}\")\n",
    "\n",
    "# Modifying a single item\n",
    "fruits[1] = \"blackberry\"\n",
    "print(f\"After modification: {fruits}\")\n",
    "\n",
    "# Modifying a slice\n",
    "fruits[3:5] = [\"raspberry\", \"strawberry\"] # Replaces \"orange\" and \"kiwi\"\n",
    "print(f\"After slice modification: {fruits}\")"
   ]
  },
  {
   "cell_type": "markdown",
   "id": "fe9d97da-7719-476c-aad1-35bb7d6bb4b3",
   "metadata": {},
   "source": [
    "***Common List Methods***"
   ]
  },
  {
   "cell_type": "markdown",
   "id": "bf439328-9b26-402d-9d65-744c70ef13ca",
   "metadata": {},
   "source": [
    "****Adding Items:****"
   ]
  },
  {
   "cell_type": "code",
   "execution_count": 3,
   "id": "ec7ab64a-2476-4777-8d55-e4d419128ddd",
   "metadata": {},
   "outputs": [
    {
     "name": "stdout",
     "output_type": "stream",
     "text": [
      "After append: ['apple', 'banana', 'cherry']\n",
      "After insert: ['apple', 'orange', 'banana', 'cherry']\n",
      "After extend: ['apple', 'orange', 'banana', 'cherry', 'strawberry', 'blueberry']\n"
     ]
    }
   ],
   "source": [
    "fruits = [\"apple\", \"banana\"]\n",
    "fruits.append(\"cherry\")\n",
    "print(f\"After append: {fruits}\")\n",
    "\n",
    "fruits.insert(1, \"orange\") # Inserts \"orange\" at index 1\n",
    "print(f\"After insert: {fruits}\")\n",
    "\n",
    "more_fruits = [\"strawberry\", \"blueberry\"]\n",
    "fruits.extend(more_fruits)\n",
    "print(f\"After extend: {fruits}\")"
   ]
  },
  {
   "cell_type": "markdown",
   "id": "642518ea-a88c-44bd-bbf8-b8f7dc4f57ad",
   "metadata": {},
   "source": [
    "****Removing Items:****"
   ]
  },
  {
   "cell_type": "code",
   "execution_count": 5,
   "id": "7b1c28b3-992a-458f-826a-db2b4a108985",
   "metadata": {},
   "outputs": [
    {
     "name": "stdout",
     "output_type": "stream",
     "text": [
      "After remove: ['apple', 'banana', 'cherry', 'orange']\n",
      "Popped fruit: cherry\n",
      "After pop: ['apple', 'banana', 'orange']\n",
      "After del: ['banana', 'orange']\n",
      "After clear: []\n"
     ]
    }
   ],
   "source": [
    "fruits = ['apple', 'orange', 'banana', 'cherry', 'orange']\n",
    "fruits.remove(\"orange\") # Removes the first \"orange\"\n",
    "print(f\"After remove: {fruits}\")\n",
    "\n",
    "popped_fruit = fruits.pop(2) # Removes and returns 'cherry'\n",
    "print(f\"Popped fruit: {popped_fruit}\")\n",
    "print(f\"After pop: {fruits}\")\n",
    "\n",
    "del fruits[0] # Deletes 'apple'\n",
    "print(f\"After del: {fruits}\")\n",
    "\n",
    "fruits.clear()\n",
    "print(f\"After clear: {fruits}\")"
   ]
  },
  {
   "cell_type": "markdown",
   "id": "57725cfa-a26b-4334-914d-7676f506e9f1",
   "metadata": {},
   "source": [
    "****Other Useful Methods and Functions:****"
   ]
  },
  {
   "cell_type": "code",
   "execution_count": 7,
   "id": "3854f15b-a675-4d18-a228-79243cb744ba",
   "metadata": {},
   "outputs": [
    {
     "name": "stdout",
     "output_type": "stream",
     "text": [
      "Original numbers: [5, 2, 8, 1, 9, 3]\n",
      "Sorted (new list): [1, 2, 3, 5, 8, 9]\n",
      "Original is unchanged: [5, 2, 8, 1, 9, 3]\n",
      "After sort() in-place: [1, 2, 3, 5, 8, 9]\n",
      "Sorted descending: [9, 8, 5, 3, 2, 1]\n",
      "Reversed: [1, 2, 3, 5, 8, 9]\n"
     ]
    }
   ],
   "source": [
    "# len(list): Returns the number of items.\n",
    "# sort(): Sorts the list in place (modifies the original list).\n",
    "# sorted(list): Returns a new, sorted list (original is unchanged).\n",
    "# reverse(): Reverses the order of the list in place.\n",
    "# count(item): Returns the number of times an item appears.\n",
    "# index(item): Returns the index of the first occurrence of an item.\n",
    "# copy(): Returns a shallow copy of the list.\n",
    "\n",
    "numbers = [5, 2, 8, 1, 9, 3]\n",
    "print(f\"Original numbers: {numbers}\")\n",
    "\n",
    "# sorted() returns a new list\n",
    "sorted_numbers = sorted(numbers)\n",
    "print(f\"Sorted (new list): {sorted_numbers}\")\n",
    "print(f\"Original is unchanged: {numbers}\")\n",
    "\n",
    "# sort() modifies the original list\n",
    "numbers.sort()\n",
    "print(f\"After sort() in-place: {numbers}\")\n",
    "numbers.sort(reverse=True) # Sort in descending order\n",
    "print(f\"Sorted descending: {numbers}\")\n",
    "\n",
    "numbers.reverse()\n",
    "print(f\"Reversed: {numbers}\")"
   ]
  },
  {
   "cell_type": "markdown",
   "id": "150cc899-df2c-4429-bb5c-7f93418d963c",
   "metadata": {
    "jp-MarkdownHeadingCollapsed": true
   },
   "source": [
    "### **2. Tuples**"
   ]
  },
  {
   "cell_type": "code",
   "execution_count": 8,
   "id": "0d6dd98f-2902-4125-aea9-5e0c50001b79",
   "metadata": {},
   "outputs": [
    {
     "name": "stdout",
     "output_type": "stream",
     "text": [
      "(10.0, 20.5)\n",
      "('Alice', 30, 'Engineer')\n",
      "Name: Alice\n",
      "Coordinates X: 10.0\n",
      "Last two items of person_data: (30, 'Engineer')\n",
      "This is a tuple: <class 'tuple'>\n",
      "This is not a tuple: <class 'int'>\n"
     ]
    }
   ],
   "source": [
    "# A tuple of numbers\n",
    "coordinates = (10.0, 20.5)\n",
    "print(coordinates)\n",
    "\n",
    "# A tuple with mixed types\n",
    "person_data = (\"Alice\", 30, \"Engineer\")\n",
    "print(person_data)\n",
    "\n",
    "# Accessing works just like lists\n",
    "print(f\"Name: {person_data[0]}\")\n",
    "print(f\"Coordinates X: {coordinates[0]}\")\n",
    "\n",
    "# Slicing works just like lists\n",
    "print(f\"Last two items of person_data: {person_data[1:]}\")\n",
    "\n",
    "# Special case: a tuple with one item needs a trailing comma\n",
    "single_item_tuple = (5,)\n",
    "not_a_tuple = (5) # This is just the integer 5\n",
    "print(f\"This is a tuple: {type(single_item_tuple)}\")\n",
    "print(f\"This is not a tuple: {type(not_a_tuple)}\")\n",
    "\n",
    "# Immutability in action\n",
    "# person_data[0] = \"Bob\" # This will raise a TypeError"
   ]
  },
  {
   "cell_type": "markdown",
   "id": "07d0c4c5-1efe-4342-a7ec-08933151a10a",
   "metadata": {},
   "source": [
    "****Tuple Unpacking****"
   ]
  },
  {
   "cell_type": "code",
   "execution_count": 9,
   "id": "8f8eebe4-eef1-4590-ad30-560d32d02fbb",
   "metadata": {},
   "outputs": [
    {
     "name": "stdout",
     "output_type": "stream",
     "text": [
      "Unpacked Name: Alice\n",
      "Unpacked Age: 30\n",
      "Unpacked Job: Engineer\n"
     ]
    }
   ],
   "source": [
    "person_data = (\"Alice\", 30, \"Engineer\")\n",
    "name, age, job = person_data\n",
    "\n",
    "print(f\"Unpacked Name: {name}\")\n",
    "print(f\"Unpacked Age: {age}\")\n",
    "print(f\"Unpacked Job: {job}\")"
   ]
  },
  {
   "cell_type": "markdown",
   "id": "fd847127-4f94-4c99-8685-096a3b9915c0",
   "metadata": {
    "jp-MarkdownHeadingCollapsed": true
   },
   "source": [
    "### **Exercises for Lists and Tuples:**"
   ]
  },
  {
   "cell_type": "markdown",
   "id": "61db676f-1ae0-4e7f-9622-c42f3f427015",
   "metadata": {},
   "source": [
    "***1. List Manipulation:***"
   ]
  },
  {
   "cell_type": "code",
   "execution_count": 19,
   "id": "4dea002b-f484-4a0f-8a9a-170b474cf963",
   "metadata": {},
   "outputs": [
    {
     "name": "stdout",
     "output_type": "stream",
     "text": [
      "After Append: ['Iron Man', 'Avengers Infinity War', 'Hera Pheri', 'Hera Pheri 2', 'Dr. Strange', 'Money Heist']\n",
      "After Insert at the beginning: ['Daredevil', 'Iron Man', 'Avengers Infinity War', 'Hera Pheri', 'Hera Pheri 2', 'Dr. Strange', 'Money Heist']\n",
      "After removing 'Hera Pheri 2': ['Daredevil', 'Iron Man', 'Avengers Infinity War', 'Hera Pheri', 'Dr. Strange', 'Money Heist']\n",
      "Popped Movie is: Money Heist\n",
      "After popped last movie: ['Daredevil', 'Iron Man', 'Avengers Infinity War', 'Hera Pheri', 'Dr. Strange']\n",
      "Final favorite movies list: ['Avengers Infinity War', 'Daredevil', 'Dr. Strange', 'Hera Pheri', 'Iron Man']\n"
     ]
    }
   ],
   "source": [
    "# Create a list of your favorite movies (as strings).\n",
    "# Add a new movie to the end of the list.\n",
    "# Insert a movie at the beginning of the list.\n",
    "# Remove one of the movies by its name.\n",
    "# Pop the last movie from the list and print a message saying which movie was popped.\n",
    "# Sort the list alphabetically and print the final list.\n",
    "\n",
    "fav_movies = [\"Iron Man\", \"Avengers Infinity War\", \"Hera Pheri\", \"Hera Pheri 2\", \"Dr. Strange\"]\n",
    "fav_movies.append(\"Money Heist\")\n",
    "print(f\"After Append: {fav_movies}\")\n",
    "fav_movies.insert(0, \"Daredevil\")\n",
    "print(f\"After Insert at the beginning: {fav_movies}\")\n",
    "fav_movies.remove(\"Hera Pheri 2\")\n",
    "print(f\"After removing 'Hera Pheri 2': {fav_movies}\")\n",
    "popped_movie = fav_movies.pop(-1)\n",
    "print(f\"Popped Movie is: {popped_movie}\")\n",
    "print(f\"After popped last movie: {fav_movies}\")\n",
    "fav_movies.sort()\n",
    "print(f\"Final favorite movies list: {fav_movies}\")\n"
   ]
  },
  {
   "cell_type": "markdown",
   "id": "9f5f0785-c776-445f-b58f-99e9108ae503",
   "metadata": {},
   "source": [
    "**2. Number Analysis:**"
   ]
  },
  {
   "cell_type": "code",
   "execution_count": 28,
   "id": "4c469732-c031-498d-8d5c-9d098226b23a",
   "metadata": {},
   "outputs": [
    {
     "name": "stdout",
     "output_type": "stream",
     "text": [
      "length: 7 \n",
      "Minimun: 9 \n",
      "Maximum: 30\n",
      "Count of number 25 appears: 2 times\n",
      "Reverse list: [14, 25, 30, 9, 14, 25, 10]\n"
     ]
    }
   ],
   "source": [
    "# Create a list of numbers (e.g., [10, 25, 14, 9, 30, 25, 14]).\n",
    "# Find and print the length, minimum, and maximum of the list (Hint: len(), min(), max() functions).\n",
    "# Count how many times the number 25 appears in the list.\n",
    "# Reverse the list and print it.\n",
    "\n",
    "numbers = [10, 25, 14, 9, 30, 25, 14]\n",
    "print(f\"length: {len(numbers)} \\nMinimun: {min(numbers)} \\nMaximum: {max(numbers)}\")\n",
    "print(f\"Count of number 25 appears: {numbers.count(25)} times\")\n",
    "numbers.reverse()\n",
    "print(f\"Reverse list: {numbers}\")"
   ]
  },
  {
   "cell_type": "markdown",
   "id": "ee09b35a-7458-4f59-8888-d6c2d04acfa8",
   "metadata": {},
   "source": [
    "**3. Tuple Unpacking:**"
   ]
  },
  {
   "cell_type": "code",
   "execution_count": 31,
   "id": "1f77e8d7-05be-4699-8dc9-4f8af65b6ddc",
   "metadata": {},
   "outputs": [
    {
     "name": "stdout",
     "output_type": "stream",
     "text": [
      "Unpacked Product ID: A50SAM\n",
      "Unpacked Product Name: Samsung Galaxy A50 \n",
      "Unpacked Product Price: Rs.19999/-\n"
     ]
    }
   ],
   "source": [
    "# Create a tuple to store a product's information: (product_id, product_name, price).\n",
    "# Use tuple unpacking to assign these values to three separate variables.\n",
    "# Print the variables in a formatted string.\n",
    "\n",
    "product_info = (\"A50SAM\", \"Samsung Galaxy A50\", 19999)\n",
    "product_id, product_name, price = product_info\n",
    "print(f\"Unpacked Product ID: {product_id}\\nUnpacked Product Name: {product_name} \\nUnpacked Product Price: Rs.{price}/-\")"
   ]
  },
  {
   "cell_type": "markdown",
   "id": "0ec76142-38ee-4cc7-9e18-d410e2603ae6",
   "metadata": {},
   "source": [
    "**4. Returning Multiple Values from a \"Function\" (conceptual):**"
   ]
  },
  {
   "cell_type": "code",
   "execution_count": 34,
   "id": "39cb9673-929c-451d-8ca2-03943f61cb59",
   "metadata": {},
   "outputs": [
    {
     "name": "stdout",
     "output_type": "stream",
     "text": [
      "Success Status code: 200, OK\n",
      "Error Status code: 404, Not Found\n"
     ]
    }
   ],
   "source": [
    "# Imagine a function needs to return both a status code and a message. A tuple is a perfect way to do this.\n",
    "# Create two tuples: success_status = (200, \"OK\") and error_status = (404, \"Not Found\").\n",
    "# Using indexing, print the status code and message from each tuple separately.\n",
    "success_status = (200, \"OK\")\n",
    "error_status = (404, \"Not Found\")\n",
    "print(f\"Success Status code: {success_status[0]}, {success_status[1]}\")\n",
    "print(f\"Error Status code: {error_status[0]}, {error_status[1]}\")\n"
   ]
  },
  {
   "cell_type": "markdown",
   "id": "ac833bc6-766c-49f4-97eb-ec837a74b966",
   "metadata": {
    "jp-MarkdownHeadingCollapsed": true
   },
   "source": [
    "### **3. Dictionaries**"
   ]
  },
  {
   "cell_type": "code",
   "execution_count": 11,
   "id": "32e1885f-35ce-49e7-9da7-824e25bfde89",
   "metadata": {},
   "outputs": [
    {
     "name": "stdout",
     "output_type": "stream",
     "text": [
      "{'name': 'Alice', 'age': 25, 'courses': ['Math', 'Physics', 'Computer Science'], 'is_active': True}\n",
      "{}\n"
     ]
    }
   ],
   "source": [
    "# Create a dictionary\n",
    "student = {\n",
    "    \"name\": \"Alice\",\n",
    "    \"age\": 25,\n",
    "    \"courses\": [\"Math\", \"Physics\", \"Computer Science\"],\n",
    "    \"is_active\": True\n",
    "}\n",
    "print(student)\n",
    "\n",
    "# Create an empty dictionary\n",
    "empty_dict = {}\n",
    "print(empty_dict)"
   ]
  },
  {
   "cell_type": "markdown",
   "id": "55f6049b-cf1d-4fd6-95e4-e63f4f885e4d",
   "metadata": {},
   "source": [
    "***Accessing & Modifying/Adding***"
   ]
  },
  {
   "cell_type": "code",
   "execution_count": 12,
   "id": "397a5a24-f962-4e43-86ec-8612ae0a1b0c",
   "metadata": {},
   "outputs": [
    {
     "name": "stdout",
     "output_type": "stream",
     "text": [
      "Student's name: Alice\n",
      "Student's GPA: None\n",
      "Student's GPA (with default): Not available\n",
      "Updated student: {'name': 'Alice', 'age': 26}\n",
      "Student with major: {'name': 'Alice', 'age': 26, 'major': 'Data Science'}\n"
     ]
    }
   ],
   "source": [
    "student = {\"name\": \"Alice\", \"age\": 25}\n",
    "\n",
    "# Accessing with []\n",
    "print(f\"Student's name: {student['name']}\")\n",
    "# print(student['gpa']) # This would raise a KeyError\n",
    "\n",
    "# Accessing with .get() (safer)\n",
    "print(f\"Student's GPA: {student.get('gpa')}\") # Output: None\n",
    "print(f\"Student's GPA (with default): {student.get('gpa', 'Not available')}\")\n",
    "\n",
    "# Modifying an existing key\n",
    "student['age'] = 26\n",
    "print(f\"Updated student: {student}\")\n",
    "\n",
    "# Adding a new key-value pair\n",
    "student['major'] = \"Data Science\"\n",
    "print(f\"Student with major: {student}\")"
   ]
  },
  {
   "cell_type": "markdown",
   "id": "5f22efeb-d572-46fb-86bb-c26f87567657",
   "metadata": {},
   "source": [
    "***Common Dictionary Methods***"
   ]
  },
  {
   "cell_type": "code",
   "execution_count": 13,
   "id": "000babbd-ef38-4852-96e8-aea4bd94f5fa",
   "metadata": {},
   "outputs": [
    {
     "name": "stdout",
     "output_type": "stream",
     "text": [
      "Keys: dict_keys(['name', 'age', 'major'])\n",
      "Values: dict_values(['Alice', 26, 'Data Science'])\n",
      "Items: dict_items([('name', 'Alice'), ('age', 26), ('major', 'Data Science')])\n"
     ]
    }
   ],
   "source": [
    "# keys(): Returns a \"view object\" of all the keys.\n",
    "# values(): Returns a \"view object\" of all the values.\n",
    "# items(): Returns a \"view object\" of all the key-value pairs (as tuples).\n",
    "# These views are dynamic; if you change the dictionary, the view reflects the changes.\n",
    "   \n",
    "print(f\"Keys: {student.keys()}\")\n",
    "print(f\"Values: {student.values()}\")\n",
    "print(f\"Items: {student.items()}\")"
   ]
  },
  {
   "cell_type": "markdown",
   "id": "6dc97b02-21be-4260-a10a-c7597f46f5e4",
   "metadata": {},
   "source": [
    "***Removing Items:***"
   ]
  },
  {
   "cell_type": "code",
   "execution_count": 14,
   "id": "b8086107-5b94-4295-9090-72a9a2f42f57",
   "metadata": {},
   "outputs": [
    {
     "name": "stdout",
     "output_type": "stream",
     "text": [
      "Popped major: Data Science\n",
      "Student after pop: {'name': 'Alice', 'age': 26}\n"
     ]
    }
   ],
   "source": [
    "# pop(key, default): Removes the specified key and returns its value. Raises a KeyError if the key is not found and no default is given.\n",
    "# popitem(): Removes and returns the last inserted key-value pair (as a tuple). In older Python (<3.7), it removes an arbitrary pair.\n",
    "# del dict[key]: Deletes the key-value pair.\n",
    "# clear(): Removes all items.\n",
    "\n",
    "major = student.pop('major')\n",
    "print(f\"Popped major: {major}\")\n",
    "print(f\"Student after pop: {student}\")"
   ]
  },
  {
   "cell_type": "markdown",
   "id": "94f9f959-014e-42c2-9b77-75b1d4f7560c",
   "metadata": {},
   "source": [
    "***Other Useful Methods and Functions:***"
   ]
  },
  {
   "cell_type": "code",
   "execution_count": 23,
   "id": "0517e7b8-9316-4950-8917-79036c4c769e",
   "metadata": {},
   "outputs": [
    {
     "name": "stdout",
     "output_type": "stream",
     "text": [
      "'name' in student: True\n",
      "'gpa' in student: False\n",
      "After update: {'name': 'Alice', 'age': 27, 'city': 'New York'}\n"
     ]
    }
   ],
   "source": [
    "# len(dict): Returns the number of key-value pairs.\n",
    "# update(other_dict): Updates the dictionary with key-value pairs from another dictionary or iterable.\n",
    "# in keyword: Check if a key exists in a dictionary.\n",
    "\n",
    "print(f\"'name' in student: {'name' in student}\")   # True\n",
    "print(f\"'gpa' in student: {'gpa' in student}\")     # False\n",
    "\n",
    "new_info = {\"city\": \"New York\", \"age\": 27} # 'age' will be updated\n",
    "student.update(new_info)\n",
    "print(f\"After update: {student}\")"
   ]
  },
  {
   "cell_type": "markdown",
   "id": "93c80868-8475-477f-8de3-3ae65b5ff59c",
   "metadata": {
    "jp-MarkdownHeadingCollapsed": true
   },
   "source": [
    "### **4. Sets**"
   ]
  },
  {
   "cell_type": "code",
   "execution_count": 33,
   "id": "62201f00-effb-47d1-b7d5-c93bdb7b9980",
   "metadata": {},
   "outputs": [
    {
     "name": "stdout",
     "output_type": "stream",
     "text": [
      "Set from list: {1, 2, 3, 4, 5}\n",
      "{'cherry', 'apple', 'banana'}\n",
      "set()\n"
     ]
    }
   ],
   "source": [
    "# Creating a set from a list (removes duplicates)\n",
    "numbers_list = [1, 2, 2, 3, 4, 4, 4, 5]\n",
    "numbers_set = set(numbers_list)\n",
    "print(f\"Set from list: {numbers_set}\") # Output: {1, 2, 3, 4, 5}\n",
    "\n",
    "# Creating a set with curly braces\n",
    "fruits_set = {\"apple\", \"banana\", \"cherry\"}\n",
    "print(fruits_set)\n",
    "\n",
    "# Important: To create an empty set, you must use set(), not {}. {} creates an empty dictionary.\n",
    "# Creating an empty set\n",
    "empty_set = set()\n",
    "print(empty_set)"
   ]
  },
  {
   "cell_type": "markdown",
   "id": "990be5ff-2aad-4927-beaf-2a5497fae4f2",
   "metadata": {},
   "source": [
    "***Adding and Removing Items***\n",
    "* add(item): Adds a single item to the set.\n",
    "* update(iterable): Adds all items from an iterable.\n",
    "* remove(item): Removes an item. Raises a KeyError if the item is not found.\n",
    "* discard(item): Removes an item. Does not raise an error if the item is not found (safer).\n",
    "* pop(): Removes and returns an arbitrary item from the set.\n",
    "* clear(): Removes all items."
   ]
  },
  {
   "cell_type": "code",
   "execution_count": 34,
   "id": "84fb18f3-8d25-46fb-a820-f4472dc935b0",
   "metadata": {},
   "outputs": [
    {
     "name": "stdout",
     "output_type": "stream",
     "text": [
      "After add: {'cherry', 'apple', 'banana', 'orange'}\n",
      "After remove: {'cherry', 'banana', 'orange'}\n"
     ]
    }
   ],
   "source": [
    "fruits_set.add(\"orange\")\n",
    "print(f\"After add: {fruits_set}\")\n",
    "\n",
    "fruits_set.discard(\"grape\") # Does nothing, no error\n",
    "# fruits_set.remove(\"grape\") # This would raise a KeyError\n",
    "\n",
    "fruits_set.remove(\"apple\")\n",
    "print(f\"After remove: {fruits_set}\")"
   ]
  },
  {
   "cell_type": "markdown",
   "id": "32fcaf70-a9f9-48cf-8ce3-ee938d1e30fd",
   "metadata": {},
   "source": [
    "***Set Operations***\n",
    "* union() or | (pipe operator): Returns a new set containing all items from both sets.\n",
    "* intersection() or &: Returns a new set containing only items present in both sets.\n",
    "* difference() or -: Returns a new set containing items in the first set but not in the second.\n",
    "* symmetric_difference() or ^: Returns a new set containing items in either set, but not both."
   ]
  },
  {
   "cell_type": "code",
   "execution_count": 35,
   "id": "2a080e89-f8a2-444f-9e75-ef7254fc9cd7",
   "metadata": {},
   "outputs": [
    {
     "name": "stdout",
     "output_type": "stream",
     "text": [
      "Union: {1, 2, 3, 4, 5, 6, 7, 8}\n",
      "Intersection: {4, 5}\n",
      "Difference (A - B): {1, 2, 3}\n",
      "Symmetric Difference: {1, 2, 3, 6, 7, 8}\n"
     ]
    }
   ],
   "source": [
    "set_a = {1, 2, 3, 4, 5}\n",
    "set_b = {4, 5, 6, 7, 8}\n",
    "\n",
    "# Union\n",
    "print(f\"Union: {set_a.union(set_b)}\")  # or print(set_a | set_b)\n",
    "# Output: {1, 2, 3, 4, 5, 6, 7, 8}\n",
    "\n",
    "# Intersection\n",
    "print(f\"Intersection: {set_a.intersection(set_b)}\") # or print(set_a & set_b)\n",
    "# Output: {4, 5}\n",
    "\n",
    "# Difference (items in A but not in B)\n",
    "print(f\"Difference (A - B): {set_a.difference(set_b)}\") # or print(set_a - set_b)\n",
    "# Output: {1, 2, 3}\n",
    "\n",
    "# Symmetric Difference (items in one set or the other, but not both)\n",
    "print(f\"Symmetric Difference: {set_a.symmetric_difference(set_b)}\") # or print(set_a ^ set_b)\n",
    "# Output: {1, 2, 3, 6, 7, 8}"
   ]
  },
  {
   "cell_type": "markdown",
   "id": "ae885cf7-9cfa-43ac-945b-a5517eb453f8",
   "metadata": {
    "jp-MarkdownHeadingCollapsed": true
   },
   "source": [
    "### **Exercises for Dictionaries and Sets:**"
   ]
  },
  {
   "cell_type": "markdown",
   "id": "01e760a8-c710-4bb6-bb44-251dbdc607cb",
   "metadata": {},
   "source": [
    "**1. Word Frequency Counter:**\n",
    "- Given a sentence (string).\n",
    "- Create a dictionary where the keys are the unique words in the sentence and\n",
    "- the values are the counts of how many times each word appears.\n",
    "- For a challenge, make it case-insensitive and ignore punctuation.\n",
    "- Example sentence: text = \"The quick brown fox jumps over the lazy dog. The dog was not lazy.\""
   ]
  },
  {
   "cell_type": "code",
   "execution_count": 46,
   "id": "c2d403e3-2083-4c49-8cb0-ab1ef9a5f4f6",
   "metadata": {},
   "outputs": [
    {
     "name": "stdout",
     "output_type": "stream",
     "text": [
      "*************** WORD FREQUENCY COUNTER ***************\n",
      "Word counts: {'the': 3, 'quick': 1, 'brown': 1, 'fox': 1, 'jumps': 1, 'over': 1, 'lazy': 2, 'dog': 2, 'was': 1, 'not': 1}\n"
     ]
    }
   ],
   "source": [
    "word_counts = {}\n",
    "sentence = \"The quick brown fox jumps over the lazy dog. The dog was not lazy.\"\n",
    "sentence = sentence.lower()\n",
    "sentence = sentence.replace('dog.', 'dog').replace('lazy.', 'lazy')\n",
    "words = sentence.split()\n",
    "for word in words:\n",
    "    if word in word_counts:\n",
    "        word_counts[word] = word_counts[word] +1\n",
    "    else:\n",
    "        word_counts[word] = 1\n",
    "print(f\"{'*'*15} WORD FREQUENCY COUNTER {'*'*15}\")\n",
    "print(f\"Word counts: {word_counts}\")"
   ]
  },
  {
   "cell_type": "markdown",
   "id": "b4ef7305-0052-49c6-acef-6d7366dcee07",
   "metadata": {},
   "source": [
    "**2. Contact Book:**\n",
    "- Create a dictionary to act as a contact book. The keys should be names (strings) and the values should be phone numbers (strings).\n",
    "- Add a few contacts.\n",
    "- Access and print the phone number of one of your contacts.\n",
    "- Update the phone number of one of your contacts.\n",
    "- Use the in keyword to check if a contact exists before trying to print their number.\n",
    "- Remove a contact using pop()."
   ]
  },
  {
   "cell_type": "code",
   "execution_count": 81,
   "id": "3caf88a4-0b71-428e-94c1-e0ed612a00e8",
   "metadata": {},
   "outputs": [
    {
     "name": "stdin",
     "output_type": "stream",
     "text": [
      "Enter Name to get phone number:  hh\n"
     ]
    },
    {
     "name": "stdout",
     "output_type": "stream",
     "text": [
      "Name not Found!\n",
      "{'Riju Das': '+919876543210', 'Arnab Saha': '+913456789234', 'Purnchad Gupta': '+914567890123'}\n"
     ]
    }
   ],
   "source": [
    "contact_book = {'Riju Das': '+911234567890', 'Gourav Das': '+91234567891', 'Arnab Saha': '+913456789234', 'Purnchad Gupta': '+914567890123'}\n",
    "name = input(\"Enter Name to get phone number: \")\n",
    "if name in contact_book:\n",
    "    print(f\"{name}'s phone number is: {contact_book[name]}\")\n",
    "else:\n",
    "    print(\"Name not Found!\")\n",
    "\n",
    "contact_book['Riju Das']= '+919876543210'\n",
    "contact_book.pop('Gourav Das', 'Not Found!')\n",
    "print(contact_book)"
   ]
  },
  {
   "cell_type": "markdown",
   "id": "25681ee7-b991-4a6f-9360-2ea65bed9548",
   "metadata": {},
   "source": [
    "**3. Find Unique Items:**\n",
    "- You have a list with duplicate items: items = [\"pen\", \"pencil\", \"pen\", \"eraser\", \"pencil\", \"paper\"].\n",
    "- Use a set to find the unique items in the list.\n",
    "- Convert the set back to a list and print it."
   ]
  },
  {
   "cell_type": "code",
   "execution_count": 8,
   "id": "7dfc0fdd-e3ed-497c-82ec-c3b8cec0e45f",
   "metadata": {},
   "outputs": [
    {
     "name": "stdout",
     "output_type": "stream",
     "text": [
      "Unique items set: {'pen', 'paper', 'eraser', 'pencil'}\n",
      "Unique items list: ['pen', 'paper', 'eraser', 'pencil']\n"
     ]
    }
   ],
   "source": [
    "items = [\"pen\", \"pencil\", \"pen\", \"eraser\", \"pencil\", \"paper\"]\n",
    "items_set = set(items)\n",
    "print(f\"Unique items set: {items_set}\")\n",
    "unique_items_list = list(items_set)\n",
    "print(f\"Unique items list: {unique_items_list}\")"
   ]
  },
  {
   "cell_type": "markdown",
   "id": "163f96c5-073b-495a-a193-4509c7d36fe4",
   "metadata": {},
   "source": [
    "**4. Comparing Lists of Users:**\n",
    "- You have two lists of usernames from two different systems.\n",
    "- system1_users = [\"alice\", \"bob\", \"charlie\", \"dave\"]\n",
    "- system2_users = [\"charlie\", \"eve\", \"frank\", \"alice\"]\n",
    "- Using set operations, find:\n",
    "    - All unique users across both systems.\n",
    "    - Users that exist in both systems.\n",
    "    - Users that exist in system1 but not in system2."
   ]
  },
  {
   "cell_type": "code",
   "execution_count": 18,
   "id": "ae48ad35-10d8-46e4-a91b-ca6afddb6663",
   "metadata": {},
   "outputs": [
    {
     "name": "stdout",
     "output_type": "stream",
     "text": [
      "All unique users across both systems: ['charlie', 'dave', 'bob', 'frank', 'eve', 'alice']\n",
      "Users that exist in both systems: ['charlie', 'alice']\n",
      "Users that exist in system1 but not in system2: ['dave', 'bob']\n"
     ]
    }
   ],
   "source": [
    "system1_users = [\"alice\", \"bob\", \"charlie\", \"dave\"]\n",
    "system2_users = [\"charlie\", \"eve\", \"frank\", \"alice\"]\n",
    "\n",
    "system1_users_set = set(system1_users)\n",
    "system2_users_set = set(system2_users)\n",
    "print(f\"All unique users across both systems: {list(system1_users_set.union(system2_users_set))}\")\n",
    "print(f\"Users that exist in both systems: {list(system1_users_set.intersection(system2_users_set))}\")\n",
    "print(f\"Users that exist in system1 but not in system2: {list(system1_users_set.difference(system2_users_set))}\")"
   ]
  },
  {
   "cell_type": "code",
   "execution_count": null,
   "id": "b4a94b7c-d241-41b3-ba30-6dad9f20fa03",
   "metadata": {},
   "outputs": [],
   "source": []
  }
 ],
 "metadata": {
  "kernelspec": {
   "display_name": "Python 3 (ipykernel)",
   "language": "python",
   "name": "python3"
  },
  "language_info": {
   "codemirror_mode": {
    "name": "ipython",
    "version": 3
   },
   "file_extension": ".py",
   "mimetype": "text/x-python",
   "name": "python",
   "nbconvert_exporter": "python",
   "pygments_lexer": "ipython3",
   "version": "3.11.9"
  }
 },
 "nbformat": 4,
 "nbformat_minor": 5
}

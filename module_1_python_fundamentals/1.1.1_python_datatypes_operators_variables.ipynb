{
 "cells": [
  {
   "cell_type": "code",
   "execution_count": 7,
   "id": "cc6a0aa5-6723-4007-b3c6-4ce3e1d4a86b",
   "metadata": {},
   "outputs": [
    {
     "name": "stdout",
     "output_type": "stream",
     "text": [
      "30\n",
      "<class 'int'>\n"
     ]
    }
   ],
   "source": [
    "\n",
    "#Assigning an integer\n",
    "my_age = 30\n",
    "print(my_age)\n",
    "print(type(my_age))"
   ]
  },
  {
   "cell_type": "code",
   "execution_count": 8,
   "id": "b97fc47a-1c8c-4739-84a9-c832fd876a20",
   "metadata": {},
   "outputs": [
    {
     "name": "stdout",
     "output_type": "stream",
     "text": [
      "Alice\n",
      "<class 'str'>\n"
     ]
    }
   ],
   "source": [
    "# Assigning a string\n",
    "user_name = \"Alice\"\n",
    "print(user_name)\n",
    "print(type(user_name))"
   ]
  },
  {
   "cell_type": "code",
   "execution_count": 9,
   "id": "80942e81-21b0-44b4-b1ce-9f2a95e5ec92",
   "metadata": {},
   "outputs": [
    {
     "name": "stdout",
     "output_type": "stream",
     "text": [
      "100\n",
      "<class 'int'>\n",
      "Now I am a string\n",
      "<class 'str'>\n"
     ]
    }
   ],
   "source": [
    "# Reassigning a variable (can even change type)\n",
    "my_variable = 100\n",
    "print(my_variable)\n",
    "print(type(my_variable))\n",
    "my_variable = \"Now I am a string\"\n",
    "print(my_variable)\n",
    "print(type(my_variable))"
   ]
  },
  {
   "cell_type": "code",
   "execution_count": 12,
   "id": "3e4f10f7-08a4-4207-9e44-2cf4e3d76820",
   "metadata": {},
   "outputs": [
    {
     "name": "stdout",
     "output_type": "stream",
     "text": [
      "Hello, World!\n",
      "This is a\n",
      "multi-line string example.\n",
      "It can span several lines.\n"
     ]
    }
   ],
   "source": [
    "#Strings (str): Sequences of characters, enclosed in single quotes ('...'), double quotes (\"...\"), \n",
    "# or triple quotes ('''...''' or \"\"\"...\"\"\" for multi-line strings).\n",
    "\n",
    "greeting = \"Hello, World!\"\n",
    "single_quote_string = 'Python is fun.'\n",
    "multi_line_message = \"\"\"This is a\n",
    "multi-line string example.\n",
    "It can span several lines.\"\"\"\n",
    "print(greeting)\n",
    "print(multi_line_message)"
   ]
  },
  {
   "cell_type": "code",
   "execution_count": 14,
   "id": "f99ad5db-b821-4169-8a7c-d6bad86ef60c",
   "metadata": {},
   "outputs": [
    {
     "name": "stdout",
     "output_type": "stream",
     "text": [
      "10 + 3 = 13\n",
      "10 - 3 = 7\n",
      "10 * 3 = 30\n",
      "10 / 3 = 3.3333333333333335\n",
      "10 // 3 = 3\n",
      "10 % 3 = 1\n",
      "10 ** 3 = 1000\n",
      "5 + 2 * 3 = 11\n",
      "(5 + 2) * 3 = 21\n"
     ]
    }
   ],
   "source": [
    "# Arithmetic Operators:\n",
    "\n",
    "a = 10\n",
    "b = 3\n",
    "\n",
    "print(f\"{a} + {b} = {a + b}\")        # Output: 10 + 3 = 13\n",
    "print(f\"{a} - {b} = {a - b}\")        # Output: 10 - 3 = 7\n",
    "print(f\"{a} * {b} = {a * b}\")        # Output: 10 * 3 = 30\n",
    "print(f\"{a} / {b} = {a / b}\")        # Output: 10 / 3 = 3.333...\n",
    "print(f\"{a} // {b} = {a // b}\")      # Output: 10 // 3 = 3\n",
    "print(f\"{a} % {b} = {a % b}\")        # Output: 10 % 3 = 1\n",
    "print(f\"{a} ** {b} = {a ** b}\")      # Output: 10 ** 3 = 1000\n",
    "\n",
    "# Order of operations (PEMDAS/BODMAS) is respected\n",
    "result = 5 + 2 * 3\n",
    "print(f\"5 + 2 * 3 = {result}\") # Output: 11\n",
    "result_with_parens = (5 + 2) * 3\n",
    "print(f\"(5 + 2) * 3 = {result_with_parens}\") # Output: 21"
   ]
  },
  {
   "cell_type": "code",
   "execution_count": 15,
   "id": "6dfe4a76-657e-4efb-9a26-aadbcd870d2c",
   "metadata": {},
   "outputs": [
    {
     "name": "stdout",
     "output_type": "stream",
     "text": [
      "10 == 5: False\n",
      "10 != 5: True\n",
      "10 > 5: True\n",
      "10 < 5: False\n",
      "10 >= 10: True\n",
      "5 <= 10: True\n"
     ]
    }
   ],
   "source": [
    "# Comparison (Relational) Operators:\n",
    "\n",
    "x = 10\n",
    "y = 5\n",
    "z = 10\n",
    "\n",
    "print(f\"{x} == {y}: {x == y}\")   # Output: 10 == 5: False\n",
    "print(f\"{x} != {y}: {x != y}\")   # Output: 10 != 5: True\n",
    "print(f\"{x} > {y}: {x > y}\")     # Output: 10 > 5: True\n",
    "print(f\"{x} < {y}: {x < y}\")     # Output: 10 < 5: False\n",
    "print(f\"{x} >= {z}: {x >= z}\")   # Output: 10 >= 10: True\n",
    "print(f\"{y} <= {z}: {y <= z}\")   # Output: 5 <= 10: True"
   ]
  },
  {
   "cell_type": "code",
   "execution_count": 16,
   "id": "9a748d8b-4e60-4cc7-883b-cc9102e81188",
   "metadata": {},
   "outputs": [
    {
     "name": "stdout",
     "output_type": "stream",
     "text": [
      "True and False: False\n",
      "True or False: True\n",
      "not True: False\n",
      "not False: True\n",
      "Can rent car: True\n"
     ]
    }
   ],
   "source": [
    "# Logical Operators:\n",
    "\n",
    "p = True\n",
    "q = False\n",
    "\n",
    "print(f\"{p} and {q}: {p and q}\")  # Output: True and False: False\n",
    "print(f\"{p} or {q}: {p or q}\")    # Output: True or False: True\n",
    "print(f\"not {p}: {not p}\")        # Output: not True: False\n",
    "print(f\"not {q}: {not q}\")        # Output: not False: True\n",
    "\n",
    "# Combining with comparison\n",
    "age = 25\n",
    "has_license = True\n",
    "can_rent_car = (age >= 25) and has_license\n",
    "print(f\"Can rent car: {can_rent_car}\") # Output: Can rent car: True"
   ]
  },
  {
   "cell_type": "code",
   "execution_count": 17,
   "id": "7bc2ae4d-f1b3-46df-98e6-ef994fd724ae",
   "metadata": {},
   "outputs": [
    {
     "name": "stdout",
     "output_type": "stream",
     "text": [
      "Counter: 1\n",
      "Total value: 90\n",
      "Multiplier: 10\n"
     ]
    }
   ],
   "source": [
    "# Assignment Operators (Shorthand):\n",
    "\n",
    "counter = 0\n",
    "counter += 1  # Equivalent to counter = counter + 1\n",
    "print(f\"Counter: {counter}\") # Output: Counter: 1\n",
    "\n",
    "total_value = 100\n",
    "total_value -= 10 # Equivalent to total_value = total_value - 10\n",
    "print(f\"Total value: {total_value}\") # Output: Total value: 90\n",
    "\n",
    "multiplier = 5\n",
    "multiplier *= 2 # Equivalent to multiplier = multiplier * 2\n",
    "print(f\"Multiplier: {multiplier}\") # Output: Multiplier: 10"
   ]
  },
  {
   "cell_type": "code",
   "execution_count": 18,
   "id": "25e2f699-3bfd-4e73-8d8f-e4b5914d4f20",
   "metadata": {},
   "outputs": [
    {
     "name": "stdout",
     "output_type": "stream",
     "text": [
      "String '123' as int: 123, type: <class 'int'>\n",
      "Float 3.99 as int: 3\n",
      "Int 30 as string: '30', type: <class 'str'>\n",
      "bool(0): False\n",
      "bool(100): True\n",
      "bool(''): False\n",
      "bool('text'): True\n"
     ]
    }
   ],
   "source": [
    "# Type Conversion (Casting)\n",
    "\n",
    "num_string = \"123\"\n",
    "num_int = int(num_string)\n",
    "print(f\"String '{num_string}' as int: {num_int}, type: {type(num_int)}\")\n",
    "\n",
    "float_val = 3.99\n",
    "int_from_float = int(float_val) # Truncates\n",
    "print(f\"Float {float_val} as int: {int_from_float}\") # Output: 3\n",
    "\n",
    "age = 30\n",
    "age_string = str(age)\n",
    "print(f\"Int {age} as string: '{age_string}', type: {type(age_string)}\")\n",
    "\n",
    "# Be careful with string to int/float if the string isn't a valid number\n",
    "# invalid_string = \"hello\"\n",
    "# invalid_int = int(invalid_string) # This would cause a ValueError\n",
    "\n",
    "print(f\"bool(0): {bool(0)}\")         # Output: False\n",
    "print(f\"bool(100): {bool(100)}\")       # Output: True\n",
    "print(f\"bool(''): {bool('')}\")         # Output: False\n",
    "print(f\"bool('text'): {bool('text')}\") # Output: True"
   ]
  },
  {
   "cell_type": "code",
   "execution_count": 20,
   "id": "d924b3e4-6a86-42ce-86d6-34f3b117ef81",
   "metadata": {},
   "outputs": [],
   "source": [
    "# Exercises for 1.1.1_python_datatypes_operators_variables.ipynb"
   ]
  },
  {
   "cell_type": "code",
   "execution_count": 28,
   "id": "6e886c31-78da-4a6d-923e-612180c88e55",
   "metadata": {},
   "outputs": [
    {
     "name": "stdout",
     "output_type": "stream",
     "text": [
      "25°C is 77.0°F\n"
     ]
    }
   ],
   "source": [
    "# 1. Temperature Converter:\n",
    "# Create a variable celsius and assign it a temperature in Celsius (e.g., 25).\n",
    "# Write the formula to convert Celsius to Fahrenheit: F = (C * 9/5) + 32.\n",
    "# Store the result in a variable fahrenheit.\n",
    "# Print both the Celsius and Fahrenheit temperatures in a user-friendly format (e.g., \"25°C is 77°F\").\n",
    "\n",
    "celsius = 25\n",
    "fahrenheit = (celsius*9/5)+32\n",
    "print(f\"{celsius}°C is {fahrenheit}°F\")"
   ]
  },
  {
   "cell_type": "code",
   "execution_count": 30,
   "id": "54d177a1-3ffc-4585-ad6c-c843f94a86df",
   "metadata": {},
   "outputs": [
    {
     "name": "stdout",
     "output_type": "stream",
     "text": [
      " Simple Interst For Rs.10000, 5.0% rate and for 5 year is Rs.2500.0\n"
     ]
    }
   ],
   "source": [
    "# 2. Simple Interest Calculator:\n",
    "# Create variables principal, rate (annual interest rate as a decimal, e.g., 0.05 for 5%), and time (in years).\n",
    "# Calculate the simple interest using the formula: Interest = Principal * Rate * Time.\n",
    "# Print the calculated interest.\n",
    "\n",
    "principal = 10000\n",
    "rate = 0.05\n",
    "time= 5\n",
    "simple_interest = principal * rate * time\n",
    "print(f\" Simple Interst For Rs.{principal}, {rate*100}% rate and for {time} year is Rs.{simple_interest}\")"
   ]
  },
  {
   "cell_type": "code",
   "execution_count": 34,
   "id": "fd659527-297f-4724-a9fe-c88afb022834",
   "metadata": {},
   "outputs": [
    {
     "name": "stdout",
     "output_type": "stream",
     "text": [
      "True\n"
     ]
    }
   ],
   "source": [
    "# 3. Boolean Logic Practice:\n",
    "# Define two boolean variables, is_raining and have_umbrella.\n",
    "# Write an expression to determine if you will get wet (you get wet if it's raining AND you DON'T have an umbrella).\n",
    "# Store this in a variable will_get_wet.\n",
    "# Print the values of is_raining, have_umbrella, and will_get_wet. Try different combinations for is_raining and have_umbrella.\n",
    "\n",
    "is_raining = True\n",
    "have_umbrella = False\n",
    "will_get_wet = is_raining and not have_umbrella\n",
    "print(will_get_wet)"
   ]
  },
  {
   "cell_type": "code",
   "execution_count": 37,
   "id": "4d147d2e-4118-4ba9-8198-10640678f0ef",
   "metadata": {},
   "outputs": [
    {
     "name": "stdout",
     "output_type": "stream",
     "text": [
      "The Area of a Circle of radius 28cm, is 2463.00656cm²\n"
     ]
    }
   ],
   "source": [
    "# 4. Area of a Circle:\n",
    "# Create a variable radius.\n",
    "# Calculate the area of a circle: Area = pi * radius^2. You can use 3.14159 for pi \n",
    "# or import it from the math module (we'll cover imports later, for now, using the literal is fine).\n",
    "# Print the radius and the calculated area.\n",
    "\n",
    "radius = 28\n",
    "area = 3.14159 * radius**2\n",
    "print(f\"The Area of a Circle of radius {radius}cm, is {area}cm²\")"
   ]
  },
  {
   "cell_type": "code",
   "execution_count": 38,
   "id": "29d48692-b92d-408a-8d03-5e6712e860be",
   "metadata": {},
   "outputs": [
    {
     "name": "stdout",
     "output_type": "stream",
     "text": [
      "Final string value: 5\n"
     ]
    }
   ],
   "source": [
    "# 5. Type Conversion Challenge:\n",
    "# You are given input_string = \"5.7\".\n",
    "# Convert this string to a float, then convert that float to an integer (by truncation).\n",
    "# Finally, convert this integer back to a string and print it. What is the final string value?\n",
    "\n",
    "input_string = \"5.7\"\n",
    "Float_value = float(input_string)\n",
    "integer_value = int(Float_value)\n",
    "final_string = str(integer_value)\n",
    "print(f\"Final string value: {final_string}\")"
   ]
  },
  {
   "cell_type": "code",
   "execution_count": null,
   "id": "4fe8aea7-da46-44ea-b0d8-c1067c88e04f",
   "metadata": {},
   "outputs": [],
   "source": []
  }
 ],
 "metadata": {
  "kernelspec": {
   "display_name": "Python 3 (ipykernel)",
   "language": "python",
   "name": "python3"
  },
  "language_info": {
   "codemirror_mode": {
    "name": "ipython",
    "version": 3
   },
   "file_extension": ".py",
   "mimetype": "text/x-python",
   "name": "python",
   "nbconvert_exporter": "python",
   "pygments_lexer": "ipython3",
   "version": "3.11.9"
  }
 },
 "nbformat": 4,
 "nbformat_minor": 5
}

{
 "cells": [
  {
   "cell_type": "markdown",
   "id": "1392a610-f398-4f38-b420-f1d46f31fd47",
   "metadata": {},
   "source": [
    "## **1. Defining and Calling a Simple Function**\n",
    "- **def keyword:** Used to define a function.\n",
    "- **Function Name:** Follows the same snake_case convention as variables.\n",
    "- **Parentheses ():** Hold the parameters (inputs) the function takes. Can be empty.\n",
    "- **Colon : and Indentation:** The function's code block is indented, just like in control flow statements.\n",
    "- **Docstring:** The first statement in a function body should be a string literal explaining what the function does. This is a crucial best practice for documentation. It's enclosed in triple quotes **\"\"\"...\"\"\"**."
   ]
  },
  {
   "cell_type": "code",
   "execution_count": 1,
   "id": "fee01e99-9b60-44dc-bd49-dd8ccfcf04c9",
   "metadata": {},
   "outputs": [
    {
     "name": "stdout",
     "output_type": "stream",
     "text": [
      "Hello, world!\n",
      "Welcome to the world of Python functions.\n",
      "Hello, world!\n",
      "Welcome to the world of Python functions.\n"
     ]
    }
   ],
   "source": [
    "# Defining a simple function\n",
    "def greet():\n",
    "    \"\"\"This function prints a simple greeting.\"\"\"\n",
    "    print(\"Hello, world!\")\n",
    "    print(\"Welcome to the world of Python functions.\")\n",
    "\n",
    "# Calling the function\n",
    "# The code inside the function only runs when you call it.\n",
    "greet()\n",
    "greet() # We can call it as many times as we want"
   ]
  },
  {
   "cell_type": "markdown",
   "id": "1683b0c5-96af-45c7-9dba-3081853c30c9",
   "metadata": {},
   "source": [
    "## **2. Parameters and Arguments**\n",
    "- **Parameter:** The variable name listed inside the function's parentheses during definition. It's a placeholder.\n",
    "- **Argument:** The actual value that is sent to the function when you call it."
   ]
  },
  {
   "cell_type": "code",
   "execution_count": 2,
   "id": "6d9f9b6d-b0c6-4b87-a4c3-a87c72e98782",
   "metadata": {},
   "outputs": [
    {
     "name": "stdout",
     "output_type": "stream",
     "text": [
      "Hello, Alice!\n",
      "Hello, Bob!\n"
     ]
    }
   ],
   "source": [
    "def greet_user(username):\n",
    "    \"\"\"Greets a user by their name.\"\"\"\n",
    "    print(f\"Hello, {username.title()}!\")\n",
    "\n",
    "# Calling the function with an argument\n",
    "greet_user(\"alice\") # \"alice\" is the argument\n",
    "greet_user(\"bob\")"
   ]
  },
  {
   "cell_type": "markdown",
   "id": "985d7181-a5f7-490c-88ee-595b7eda6eed",
   "metadata": {},
   "source": [
    "## 3. **Return Values**\n",
    "Functions often need to compute a value and send it back to the code that called it. This is done with the return statement.\n",
    "- return statement: Exits the function and sends a value back.\n",
    "- A function can return any data type: string, number, list, dictionary, etc.\n",
    "- If a function has no return statement, it implicitly returns the special value None."
   ]
  },
  {
   "cell_type": "code",
   "execution_count": 3,
   "id": "9c5719f2-17cc-40f4-94da-87a4e22dc654",
   "metadata": {},
   "outputs": [
    {
     "name": "stdout",
     "output_type": "stream",
     "text": [
      "The square of 5 is: 25\n",
      "The square of 10 is: 100\n",
      "Value returned from function with no return statement: None\n",
      "Type of returned value: <class 'NoneType'>\n"
     ]
    }
   ],
   "source": [
    "def square(number):\n",
    "    \"\"\"Calculates the square of a number and returns the result.\"\"\"\n",
    "    return number ** 2\n",
    "\n",
    "# Calling the function and storing the return value\n",
    "result = square(5)\n",
    "print(f\"The square of 5 is: {result}\")\n",
    "\n",
    "# You can use the return value directly\n",
    "print(f\"The square of 10 is: {square(10)}\")\n",
    "\n",
    "def my_function_with_no_return():\n",
    "    \"\"\"This function doesn't explicitly return anything.\"\"\"\n",
    "    x = 5\n",
    "\n",
    "returned_value = my_function_with_no_return()\n",
    "print(f\"Value returned from function with no return statement: {returned_value}\")\n",
    "print(f\"Type of returned value: {type(returned_value)}\")"
   ]
  },
  {
   "cell_type": "markdown",
   "id": "d7480d3d-6ea9-4b77-b41e-a604e861f8e5",
   "metadata": {},
   "source": [
    "## **4. Argument Types**\n",
    "Python is flexible in how you can pass arguments to functions.\n",
    "- **Positional Arguments:** The default. Arguments are matched to parameters based on their position."
   ]
  },
  {
   "cell_type": "code",
   "execution_count": 4,
   "id": "e597dc9f-0c68-4e9d-ab7e-ed2f2ebdb03d",
   "metadata": {},
   "outputs": [
    {
     "name": "stdout",
     "output_type": "stream",
     "text": [
      "I have a hamster.\n",
      "My hamster's name is Harry.\n"
     ]
    }
   ],
   "source": [
    "def describe_pet(animal_type, pet_name):\n",
    "    \"\"\"Displays information about a pet.\"\"\"\n",
    "    print(f\"I have a {animal_type}.\")\n",
    "    print(f\"My {animal_type}'s name is {pet_name.title()}.\")\n",
    "\n",
    "describe_pet(\"hamster\", \"harry\") # \"hamster\" -> animal_type, \"harry\" -> pet_name"
   ]
  },
  {
   "cell_type": "markdown",
   "id": "c79d36b5-75ab-4a7f-95c4-fb664b2e2b0d",
   "metadata": {},
   "source": [
    "- **Keyword Arguments:** You explicitly specify which parameter each argument corresponds to. The order doesn't matter."
   ]
  },
  {
   "cell_type": "code",
   "execution_count": 5,
   "id": "e19ce15a-89dc-4656-a7ab-12426e7da932",
   "metadata": {},
   "outputs": [
    {
     "name": "stdout",
     "output_type": "stream",
     "text": [
      "I have a dog.\n",
      "My dog's name is Willie.\n"
     ]
    }
   ],
   "source": [
    "describe_pet(pet_name=\"willie\", animal_type=\"dog\") # Order is different, but it works"
   ]
  },
  {
   "cell_type": "markdown",
   "id": "57143acf-69ad-4c01-b7cd-0ce2c806e8b0",
   "metadata": {},
   "source": [
    "- **Default Parameter Values:** You can provide a default value for a parameter. If an argument for that parameter isn't provided when the function is called, the default value is used.\n",
    "  - Parameters with default values must come after parameters without default values."
   ]
  },
  {
   "cell_type": "code",
   "execution_count": 6,
   "id": "05427bf3-fb48-41ae-a0d1-3cf433e120df",
   "metadata": {},
   "outputs": [
    {
     "name": "stdout",
     "output_type": "stream",
     "text": [
      "I have a dog.\n",
      "My dog's name is Willie.\n",
      "I have a cat.\n",
      "My cat's name is Mittens.\n"
     ]
    }
   ],
   "source": [
    "def describe_pet_default(pet_name, animal_type=\"dog\"): # animal_type has a default\n",
    "    \"\"\"Displays information about a pet, with a default animal type.\"\"\"\n",
    "    print(f\"I have a {animal_type}.\")\n",
    "    print(f\"My {animal_type}'s name is {pet_name.title()}.\")\n",
    "\n",
    "describe_pet_default(\"willie\") # Uses the default \"dog\" for animal_type\n",
    "describe_pet_default(\"mittens\", animal_type=\"cat\") # Overrides the default"
   ]
  },
  {
   "cell_type": "markdown",
   "id": "f43eec8b-e655-415d-a8ad-901b37069b78",
   "metadata": {},
   "source": [
    "- **Arbitrary Positional Arguments** (*args): To accept an arbitrary number of positional arguments. The function receives them as a tuple."
   ]
  },
  {
   "cell_type": "code",
   "execution_count": 7,
   "id": "094eb751-b52d-40c6-8522-dccc6d71ae1e",
   "metadata": {},
   "outputs": [
    {
     "name": "stdout",
     "output_type": "stream",
     "text": [
      "\n",
      "Making a 12-inch pizza with the following toppings:\n",
      "- mushrooms\n",
      "\n",
      "Making a 16-inch pizza with the following toppings:\n",
      "- pepperoni\n",
      "- green peppers\n",
      "- extra cheese\n"
     ]
    }
   ],
   "source": [
    "def make_pizza(size, *toppings):\n",
    "    \"\"\"Summarizes the pizza we are about to make.\"\"\"\n",
    "    print(f\"\\nMaking a {size}-inch pizza with the following toppings:\")\n",
    "    for topping in toppings:\n",
    "        print(f\"- {topping}\")\n",
    "\n",
    "make_pizza(12, \"mushrooms\")\n",
    "make_pizza(16, \"pepperoni\", \"green peppers\", \"extra cheese\")"
   ]
  },
  {
   "cell_type": "markdown",
   "id": "6859c588-2cf5-4bba-9623-b5583d2e4145",
   "metadata": {},
   "source": [
    "- **Arbitrary Keyword Arguments** (**kwargs): To accept an arbitrary number of keyword arguments. The function receives them as a dictionary."
   ]
  },
  {
   "cell_type": "code",
   "execution_count": 8,
   "id": "9131d970-a088-41c0-9f86-e5cb97345d9b",
   "metadata": {},
   "outputs": [
    {
     "name": "stdout",
     "output_type": "stream",
     "text": [
      "{'location': 'princeton', 'field': 'physics', 'first_name': 'albert', 'last_name': 'einstein'}\n"
     ]
    }
   ],
   "source": [
    "def build_profile(first, last, **user_info):\n",
    "    \"\"\"Build a dictionary containing everything we know about a user.\"\"\"\n",
    "    user_info['first_name'] = first\n",
    "    user_info['last_name'] = last\n",
    "    return user_info\n",
    "\n",
    "user_profile = build_profile(\"albert\", \"einstein\",\n",
    "                             location=\"princeton\",\n",
    "                             field=\"physics\")\n",
    "print(user_profile)"
   ]
  },
  {
   "cell_type": "markdown",
   "id": "777522f5-1a63-4610-86df-cf4f1c5189bb",
   "metadata": {},
   "source": [
    "## **5. Scope of Variables**\n",
    "- **Local Scope:** Variables created inside a function are local to that function. They cannot be accessed from outside.\n",
    "- **Global Scope:** Variables created in the main body of the Python script are global and can be read from anywhere."
   ]
  },
  {
   "cell_type": "code",
   "execution_count": 1,
   "id": "464ee3e3-ce27-4016-946f-0ea1d51f008d",
   "metadata": {},
   "outputs": [
    {
     "name": "stdout",
     "output_type": "stream",
     "text": [
      "Inside function, can access global x: 10\n",
      "Inside function, local y is: 5\n",
      "\n",
      "Outside function, global x is: 10\n"
     ]
    }
   ],
   "source": [
    "x = 10 # Global variable\n",
    "\n",
    "def my_scope_func():\n",
    "    y = 5 # Local variable\n",
    "    print(f\"Inside function, can access global x: {x}\")\n",
    "    print(f\"Inside function, local y is: {y}\")\n",
    "\n",
    "my_scope_func()\n",
    "print(f\"\\nOutside function, global x is: {x}\")\n",
    "# print(f\"Outside function, trying to access y: {y}\") # This would raise a NameError"
   ]
  },
  {
   "cell_type": "markdown",
   "id": "84a24c11-c64e-4b5a-8779-1276781dc5ef",
   "metadata": {},
   "source": [
    "## **6. Lambda Functions (Anonymous Functions)**\n",
    "A small, one-line, anonymous function defined with the lambda keyword.\n",
    "- **Syntax:** lambda arguments: expression\n",
    "- The expression is evaluated and returned.\n",
    "- Often used when you need a simple function for a short period, commonly as an argument to higher-order functions (like sorted, map, filter)."
   ]
  },
  {
   "cell_type": "code",
   "execution_count": 2,
   "id": "ee0a4b3a-af73-4712-b02f-5e4bb60ac0da",
   "metadata": {},
   "outputs": [
    {
     "name": "stdout",
     "output_type": "stream",
     "text": [
      "Result from normal function: 8\n",
      "Result from lambda function: 8\n",
      "\n",
      "Students sorted by grade: [{'name': 'Bob', 'grade': 82}, {'name': 'Alice', 'grade': 90}, {'name': 'Charlie', 'grade': 95}]\n"
     ]
    }
   ],
   "source": [
    "# A normal function\n",
    "def add(x, y):\n",
    "    return x + y\n",
    "\n",
    "# The equivalent lambda function\n",
    "add_lambda = lambda x, y: x + y\n",
    "\n",
    "print(f\"Result from normal function: {add(5, 3)}\")\n",
    "print(f\"Result from lambda function: {add_lambda(5, 3)}\")\n",
    "\n",
    "# A common use case: sorting a list of dictionaries by a specific key\n",
    "students = [\n",
    "    {\"name\": \"Alice\", \"grade\": 90},\n",
    "    {\"name\": \"Bob\", \"grade\": 82},\n",
    "    {\"name\": \"Charlie\", \"grade\": 95}\n",
    "]\n",
    "\n",
    "# Sort by name (default for strings is alphabetical)\n",
    "# To sort by grade, we need to tell sorted() *how* to get the key for comparison.\n",
    "students_sorted_by_grade = sorted(students, key=lambda student: student['grade'])\n",
    "print(f\"\\nStudents sorted by grade: {students_sorted_by_grade}\")"
   ]
  },
  {
   "cell_type": "markdown",
   "id": "8a32e430-fa08-41ee-8fc1-0489010797f8",
   "metadata": {},
   "source": [
    "## **Exercises**"
   ]
  },
  {
   "cell_type": "markdown",
   "id": "00a74726-d55d-4e16-a92c-c89a561b52c5",
   "metadata": {},
   "source": [
    "**1. Area Calculator Function:**\n",
    "- Write a function calculate_area(length, width) that takes two arguments, length and width.\n",
    "- It should return the area of the rectangle (length * width).\n",
    "- Include a docstring explaining what the function does.\n",
    "- Call the function with both positional and keyword arguments and print the results."
   ]
  },
  {
   "cell_type": "code",
   "execution_count": 8,
   "id": "12b466ef-8a8b-4557-af67-5799938951ac",
   "metadata": {},
   "outputs": [
    {
     "name": "stdout",
     "output_type": "stream",
     "text": [
      "Area with positional argument: 20\n",
      "Area with keyword argument: 69\n"
     ]
    }
   ],
   "source": [
    "def calculate_area(length, width):\n",
    "    \"\"\"\n",
    "    Calculates the Area of a rectangle.\n",
    "    \n",
    "    length(int or float): The length of the rectangle.\n",
    "    width(int or float): The width of the rectangle.\n",
    "    return: The calculated area of the rectangle.\n",
    "    \"\"\"\n",
    "    return length * width\n",
    "    \n",
    "area1 = calculate_area(4,5)\n",
    "area2 = calculate_area(length = 23, width = 3)\n",
    "print(f\"Area with positional argument: {area1}\")\n",
    "print(f\"Area with keyword argument: {area2}\")"
   ]
  },
  {
   "cell_type": "markdown",
   "id": "fdeeec56-aa2b-4911-b2f5-d01cbbc504ed",
   "metadata": {},
   "source": [
    "**2. Shopping List Function with** *args:\n",
    "- Write a function make_shopping_list(store_name, *items).\n",
    "- The function should print the name of the store.\n",
    "- Then, it should loop through the items (which will be a tuple) and print each one on a new line, formatted like \"- [Item Name]\"."
   ]
  },
  {
   "cell_type": "code",
   "execution_count": 15,
   "id": "f65e3022-0f63-486f-aacc-32acf321ce41",
   "metadata": {},
   "outputs": [
    {
     "name": "stdout",
     "output_type": "stream",
     "text": [
      "\n",
      "-----Shopping list for Grocery -----\n",
      "-Milk\n",
      "-Bread\n",
      "-Egg\n"
     ]
    }
   ],
   "source": [
    "def make_shopping_list(store_name, *items):\n",
    "    \"\"\" Creates a shopping list. \"\"\"\n",
    "    print(f\"\\n-----Shopping list for {store_name} -----\")\n",
    "    for item in items:\n",
    "        print(f\"-{item}\")\n",
    "\n",
    "make_shopping_list(\"Grocery\",\"Milk\", \"Bread\", \"Egg\")   "
   ]
  },
  {
   "cell_type": "markdown",
   "id": "96489272-1876-43de-837e-e379b1403e5a",
   "metadata": {},
   "source": [
    "**3. User Profile Builder with** **kwargs and Default Values:\n",
    "- Create a function build_user(first_name, last_name, age, **other_info).\n",
    "- This function should create a dictionary representing a user. It should always include first name, last name, and age.\n",
    "- It should then use the update() method to add any additional key-value pairs passed in through **other_info.\n",
    "- Make the age parameter have a default value of None.\n",
    "- Call the function once with just first and last name. Call it again with a first name, last name, age, and an extra piece of info like city=\"New York\".\n",
    "- Print the returned dictionaries."
   ]
  },
  {
   "cell_type": "code",
   "execution_count": 42,
   "id": "df8ad882-69c1-437c-bb28-80e6e8446e60",
   "metadata": {},
   "outputs": [
    {
     "name": "stdout",
     "output_type": "stream",
     "text": [
      "\n",
      "User 1 Profile: {'first_name': 'Gourav', 'last_name': 'Das', 'age': None}\n",
      "\n",
      "*************************************************************************\n",
      "\n",
      "User 2 Profile: {'first_name': 'Riju', 'last_name': 'Das', 'age': 26, 'city': 'New York'}\n",
      "\n",
      "*************************************************************************\n"
     ]
    }
   ],
   "source": [
    "def build_user(first_name, last_name, age = None, **other_info):\n",
    "    \"\"\"Build a user profile\"\"\"\n",
    "    user_profile = {\n",
    "        'first_name': first_name,\n",
    "        'last_name': last_name,\n",
    "        'age': age\n",
    "    }\n",
    "    user_profile.update(other_info)\n",
    "    return user_profile\n",
    "\n",
    "user1_profile = build_user(\"Gourav\", \"Das\")\n",
    "print(f\"\\nUser 1 Profile: {user1_profile}\")\n",
    "print(f\"\\n{'*'*73}\")\n",
    "user2_profile = build_user(\"Riju\", \"Das\", 26, city=\"New York\")\n",
    "print(f\"\\nUser 2 Profile: {user2_profile}\")\n",
    "print(f\"\\n{'*'*73}\")"
   ]
  },
  {
   "cell_type": "markdown",
   "id": "1a84e763-9718-4ee3-bdce-813e6f52514c",
   "metadata": {},
   "source": [
    "**4. Lambda Function for Sorting:**\n",
    "- You have a list of tuples, where each tuple is (product_name, price): products = [(\"Laptop\", 1200), (\"Mouse\", 25), (\"Keyboard\", 75), (\"Monitor\", 300)]\n",
    "- Use the sorted() function with a lambda function as the key to sort this list of products by their price (the second item in each tuple).\n",
    "- Print the sorted list."
   ]
  },
  {
   "cell_type": "code",
   "execution_count": 41,
   "id": "d1572914-3f94-4a1a-bf4e-f75ec599c940",
   "metadata": {},
   "outputs": [
    {
     "name": "stdout",
     "output_type": "stream",
     "text": [
      "---------- Original products list ----------\n",
      "[('Laptop', 1200), ('Mouse', 25), ('Keyboard', 75), ('Monitor', 300)]\n",
      "\n",
      "---------- Sorted products list ----------\n",
      "[('Mouse', 25), ('Keyboard', 75), ('Monitor', 300), ('Laptop', 1200)]\n"
     ]
    }
   ],
   "source": [
    "products = [(\"Laptop\", 1200), (\"Mouse\", 25), (\"Keyboard\", 75), (\"Monitor\", 300)]\n",
    "sorted_products = sorted(products, key = lambda product: product[1])\n",
    "print(\"---------- Original products list ----------\")\n",
    "print(products)\n",
    "print(\"\\n---------- Sorted products list ----------\")\n",
    "print(sorted_products)"
   ]
  },
  {
   "cell_type": "code",
   "execution_count": null,
   "id": "90949a88-0a27-448c-b8ba-e2295de222a2",
   "metadata": {},
   "outputs": [],
   "source": []
  }
 ],
 "metadata": {
  "kernelspec": {
   "display_name": "Python 3 (ipykernel)",
   "language": "python",
   "name": "python3"
  },
  "language_info": {
   "codemirror_mode": {
    "name": "ipython",
    "version": 3
   },
   "file_extension": ".py",
   "mimetype": "text/x-python",
   "name": "python",
   "nbconvert_exporter": "python",
   "pygments_lexer": "ipython3",
   "version": "3.11.9"
  }
 },
 "nbformat": 4,
 "nbformat_minor": 5
}

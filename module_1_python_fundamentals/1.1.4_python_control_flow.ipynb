{
 "cells": [
  {
   "cell_type": "markdown",
   "id": "e7a70aad-7e42-4c30-9f7e-6cc07e9adf08",
   "metadata": {
    "jp-MarkdownHeadingCollapsed": true
   },
   "source": [
    "## **1. Conditional Statements (if, elif, else)**\n",
    "- **if statement:** Executes a block of code only if a condition is True.\n",
    "- **else statement:** Executes a block of code if the preceding if (or elif) conditions are all False.\n",
    "- **elif (else if) statement:** Allows you to check multiple alternative conditions. You can have zero or more elif statements."
   ]
  },
  {
   "cell_type": "code",
   "execution_count": 1,
   "id": "3250a784-7ab5-4b9b-bb3c-5ec555ef458d",
   "metadata": {},
   "outputs": [
    {
     "name": "stdout",
     "output_type": "stream",
     "text": [
      "You are an adult.\n",
      "Your score of 85 earns you a grade of B.\n",
      "The list is empty.\n"
     ]
    }
   ],
   "source": [
    "# Basic if-else\n",
    "age = 20\n",
    "if age >= 18:\n",
    "    print(\"You are an adult.\")\n",
    "else:\n",
    "    print(\"You are a minor.\")\n",
    "\n",
    "# if-elif-else chain\n",
    "score = 85\n",
    "\n",
    "if score >= 90:\n",
    "    grade = \"A\"\n",
    "elif score >= 80:\n",
    "    grade = \"B\"\n",
    "elif score >= 70:\n",
    "    grade = \"C\"\n",
    "elif score >= 60:\n",
    "    grade = \"D\"\n",
    "else:\n",
    "    grade = \"F\"\n",
    "\n",
    "print(f\"Your score of {score} earns you a grade of {grade}.\")\n",
    "\n",
    "# 'Truthy' and 'Falsy' values\n",
    "# You don't always need an explicit comparison that results in True/False.\n",
    "# Python treats certain values as 'Falsy':\n",
    "# - The number 0 (int and float)\n",
    "# - An empty string \"\"\n",
    "# - An empty list [], tuple (), dict {}, set()\n",
    "# - The None object\n",
    "# All other values are 'Truthy'.\n",
    "\n",
    "my_list = []\n",
    "if my_list:\n",
    "    print(\"The list is not empty.\")\n",
    "else:\n",
    "    print(\"The list is empty.\") # This will be printed"
   ]
  },
  {
   "cell_type": "markdown",
   "id": "0fd00b0e-7dbd-4560-9ff9-0cb44c601273",
   "metadata": {},
   "source": [
    "**Ternary Operator (Conditional Expressions)**\n",
    "- A concise, one-line way to write a simple if-else statement.\n",
    "- Syntax: value_if_true if condition else value_if_false"
   ]
  },
  {
   "cell_type": "code",
   "execution_count": 2,
   "id": "83dd10a9-4805-4325-a386-1cdfd69e77e5",
   "metadata": {},
   "outputs": [
    {
     "name": "stdout",
     "output_type": "stream",
     "text": [
      "Status (using ternary operator): Adult\n"
     ]
    }
   ],
   "source": [
    "age = 20\n",
    "status = \"Adult\" if age >= 18 else \"Minor\"\n",
    "print(f\"Status (using ternary operator): {status}\")"
   ]
  },
  {
   "cell_type": "markdown",
   "id": "e48babb9-85a2-4d40-a0b7-acc3884fb7d7",
   "metadata": {
    "jp-MarkdownHeadingCollapsed": true
   },
   "source": [
    "## **2. for Loops**"
   ]
  },
  {
   "cell_type": "code",
   "execution_count": 4,
   "id": "436816f1-20ec-4ed2-9912-323ab0bb2c84",
   "metadata": {},
   "outputs": [
    {
     "name": "stdout",
     "output_type": "stream",
     "text": [
      "I like Apple\n",
      "I like Banana\n",
      "I like Cherry\n",
      "P y t h o n \n",
      "\n",
      "Looping with range: 0\n",
      "Looping with range: 1\n",
      "Looping with range: 2\n",
      "Looping with range: 3\n",
      "Looping with range: 4\n",
      "Even numbers: 2\n",
      "Even numbers: 4\n",
      "Even numbers: 6\n",
      "Index 0: apple\n",
      "Index 1: banana\n",
      "Index 2: cherry\n",
      "\n",
      "Looping over dictionary keys:\n",
      "name\n",
      "age\n",
      "major\n",
      "\n",
      "Looping over dictionary items:\n",
      "Name: Alice\n",
      "Age: 26\n",
      "Major: Data Science\n"
     ]
    }
   ],
   "source": [
    "# Iterating over a list\n",
    "fruits = [\"apple\", \"banana\", \"cherry\"]\n",
    "for fruit in fruits:\n",
    "    print(f\"I like {fruit.title()}\")\n",
    "\n",
    "# Iterating over a string\n",
    "for char in \"Python\":\n",
    "    print(char, end=\" \") # end=\" \" prints a space instead of a newline\n",
    "print(\"\\n\") # Print a newline to separate outputs\n",
    "\n",
    "# The range() function\n",
    "# range(stop) -> from 0 up to (but not including) stop\n",
    "# range(start, stop) -> from start up to stop\n",
    "# range(start, stop, step) -> from start up to stop, incrementing by step\n",
    "for i in range(5):\n",
    "    print(f\"Looping with range: {i}\")\n",
    "\n",
    "for i in range(2, 8, 2): # Start at 2, end before 8, step by 2\n",
    "    print(f\"Even numbers: {i}\")\n",
    "\n",
    "# Looping with an index using enumerate()\n",
    "# enumerate() is incredibly handy when you need to know both the item and its position within a sequence while looping.\n",
    "# This is very Pythonic and useful when you need both the index and the item.\n",
    "fruits = [\"apple\", \"banana\", \"cherry\"]\n",
    "for index, fruit in enumerate(fruits):\n",
    "    print(f\"Index {index}: {fruit}\")\n",
    "\n",
    "# Looping over a dictionary\n",
    "student = {\"name\": \"Alice\", \"age\": 26, \"major\": \"Data Science\"}\n",
    "\n",
    "# By default, looping over a dict gives you the keys\n",
    "print(\"\\nLooping over dictionary keys:\")\n",
    "for key in student:\n",
    "    print(key)\n",
    "\n",
    "# To get keys and values, use .items()\n",
    "print(\"\\nLooping over dictionary items:\")\n",
    "for key, value in student.items():\n",
    "    print(f\"{key.title()}: {value}\")"
   ]
  },
  {
   "cell_type": "markdown",
   "id": "1c9827ab-744c-4631-a6a4-e344cfbd0b1d",
   "metadata": {
    "jp-MarkdownHeadingCollapsed": true
   },
   "source": [
    "## **3. while Loops**"
   ]
  },
  {
   "cell_type": "code",
   "execution_count": 5,
   "id": "7f70a9f7-fac4-4dc7-9343-1c963b763c91",
   "metadata": {},
   "outputs": [
    {
     "name": "stdout",
     "output_type": "stream",
     "text": [
      "While loop count is 0\n",
      "While loop count is 1\n",
      "While loop count is 2\n",
      "While loop count is 3\n",
      "While loop count is 4\n",
      "While loop finished.\n",
      "Received command: 'start'\n",
      "Received command: 'process'\n",
      "Received command: 'process'\n",
      "Received command: 'stop'\n"
     ]
    }
   ],
   "source": [
    "# A simple while loop\n",
    "count = 0\n",
    "while count < 5:\n",
    "    print(f\"While loop count is {count}\")\n",
    "    count += 1 # Crucial step! This is what eventually makes the condition False.\n",
    "\n",
    "print(\"While loop finished.\")\n",
    "\n",
    "# A common use case: waiting for user input\n",
    "# (This would run forever in a notebook unless you interrupt it,\n",
    "# so we'll simulate it with a list of inputs)\n",
    "commands = [\"start\", \"process\", \"process\", \"stop\", \"ignored\"]\n",
    "command = \"\"\n",
    "index = 0\n",
    "\n",
    "while command.lower() != \"stop\":\n",
    "    if index < len(commands):\n",
    "        command = commands[index]\n",
    "        print(f\"Received command: '{command}'\")\n",
    "        # In a real app, this might be: command = input(\"Enter command: \")\n",
    "        index += 1\n",
    "    else:\n",
    "        # Prevent infinite loop in this simulation\n",
    "        print(\"End of command list reached.\")\n",
    "        break # We'll discuss 'break' next"
   ]
  },
  {
   "cell_type": "markdown",
   "id": "0534b569-99dc-4da0-95c6-c2fc97a75152",
   "metadata": {
    "jp-MarkdownHeadingCollapsed": true
   },
   "source": [
    "## **4. Loop Control Statements (break, continue, pass)**\n",
    "- **break:** Exits the current (innermost) loop immediately.\n",
    "- **continue:** Skips the rest of the current iteration and moves to the top of the next iteration.\n",
    "- **pass:** Does nothing. It's used as a placeholder where syntax requires a statement, but you don't want any code to execute (e.g., in an empty function or if block you plan to fill in later)."
   ]
  },
  {
   "cell_type": "code",
   "execution_count": 6,
   "id": "bc230182-bad5-4d10-92f4-b5d9e374024f",
   "metadata": {},
   "outputs": [
    {
     "name": "stdout",
     "output_type": "stream",
     "text": [
      "Found a number divisible by 7: 49\n",
      "Odd number: 1\n",
      "Odd number: 3\n",
      "Odd number: 5\n",
      "Odd number: 7\n",
      "Odd number: 9\n"
     ]
    }
   ],
   "source": [
    "# break example: find the first number divisible by 7\n",
    "numbers = [2, 13, 24, 49, 50, 63, 71]\n",
    "for num in numbers:\n",
    "    if num % 7 == 0:\n",
    "        print(f\"Found a number divisible by 7: {num}\")\n",
    "        break # Exit the loop immediately\n",
    "\n",
    "# continue example: print only the odd numbers\n",
    "for i in range(10):\n",
    "    if i % 2 == 0: # If the number is even...\n",
    "        continue   # ...skip to the next iteration\n",
    "    print(f\"Odd number: {i}\")\n",
    "\n",
    "# pass example\n",
    "if age > 18:\n",
    "    pass # Placeholder for code to be written later\n",
    "else:\n",
    "    print(\"Action for minor.\")"
   ]
  },
  {
   "cell_type": "markdown",
   "id": "34eaf4d7-b447-40b4-bcd3-4459688be2b7",
   "metadata": {},
   "source": [
    "## **Exercises**"
   ]
  },
  {
   "cell_type": "markdown",
   "id": "b5678d54-2ed5-4788-a1d8-9008a52d097a",
   "metadata": {},
   "source": [
    "**1. FizzBuzz:** This is a classic programming interview question.\n",
    "- Write a program that iterates from 1 to 100 (inclusive).\n",
    "- For each number, print \"Fizz\" if the number is divisible by 3, \"Buzz\" if the number is divisible by 5, and \"FizzBuzz\" if - - - it's divisible by both 3 and 5.\n",
    "- If the number is not divisible by 3 or 5, just print the number itself."
   ]
  },
  {
   "cell_type": "code",
   "execution_count": 15,
   "id": "69846080-bc9f-47b6-9169-c08d78379a77",
   "metadata": {},
   "outputs": [
    {
     "name": "stdout",
     "output_type": "stream",
     "text": [
      "for 1: 1\n",
      "for 2: 2\n",
      "for 3: Fizz\n",
      "for 4: 4\n",
      "for 5: Buzz\n",
      "for 6: Fizz\n",
      "for 7: 7\n",
      "for 8: 8\n",
      "for 9: Fizz\n",
      "for 10: Buzz\n",
      "for 11: 11\n",
      "for 12: Fizz\n",
      "for 13: 13\n",
      "for 14: 14\n",
      "for 15: FizzBuzz\n",
      "for 16: 16\n",
      "for 17: 17\n",
      "for 18: Fizz\n",
      "for 19: 19\n",
      "for 20: Buzz\n",
      "for 21: Fizz\n",
      "for 22: 22\n",
      "for 23: 23\n",
      "for 24: Fizz\n",
      "for 25: Buzz\n",
      "for 26: 26\n",
      "for 27: Fizz\n",
      "for 28: 28\n",
      "for 29: 29\n",
      "for 30: FizzBuzz\n",
      "for 31: 31\n",
      "for 32: 32\n",
      "for 33: Fizz\n",
      "for 34: 34\n",
      "for 35: Buzz\n",
      "for 36: Fizz\n",
      "for 37: 37\n",
      "for 38: 38\n",
      "for 39: Fizz\n",
      "for 40: Buzz\n",
      "for 41: 41\n",
      "for 42: Fizz\n",
      "for 43: 43\n",
      "for 44: 44\n",
      "for 45: FizzBuzz\n",
      "for 46: 46\n",
      "for 47: 47\n",
      "for 48: Fizz\n",
      "for 49: 49\n",
      "for 50: Buzz\n",
      "for 51: Fizz\n",
      "for 52: 52\n",
      "for 53: 53\n",
      "for 54: Fizz\n",
      "for 55: Buzz\n",
      "for 56: 56\n",
      "for 57: Fizz\n",
      "for 58: 58\n",
      "for 59: 59\n",
      "for 60: FizzBuzz\n",
      "for 61: 61\n",
      "for 62: 62\n",
      "for 63: Fizz\n",
      "for 64: 64\n",
      "for 65: Buzz\n",
      "for 66: Fizz\n",
      "for 67: 67\n",
      "for 68: 68\n",
      "for 69: Fizz\n",
      "for 70: Buzz\n",
      "for 71: 71\n",
      "for 72: Fizz\n",
      "for 73: 73\n",
      "for 74: 74\n",
      "for 75: FizzBuzz\n",
      "for 76: 76\n",
      "for 77: 77\n",
      "for 78: Fizz\n",
      "for 79: 79\n",
      "for 80: Buzz\n",
      "for 81: Fizz\n",
      "for 82: 82\n",
      "for 83: 83\n",
      "for 84: Fizz\n",
      "for 85: Buzz\n",
      "for 86: 86\n",
      "for 87: Fizz\n",
      "for 88: 88\n",
      "for 89: 89\n",
      "for 90: FizzBuzz\n",
      "for 91: 91\n",
      "for 92: 92\n",
      "for 93: Fizz\n",
      "for 94: 94\n",
      "for 95: Buzz\n",
      "for 96: Fizz\n",
      "for 97: 97\n",
      "for 98: 98\n",
      "for 99: Fizz\n",
      "for 100: Buzz\n"
     ]
    }
   ],
   "source": [
    "for num in range(1,101):\n",
    "    if num % 3 == 0 and num % 5 == 0:\n",
    "        print(f\"for {num}: FizzBuzz\")\n",
    "    elif num % 5 ==0:\n",
    "        print(f\"for {num}: Buzz\")\n",
    "    elif num %3 == 0:\n",
    "        print(f\"for {num}: Fizz\")\n",
    "    else:\n",
    "        print(f\"for {num}: {num}\")\n",
    "        "
   ]
  },
  {
   "cell_type": "markdown",
   "id": "86c2aa92-aca1-437c-9095-b2a3ef40f284",
   "metadata": {},
   "source": [
    "**2. Prime Number Checker:**\n",
    "- Create a variable num_to_check (e.g., num_to_check = 29).\n",
    "- Write a for loop to check if num_to_check is a prime number. A prime number is only divisible by 1 and itself.\n",
    "- Hint: Iterate from 2 up to num_to_check - 1. If you find any number in that range that divides num_to_check evenly, it's not prime. You can use a flag variable (e.g., is_prime = True) and change it if you find a divisor, then break the loop.\n",
    "- Print whether the number is prime or not."
   ]
  },
  {
   "cell_type": "code",
   "execution_count": 15,
   "id": "696ca9d1-6a93-4a8a-abb4-ce070f873835",
   "metadata": {},
   "outputs": [
    {
     "name": "stdout",
     "output_type": "stream",
     "text": [
      "========================= Welcome to the Prime Number checking system =========================\n",
      "\n"
     ]
    },
    {
     "name": "stdin",
     "output_type": "stream",
     "text": [
      "Enter a number:  1001\n"
     ]
    },
    {
     "name": "stdout",
     "output_type": "stream",
     "text": [
      "1001 is not a prime number, its smallest divisor is 7\n",
      "\n",
      "==================================== Exiting... Thank You! ====================================\n"
     ]
    }
   ],
   "source": [
    "print(f\"{'='*25} Welcome to the Prime Number checking system {'='*25}\\n\")\n",
    "\n",
    "num_to_check = int(input(\"Enter a number: \"))\n",
    "\n",
    "if num_to_check <= 1:\n",
    "    print(f\"{num_to_check} is not a prime number!\")\n",
    "elif num_to_check <0:\n",
    "    print(\"Please enter a positive number!\")\n",
    "else:\n",
    "    is_prime = True\n",
    "    for value in range(2,num_to_check):\n",
    "        if num_to_check % value == 0:\n",
    "            smallest_divisor = value\n",
    "            is_prime = False\n",
    "            break\n",
    "if is_prime:\n",
    "    print(f\"{num_to_check} is a prime number\")\n",
    "else:\n",
    "    print(f\"{num_to_check} is not a prime number, its smallest divisor is {smallest_divisor}\")\n",
    "print(f\"\\n{'='*36} Exiting... Thank You! {'='*36}\")\n",
    "    "
   ]
  },
  {
   "cell_type": "markdown",
   "id": "da231a7d-4fba-4895-bde5-7c86855c8c0f",
   "metadata": {},
   "source": [
    "**3. Password Guessing Game (Simple while loop):**\n",
    "- Create a variable secret_password = \"python123\".\n",
    "- Create a while loop that asks the user to guess the password.\n",
    "- If the guess is correct, print a success message and exit the loop.\n",
    "- If the guess is incorrect, print a \"Wrong, try again!\" message.\n",
    "- (In a notebook, you can't use input() in a loop easily. Instead, create a list of guesses = [\"wrong\", \"still wrong\", \"python123\", \"never seen\"] and iterate through it inside your while loop to simulate user input.)"
   ]
  },
  {
   "cell_type": "code",
   "execution_count": 75,
   "id": "a648c410-cc07-44cb-9693-6232ac0144c1",
   "metadata": {},
   "outputs": [
    {
     "name": "stdout",
     "output_type": "stream",
     "text": [
      "========================= Welcome to the Password Guessing Game =========================\n",
      "\n"
     ]
    },
    {
     "name": "stdin",
     "output_type": "stream",
     "text": [
      "Enter the secret password:  jkwywGUGJ786@#\n"
     ]
    },
    {
     "name": "stdout",
     "output_type": "stream",
     "text": [
      "Wrong, try again!\n"
     ]
    },
    {
     "name": "stdin",
     "output_type": "stream",
     "text": [
      "Enter the secret password:  python123\n"
     ]
    },
    {
     "name": "stdout",
     "output_type": "stream",
     "text": [
      "Bingo! You guessed it correctly!\n",
      "\n",
      "================================= Exiting... Thank You! =================================\n"
     ]
    }
   ],
   "source": [
    "print(f\"{'='*25} Welcome to the Password Guessing Game {'='*25}\\n\")\n",
    "secret_password = \"python123\"\n",
    "\n",
    "while True:\n",
    "    password = input(\"Enter the secret password: \")\n",
    "    if password == secret_password:\n",
    "        print(\"Bingo! You guessed it correctly!\")\n",
    "        print(f\"\\n{'='*33} Exiting... Thank You! {'='*33}\")\n",
    "        break\n",
    "    else:\n",
    "        print(\"Wrong, try again!\")"
   ]
  },
  {
   "cell_type": "markdown",
   "id": "785fd35e-c5ed-457c-a690-470d77646b95",
   "metadata": {},
   "source": [
    "**4. List Comprehensions (A Glimpse of the \"Amaze\" Factor):**\n",
    "- A List Comprehension is a concise way to create lists. The syntax is [expression for item in iterable if condition].\n",
    "- Task 1: Using a for loop, create a list of the squares of the numbers from 0 to 9.\n",
    "- Task 2: Now, do the same thing in a single line using a list comprehension.\n",
    "- Task 3: Using a list comprehension, create a list of all the even numbers from 0 to 20. (Hint: the if part is optional but needed here).\n",
    "- Print the results from all tasks to see the comparison."
   ]
  },
  {
   "cell_type": "code",
   "execution_count": 13,
   "id": "f18df6c1-badd-4692-94b8-2b1e90fb4ea7",
   "metadata": {},
   "outputs": [
    {
     "name": "stdout",
     "output_type": "stream",
     "text": [
      "========== Task 1: Using for loop ==========\n",
      "\n",
      "Square numbers list: [0, 1, 4, 9, 16, 25, 36, 49, 64, 81]\n",
      "\n",
      "========== Task 2: Using List comprehension ==========\n",
      "\n",
      "Square numbers list: [0, 1, 4, 9, 16, 25, 36, 49, 64, 81]\n",
      "\n",
      "========== Task 3: list of all the even numbers from 0 to 20. Using List comprehension ==========\n",
      "\n",
      "Even numbers from 0 - 20: [0, 2, 4, 6, 8, 10, 12, 14, 16, 18, 20]\n"
     ]
    }
   ],
   "source": [
    "print(f\"{'='*10} Task 1: Using for loop {'='*10}\\n\")\n",
    "number = [0, 1, 2, 3, 4, 5, 6, 7, 8, 9]\n",
    "square_number = []\n",
    "for value in number:\n",
    "    square_number.append(value ** 2)\n",
    "print(f\"Square numbers list: {square_number}\")\n",
    "\n",
    "print(f\"\\n{'='*10} Task 2: Using List comprehension {'='*10}\\n\")\n",
    "numbers = [0, 1, 2, 3, 4, 5, 6, 7, 8, 9]\n",
    "\n",
    "square_numbers = [num **2 for num in numbers]\n",
    "print(f\"Square numbers list: {square_numbers}\")\n",
    "\n",
    "print(f\"\\n{'='*10} Task 3: list of all the even numbers from 0 to 20. Using List comprehension {'='*10}\\n\")\n",
    "even_number = [num for num in range(0,21) if num % 2 == 0]\n",
    "print(f\"Even numbers from 0 - 20: {even_number}\")\n"
   ]
  },
  {
   "cell_type": "code",
   "execution_count": null,
   "id": "ac754feb-221a-4862-8607-d0ccfbf71a88",
   "metadata": {},
   "outputs": [],
   "source": []
  }
 ],
 "metadata": {
  "kernelspec": {
   "display_name": "Python 3 (ipykernel)",
   "language": "python",
   "name": "python3"
  },
  "language_info": {
   "codemirror_mode": {
    "name": "ipython",
    "version": 3
   },
   "file_extension": ".py",
   "mimetype": "text/x-python",
   "name": "python",
   "nbconvert_exporter": "python",
   "pygments_lexer": "ipython3",
   "version": "3.11.9"
  }
 },
 "nbformat": 4,
 "nbformat_minor": 5
}

{
 "cells": [
  {
   "cell_type": "code",
   "execution_count": 1,
   "id": "43791a67-c3df-416a-aa20-2fee341abf78",
   "metadata": {},
   "outputs": [
    {
     "name": "stdout",
     "output_type": "stream",
     "text": [
      "Hello, Python learners!\n",
      "We are exploring strings.\n",
      "Strings can\n",
      "span multiple\n",
      "lines easily.\n",
      "Hi Mentor!\n",
      "--------------------\n",
      "Length of full_greeting: 10\n"
     ]
    }
   ],
   "source": [
    "# In your 1.1.2_python_strings.ipynb notebook\n",
    "message1 = \"Hello, Python learners!\"\n",
    "message2 = 'We are exploring strings.'\n",
    "multiline = \"\"\"Strings can\n",
    "span multiple\n",
    "lines easily.\"\"\"\n",
    "\n",
    "print(message1)\n",
    "print(message2)\n",
    "print(multiline)\n",
    "\n",
    "greeting = \"Hi\"\n",
    "name = \"Mentor\"\n",
    "full_greeting = greeting + \" \" + name + \"!\" # Concatenation\n",
    "print(full_greeting)\n",
    "\n",
    "separator = \"-\" * 20 # Repetition\n",
    "print(separator)\n",
    "\n",
    "print(f\"Length of full_greeting: {len(full_greeting)}\")"
   ]
  },
  {
   "cell_type": "code",
   "execution_count": 2,
   "id": "d9f12302-1f30-4911-908b-1808cbd44afc",
   "metadata": {},
   "outputs": [
    {
     "name": "stdout",
     "output_type": "stream",
     "text": [
      "First character: P\n",
      "Seventh character:  \n",
      "Last character: !\n",
      "Second to last character: g\n",
      "First 6 characters: Python\n",
      "From index 7 to end: is amazing!\n",
      "From index 7 to 10 (exclusive): is \n",
      "Entire string (copy): Python is amazing!\n",
      "Every other char: Pto saaig\n",
      "Reverse the string: !gnizama si nohtyP\n",
      "Last 7 characters: mazing!\n",
      "From start up to last 8 chars: Python is \n"
     ]
    }
   ],
   "source": [
    "# Indexing and Slicing Strings\n",
    "text = \"Python is amazing!\"\n",
    "\n",
    "# Indexing\n",
    "print(f\"First character: {text[0]}\")  # Output: P\n",
    "print(f\"Seventh character: {text[6]}\") # Output: (space)\n",
    "print(f\"Last character: {text[-1]}\") # Output: !\n",
    "print(f\"Second to last character: {text[-2]}\") # Output: g\n",
    "\n",
    "# Slicing\n",
    "print(f\"First 6 characters: {text[0:6]}\")  # Output: Python (or simply text[:6])\n",
    "print(f\"From index 7 to end: {text[7:]}\") # Output: is amazing!\n",
    "print(f\"From index 7 to 10 (exclusive): {text[7:10]}\") # Output: is\n",
    "print(f\"Entire string (copy): {text[:]}\")\n",
    "print(f\"Every other char: {text[::2]}\") # Output: Pto saaig\n",
    "print(f\"Reverse the string: {text[::-1]}\") # Output: !gnizama si nohtyP\n",
    "\n",
    "# Slicing with negative indices\n",
    "print(f\"Last 7 characters: {text[-7:]}\") # Output: amazing!\n",
    "print(f\"From start up to last 8 chars: {text[:-8]}\") # Output: Python is"
   ]
  },
  {
   "cell_type": "code",
   "execution_count": 3,
   "id": "713840d1-2e6f-4c32-b4a7-495339eabd85",
   "metadata": {},
   "outputs": [
    {
     "name": "stdout",
     "output_type": "stream",
     "text": [
      "Lower: data science is fun!\n",
      "Upper: DATA SCIENCE IS FUN!\n",
      "Capitalize: Data science is fun!\n",
      "Title: Data Science Is Fun!\n",
      "Swapcase: dATA sCIENCE IS fun!\n"
     ]
    }
   ],
   "source": [
    "# Case Conversion:\n",
    "sentence = \"Data Science is FUN!\"\n",
    "print(f\"Lower: {sentence.lower()}\")\n",
    "print(f\"Upper: {sentence.upper()}\")\n",
    "print(f\"Capitalize: {sentence.capitalize()}\") # Note: only first char of sentence\n",
    "print(f\"Title: {sentence.title()}\")\n",
    "print(f\"Swapcase: {sentence.swapcase()}\")"
   ]
  },
  {
   "cell_type": "code",
   "execution_count": 4,
   "id": "be01dcc1-3cfe-4f4b-9866-06f04659f50f",
   "metadata": {},
   "outputs": [
    {
     "name": "stdout",
     "output_type": "stream",
     "text": [
      "Count of 'python': 3\n",
      "Find 'program': 7\n",
      "Find 'java': -1\n",
      "Starts with 'py': True\n",
      "Ends with '.': True\n"
     ]
    }
   ],
   "source": [
    "# Searching and Counting:\n",
    "text = \"python programming is pythonic and fun, python.\"\n",
    "print(f\"Count of 'python': {text.count('python')}\") # Output: 3\n",
    "print(f\"Find 'program': {text.find('program')}\")    # Output: 7\n",
    "print(f\"Find 'java': {text.find('java')}\")          # Output: -1\n",
    "# print(f\"Index 'java': {text.index('java')}\")      # This would raise ValueError\n",
    "\n",
    "print(f\"Starts with 'py': {text.startswith('py')}\") # Output: True\n",
    "print(f\"Ends with '.': {text.endswith('.')}\")       # Output: True"
   ]
  },
  {
   "cell_type": "code",
   "execution_count": 7,
   "id": "67ef3eeb-7056-4af0-97b8-fd5c885ef952",
   "metadata": {},
   "outputs": [
    {
     "name": "stdout",
     "output_type": "stream",
     "text": [
      "Original: '   lots of spaces   '\n",
      "Stripped: 'lots of spaces'\n",
      "LStripped: 'lots of spaces   '\n",
      "RStripped: '   lots of spaces'\n",
      "Custom strip: 'Hello'\n"
     ]
    }
   ],
   "source": [
    "# Whitespace Manipulation:\n",
    "padded_string = \"   lots of spaces   \"\n",
    "print(f\"Original: '{padded_string}'\")\n",
    "print(f\"Stripped: '{padded_string.strip()}'\")\n",
    "print(f\"LStripped: '{padded_string.lstrip()}'\")\n",
    "print(f\"RStripped: '{padded_string.rstrip()}'\")\n",
    "\n",
    "custom_strip = \"---Hello,,,\"\n",
    "print(f\"Custom strip: '{custom_strip.strip('- ,')}'\") # Output: 'Hello'"
   ]
  },
  {
   "cell_type": "code",
   "execution_count": 8,
   "id": "64503dba-f273-4628-976b-c37244398531",
   "metadata": {},
   "outputs": [
    {
     "name": "stdout",
     "output_type": "stream",
     "text": [
      "I like dogs. Cats are cute.\n",
      "I like cats. Birds are cute.\n"
     ]
    }
   ],
   "source": [
    "# Replacing Content:\n",
    "sentence = \"I like cats. Cats are cute.\"\n",
    "new_sentence = sentence.replace(\"cats\", \"dogs\")\n",
    "print(new_sentence) # Output: I like dogs. Dogs are cute.\n",
    "\n",
    "limited_replace = sentence.replace(\"Cats\", \"Birds\", 1) # Case sensitive!\n",
    "print(limited_replace) # Output: I like cats. Birds are cute."
   ]
  },
  {
   "cell_type": "code",
   "execution_count": 9,
   "id": "b1b80530-2a28-453c-bd74-c6cc8ce0e7e6",
   "metadata": {},
   "outputs": [
    {
     "name": "stdout",
     "output_type": "stream",
     "text": [
      "Split CSV: ['name', 'age', 'city']\n",
      "Split words: ['This', 'is', 'a', 'sentence']\n",
      "Joined with space: 'Python is awesome'\n",
      "Joined with dash: 'Python-is-awesome'\n"
     ]
    }
   ],
   "source": [
    "# Splitting and Joining: \n",
    "csv_data = \"name,age,city\"\n",
    "parts = csv_data.split(',')\n",
    "print(f\"Split CSV: {parts}\") # Output: ['name', 'age', 'city']\n",
    "\n",
    "words = \"This is a sentence\"\n",
    "word_list = words.split() # Splits by space\n",
    "print(f\"Split words: {word_list}\") # Output: ['This', 'is', 'a', 'sentence']\n",
    "\n",
    "my_list = [\"Python\", \"is\", \"awesome\"]\n",
    "joined_string = \" \".join(my_list)\n",
    "print(f\"Joined with space: '{joined_string}'\") # Output: 'Python is awesome'\n",
    "\n",
    "dashed_string = \"-\".join(my_list)\n",
    "print(f\"Joined with dash: '{dashed_string}'\") # Output: 'Python-is-awesome'"
   ]
  },
  {
   "cell_type": "code",
   "execution_count": 10,
   "id": "bb277119-fbda-40e8-98df-40e459c71c82",
   "metadata": {},
   "outputs": [
    {
     "name": "stdout",
     "output_type": "stream",
     "text": [
      "'Python'.isalpha(): True\n",
      "'Python3'.isalpha(): False\n",
      "'12345'.isdigit(): True\n",
      "'  '.isspace(): True\n",
      "'word'.islower(): True\n",
      "'Title Case'.istitle(): True\n"
     ]
    }
   ],
   "source": [
    "# Checking Character Types:\n",
    "print(f\"'Python'.isalpha(): {'Python'.isalpha()}\") # True\n",
    "print(f\"'Python3'.isalpha(): {'Python3'.isalpha()}\") # False\n",
    "print(f\"'12345'.isdigit(): {'12345'.isdigit()}\")   # True\n",
    "print(f\"'  '.isspace(): {'  '.isspace()}\")       # True\n",
    "print(f\"'word'.islower(): {'word'.islower()}\")     # True\n",
    "print(f\"'Title Case'.istitle(): {'Title Case'.istitle()}\") # True"
   ]
  },
  {
   "cell_type": "code",
   "execution_count": 14,
   "id": "b13669eb-5a17-4252-9422-be043b778bd0",
   "metadata": {},
   "outputs": [
    {
     "name": "stdout",
     "output_type": "stream",
     "text": [
      "My name is Bard and I am 2 years old.\n",
      "Pi to 2 decimal places: 3.14\n",
      "Age padded with zeros (width 3): 002\n",
      "Value with 10 spaces, right-aligned:          2\n",
      "Value with 10 spaces, left-aligned: 2         \n",
      "Value with 10 spaces, center-aligned:     2     \n"
     ]
    }
   ],
   "source": [
    "# String Formatting\n",
    "# f-Strings\n",
    "name = \"Bard\"\n",
    "age = 2\n",
    "pi = 3.1415926535\n",
    "\n",
    "print(f\"My name is {name} and I am {age} years old.\")\n",
    "print(f\"Pi to 2 decimal places: {pi:.2f}\")\n",
    "print(f\"Age padded with zeros (width 3): {age:03d}\") # d for integer\n",
    "print(f\"Value with 10 spaces, right-aligned: {age:>10}\")\n",
    "print(f\"Value with 10 spaces, left-aligned: {age:<10}\")\n",
    "print(f\"Value with 10 spaces, center-aligned: {age:^10}\")"
   ]
  },
  {
   "cell_type": "code",
   "execution_count": 15,
   "id": "340aec32-c15f-49aa-9b79-f2e6a4ecf2c3",
   "metadata": {},
   "outputs": [
    {
     "name": "stdout",
     "output_type": "stream",
     "text": [
      "My name is Bard and I am 2 years old.\n",
      "Pi to 3 decimal places: 3.142\n"
     ]
    }
   ],
   "source": [
    "# print(\"My name is {} and I am {} years old.\".format(name, age))\n",
    "print(\"My name is {n} and I am {a} years old.\".format(n=name, a=age)) # Using keywords\n",
    "print(\"Pi to 3 decimal places: {:.3f}\".format(pi))"
   ]
  },
  {
   "cell_type": "markdown",
   "id": "20663b68-f741-4406-a476-78d5d38a6a40",
   "metadata": {},
   "source": [
    "**Exercises:**"
   ]
  },
  {
   "cell_type": "code",
   "execution_count": 72,
   "id": "894868cd-da4b-4aa6-a3c5-d3924382167e",
   "metadata": {
    "scrolled": true
   },
   "outputs": [
    {
     "name": "stdout",
     "output_type": "stream",
     "text": [
      "Original string: stressed\n",
      "Reverse the string: desserts\n"
     ]
    }
   ],
   "source": [
    "# 1. String Reverser:\n",
    "# Take a string (e.g., user_input = \"stressed\").\n",
    "# Reverse it using slicing.\n",
    "# Print the original and reversed string. (The reversed string should be \"desserts\").\n",
    "\n",
    "user_input = \"stressed\"\n",
    "print(f\"Original string: {user_input}\\nReverse the string: {user_input[::-1]}\")\n"
   ]
  },
  {
   "cell_type": "markdown",
   "id": "85975c34-a128-4d6e-9dd0-3e4fa34ec9a6",
   "metadata": {
    "jp-MarkdownHeadingCollapsed": true
   },
   "source": [
    "**2. Word Counter & Replacer:**"
   ]
  },
  {
   "cell_type": "markdown",
   "id": "a3b1bfda-977a-4e78-9f21-7db95a1b6d3d",
   "metadata": {
    "jp-MarkdownHeadingCollapsed": true,
    "jupyter": {
     "source_hidden": true
    }
   },
   "source": [
    "Given a sentence: sentence = \"the quick brown fox jumps over the lazy dog the THE\"\n",
    "Convert the entire sentence to lowercase to make counting case-insensitive.\n",
    "Count how many times the word \"the\" appears.\n",
    "Replace all occurrences of \"the\" (case-insensitive after lowercasing) with \"a\".\n",
    "Print the original count and the new sentence."
   ]
  },
  {
   "cell_type": "code",
   "execution_count": 28,
   "id": "f9659f6d-9d65-46ea-8fea-c2bb131fdadf",
   "metadata": {},
   "outputs": [
    {
     "name": "stdout",
     "output_type": "stream",
     "text": [
      "Lower Case: the quick brown fox jumps over the lazy dog the the\n",
      "Count of 'the': 3\n",
      "Replace 'the' with 'a': a quick brown fox jumps over a lazy dog a THE\n",
      "The Original Count: 3\n",
      "New Sentence: a quick brown fox jumps over a lazy dog a THE\n"
     ]
    }
   ],
   "source": [
    "# 2. Word Counter & Replacer:\n",
    "# Given a sentence: sentence = \"the quick brown fox jumps over the lazy dog the THE\"\n",
    "# Convert the entire sentence to lowercase to make counting case-insensitive.\n",
    "# Count how many times the word \"the\" appears.\n",
    "# Replace all occurrences of \"the\" (case-insensitive after lowercasing) with \"a\".\n",
    "# Print the original count and the new sentence.\n",
    "\n",
    "sentence = \"the quick brown fox jumps over the lazy dog the THE\"\n",
    "\n",
    "lower_sentence = sentence.lower()\n",
    "print(f\"Lower Case: {lower_sentence}\")\n",
    "\n",
    "count_the = sentence.count('the')\n",
    "print(f\"Count of 'the': {count_the}\")\n",
    "\n",
    "new_sentence = sentence.replace('the', 'a')\n",
    "print(f\"Replace 'the' with 'a': {new_sentence}\")\n",
    "\n",
    "print(f\"The Original Count: {count_the}\")\n",
    "print(f\"New Sentence: {new_sentence}\")"
   ]
  },
  {
   "cell_type": "markdown",
   "id": "152e1a51-3acb-4410-af67-7d2f797f9758",
   "metadata": {},
   "source": [
    "**3. Email Validator (Simple):**"
   ]
  },
  {
   "cell_type": "code",
   "execution_count": 73,
   "id": "4662bedb-3a1d-48e8-91c0-f63c549d4512",
   "metadata": {},
   "outputs": [
    {
     "name": "stdout",
     "output_type": "stream",
     "text": [
      "Count of '@' Symbol is: 1\n",
      "Does it contain a '.' after the '@' symbol?(-1 equal to No): True\n",
      "Does it start with an alphanumeric character?: True\n",
      "Does it end with .com, .org, or .net?: True\n",
      "\n",
      "*****Email is valid*****\n"
     ]
    }
   ],
   "source": [
    "# Take a string representing an email (e.g., email = \"user@example.com\").\n",
    "# Perform these simple checks:\n",
    "# Does it contain exactly one \"@\" symbol?\n",
    "# Does it contain a \".\" after the \"@\" symbol?\n",
    "# Does it start with an alphanumeric character?\n",
    "# Does it end with \".com\" or \".org\" or \".net\"? (You can use endswith() with a tuple of suffixes).\n",
    "# Print whether the email is \"valid\" or \"invalid\" based on these simple rules.\n",
    "# (This is a very basic validator, real email validation is much more complex).\n",
    "\n",
    "email = \"xyzabc@example.com\"\n",
    "print(f\"Count of '@' Symbol is: {email.count('@')}\")\n",
    "dot_after_at = email.find('@') != -1 and email.find('.', email.find('@')+1) != -1\n",
    "print(f\"Does it contain a '.' after the '@' symbol?(-1 equal to No): {dot_after_at}\")\n",
    "print(f\"Does it start with an alphanumeric character?: {email[0].isalnum()}\")\n",
    "ends_with= email.endswith((\".com\", \".org\", \".net\"))\n",
    "print(f\"Does it end with .com, .org, or .net?: {ends_with}\")\n",
    "\n",
    "if (email.count('@') ==1 and\n",
    "    dot_after_at == True and\n",
    "    email[0].isalnum() == True and\n",
    "    ends_with == True):\n",
    "    print(\"\\n*****Email is valid*****\")\n",
    "else:\n",
    "    print(\"\\n*****email is not valid*****\")\n",
    "    "
   ]
  },
  {
   "cell_type": "markdown",
   "id": "802b4656-d594-4d1c-812d-195fc7c4ad76",
   "metadata": {},
   "source": [
    "**4. Name Formatter:**"
   ]
  },
  {
   "cell_type": "code",
   "execution_count": 53,
   "id": "a230f46a-af2a-4fa3-8725-dfff63028f03",
   "metadata": {},
   "outputs": [
    {
     "name": "stdout",
     "output_type": "stream",
     "text": [
      "Name after cleaning is: ada lovelace\n",
      "Title case Name is: Ada Lovelace\n",
      "First Name: Ada, Last Name: Lovelace\n"
     ]
    }
   ],
   "source": [
    "# Given a full name as a string, possibly with extra spaces: full_name = \" ada lovelace \"\n",
    "# Clean the name (remove leading/trailing spaces).\n",
    "# Convert it to title case.\n",
    "# Extract the first name and last name (assume it's two words separated by a space).\n",
    "# Print: \"First Name: [First_Name], Last Name: [Last_Name]\"\n",
    "\n",
    "full_name = \" ada lovelace \"\n",
    "cleaned_name = full_name.strip()\n",
    "print(f\"Name after cleaning is: {cleaned_name}\")\n",
    "title_case_name= cleaned_name.title()\n",
    "print(f\"Title case Name is: {title_case_name}\")\n",
    "separate_name = title_case_name.split()\n",
    "first_name =separate_name[0]\n",
    "last_name =separate_name[1]\n",
    "print(f\"First Name: {first_name}, Last Name: {last_name}\")"
   ]
  },
  {
   "cell_type": "markdown",
   "id": "f068db75-d687-4fef-a928-03aab80f11f4",
   "metadata": {},
   "source": [
    "**5. CSV Data Parser:**"
   ]
  },
  {
   "cell_type": "code",
   "execution_count": 71,
   "id": "33a855ff-fed5-4dab-90af-b5f7e07c1bfc",
   "metadata": {},
   "outputs": [
    {
     "name": "stdout",
     "output_type": "stream",
     "text": [
      "********** Product detailes **********\n",
      "Product Name: ProductA\n",
      "Price with 2 decimal places: 10.99\n",
      "Quantity: 50\n"
     ]
    }
   ],
   "source": [
    "# Given a string of CSV data: data_row = \"ProductA,10.99,50\" (representing product_name, price, quantity)\n",
    "# Split this string into a list of its components.\n",
    "# Convert the price to a float and the quantity to an integer.\n",
    "# Print the product name, price, and quantity,\n",
    "# each on a new line with a descriptive label, using f-strings for nice formatting (e.g., price with 2 decimal places).\n",
    "\n",
    "data_row = \"ProductA,10.99,50\"\n",
    "list_= data_row.split(',')\n",
    "price= float(list[1])\n",
    "quantity= int(list[2])\n",
    "product_name= list[0]\n",
    "print(f\"{'*'*10} Product detailes {'*'*10}\\nProduct Name: {product_name}\\nPrice with 2 decimal places: {price:.2f}\\nQuantity: {quantity}\")"
   ]
  },
  {
   "cell_type": "code",
   "execution_count": null,
   "id": "a8c76937-cd65-4548-899f-586dae06f9ef",
   "metadata": {},
   "outputs": [],
   "source": []
  }
 ],
 "metadata": {
  "kernelspec": {
   "display_name": "Python 3 (ipykernel)",
   "language": "python",
   "name": "python3"
  },
  "language_info": {
   "codemirror_mode": {
    "name": "ipython",
    "version": 3
   },
   "file_extension": ".py",
   "mimetype": "text/x-python",
   "name": "python",
   "nbconvert_exporter": "python",
   "pygments_lexer": "ipython3",
   "version": "3.11.9"
  }
 },
 "nbformat": 4,
 "nbformat_minor": 5
}

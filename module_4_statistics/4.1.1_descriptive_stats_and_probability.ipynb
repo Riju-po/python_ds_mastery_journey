{
 "cells": [
  {
   "cell_type": "code",
   "execution_count": 2,
   "id": "176b6f0b-a50c-43d7-b191-88f79bd074c5",
   "metadata": {},
   "outputs": [],
   "source": [
    "import pandas as pd\n",
    "import numpy as np\n",
    "import matplotlib.pyplot as plt\n",
    "import seaborn as sns\n",
    "from scipy import stats # We'll import the stats module from SciPy\n",
    "\n",
    "# Load the Titanic dataset again for our examples\n",
    "titanic = sns.load_dataset(\"titanic\")\n",
    "\n",
    "# Let's create a clean version of the 'age' column for demonstration\n",
    "# We fill missing age values with the median age\n",
    "median_age = titanic['age'].median()\n",
    "titanic['age_cleaned'] = titanic['age'].fillna(median_age)"
   ]
  },
  {
   "cell_type": "markdown",
   "id": "64d5a057-e4b7-4a67-ad07-59a5a492e7ca",
   "metadata": {},
   "source": [
    "### **1. Types of Data**\n",
    "This is a quick conceptual review.\n",
    "- **Categorical:** Data that represents categories or labels.\n",
    "    - **Nominal:** Categories with no intrinsic order (e.g., sex: Male/Female, embarked: C/Q/S).\n",
    "    - **Ordinal:** Categories with a meaningful order (e.g., pclass: 1st/2nd/3rd, survey ranks: Bad/Neutral/Good).\n",
    "-  **Numerical:** Data that represents numbers.\n",
    "    - **Discrete:** Can only take specific, distinct values (e.g., sibsp: 0, 1, 2..., pclass: 1, 2, 3).\n",
    "    - **Continuous:** Can take any value within a range (e.g., age, fare)."
   ]
  },
  {
   "cell_type": "markdown",
   "id": "8d88fab0-95a8-4f8a-94cb-43ea231d0cd4",
   "metadata": {},
   "source": [
    "### **2. Descriptive Statistics**\n",
    "Descriptive statistics summarize the main features of a dataset.\n",
    "- Measures of Central Tendency: Where is the \"center\" of the data?\n",
    "    - **Mean:** The average. Sensitive to outliers.\n",
    "    - **Median:** The middle value when the data is sorted. Robust to outliers.\n",
    "    - **Mode:** The most frequently occurring value. Can be used for categorical data."
   ]
  },
  {
   "cell_type": "code",
   "execution_count": 2,
   "id": "01c6cb8e-50d6-4c63-b423-e381dda58e81",
   "metadata": {},
   "outputs": [
    {
     "name": "stdout",
     "output_type": "stream",
     "text": [
      "Mean Age: 29.36\n",
      "Median Age: 28.0\n",
      "Most common embarkation port (Mode): S\n"
     ]
    }
   ],
   "source": [
    "# Using Pandas Series methods\n",
    "mean_age = titanic['age_cleaned'].mean()\n",
    "median_age = titanic['age_cleaned'].median()\n",
    "mode_embarked = titanic['embarked'].mode()[0] # .mode() returns a Series\n",
    "\n",
    "print(f\"Mean Age: {mean_age:.2f}\")\n",
    "print(f\"Median Age: {median_age}\")\n",
    "print(f\"Most common embarkation port (Mode): {mode_embarked}\")"
   ]
  },
  {
   "cell_type": "markdown",
   "id": "7e11f699-ff0d-46f2-89bf-e01f9e96b532",
   "metadata": {},
   "source": [
    "- **Measures of Dispersion (Variability): How spread out is the data?**\n",
    "    - **Range:** max - min. Very sensitive to outliers.\n",
    "    - **Variance (.var()):** The average of the squared differences from the Mean.\n",
    "    - **Standard Deviation (.std()):** The square root of the variance. It's in the same units as the original data, making it more interpretable. A higher standard deviation means more spread.\n",
    "    - **Interquartile Range (IQR):** The range between the 25th percentile (Q1) and the 75th percentile (Q3). It represents the spread of the middle 50% of the data and is robust to outliers."
   ]
  },
  {
   "cell_type": "code",
   "execution_count": 7,
   "id": "8e47ea5a-d22c-4648-be34-dda0288458ee",
   "metadata": {},
   "outputs": [
    {
     "name": "stdout",
     "output_type": "stream",
     "text": [
      "\n",
      "Standard Deviation of Fare: 49.69\n",
      "Standard Deviation of Age: 13.02\n",
      "\n",
      "Fare Q1: 7.91, Q3: 31.00, IQR: 23.09\n",
      "\n",
      "--- .describe() output for 'fare' ---\n",
      "count    891.000000\n",
      "mean      32.204208\n",
      "std       49.693429\n",
      "min        0.000000\n",
      "25%        7.910400\n",
      "50%       14.454200\n",
      "75%       31.000000\n",
      "max      512.329200\n",
      "Name: fare, dtype: float64\n"
     ]
    }
   ],
   "source": [
    "fare_std = titanic['fare'].std()\n",
    "age_std = titanic['age_cleaned'].std()\n",
    "print(f\"\\nStandard Deviation of Fare: {fare_std:.2f}\")\n",
    "print(f\"Standard Deviation of Age: {age_std:.2f}\")\n",
    "\n",
    "# Calculate IQR for fare\n",
    "Q1 = titanic['fare'].quantile(0.25)\n",
    "Q3 = titanic['fare'].quantile(0.75)\n",
    "IQR = Q3 - Q1\n",
    "print(f\"\\nFare Q1: {Q1:.2f}, Q3: {Q3:.2f}, IQR: {IQR:.2f}\")\n",
    "\n",
    "# The .describe() method gives you most of these at once!\n",
    "print(\"\\n--- .describe() output for 'fare' ---\")\n",
    "print(titanic['fare'].describe())"
   ]
  },
  {
   "cell_type": "markdown",
   "id": "5df9ad1a-b5b6-43c9-8acc-ca4a34c72f5b",
   "metadata": {},
   "source": [
    "- **Measures of Shape:**\n",
    "- **Skewness (.skew()):** Measures the asymmetry of the distribution.\n",
    "    - skew = 0: Symmetric (like a perfect normal distribution).\n",
    "    - skew > 0: Positive (right) skew. The tail is on the right. Mean > Median.\n",
    "    - skew < 0: Negative (left) skew. The tail is on the left. Median > Mean.\n",
    "- **Kurtosis (.kurt()):** Measures the \"tailedness\" of the distribution (how heavy the tails are). Higher kurtosis means more outliers.\n",
    "    - **📊 Types of Kurtosis**\n",
    "\n",
    "| **Type**                    | **Description**                        | **Tail Behavior**                  |\n",
    "|----------------------------|----------------------------------------|------------------------------------|\n",
    "| **Mesokurtic** (kurtosis ≈ 0)  | Normal distribution (bell-shaped)     | Standard tails (like normal)       |\n",
    "| **Leptokurtic** (kurtosis > 0) | Sharper peak, fatter tails            | More extreme outliers              |\n",
    "| **Platykurtic** (kurtosis < 0) | Flatter peak, thinner tails           | Fewer extreme outliers             |\n"
   ]
  },
  {
   "cell_type": "code",
   "execution_count": 8,
   "id": "cb50fa9f-b666-4abb-a35f-b04c9f227115",
   "metadata": {},
   "outputs": [
    {
     "name": "stdout",
     "output_type": "stream",
     "text": [
      "\n",
      "Skewness of Fare: 4.79\n",
      "Skewness of Age: 0.51\n"
     ]
    }
   ],
   "source": [
    "fare_skew = titanic['fare'].skew()\n",
    "age_skew = titanic['age_cleaned'].skew()\n",
    "print(f\"\\nSkewness of Fare: {fare_skew:.2f}\") # Will be highly positive\n",
    "print(f\"Skewness of Age: {age_skew:.2f}\")   # Will be slightly positive"
   ]
  },
  {
   "cell_type": "markdown",
   "id": "2f1337db-69bc-4492-a6e6-15621c657643",
   "metadata": {},
   "source": [
    "### **3. Probability Basics (Conceptual)**\n",
    "- Event: An outcome of an experiment (e.g., a passenger surviving).\n",
    "- Sample Space: The set of all possible outcomes.\n",
    "- Probability: `P(Event) = (Number of favorable outcomes) / (Total number of outcomes)`"
   ]
  },
  {
   "cell_type": "code",
   "execution_count": 9,
   "id": "1fc79778-845a-49db-bc2d-c75cef56bd6b",
   "metadata": {},
   "outputs": [
    {
     "name": "stdout",
     "output_type": "stream",
     "text": [
      "\n",
      "Probability of a passenger surviving: 38.38%\n"
     ]
    }
   ],
   "source": [
    "# Calculate the probability of a passenger surviving\n",
    "prob_survival = titanic['survived'].value_counts(normalize=True)[1]\n",
    "# normalize=True gives proportions instead of counts\n",
    "print(f\"\\nProbability of a passenger surviving: {prob_survival:.2%}\")"
   ]
  },
  {
   "cell_type": "markdown",
   "id": "20ce6607-cbc0-438a-bb4a-780028574edd",
   "metadata": {},
   "source": [
    "- **Conditional Probability:** `P(A|B)` - The probability of event A happening given that event B has already happened.\n",
    "    - **Formula:** `P(A|B) = P(A and B) / P(B)`\n",
    "    - **Example:** What is the probability of survival given that the passenger was female? P(Survived | Female)"
   ]
  },
  {
   "cell_type": "code",
   "execution_count": null,
   "id": "c6447d46-64a0-47b6-a815-4e0cb47e8ad5",
   "metadata": {},
   "outputs": [],
   "source": [
    "# P(Female)\n",
    "prob_female = len(titanic[titanic['sex'] == 'female']) / len(titanic)\n",
    "\n",
    "# P(Survived AND Female)\n",
    "prob_survived_and_female = len(titanic[(titanic['survived'] == 1) & (titanic['sex'] == 'female')]) / len(titanic)\n",
    "\n",
    "# P(Survived | Female)\n",
    "prob_survived_given_female = prob_survived_and_female / prob_female\n",
    "print(f\"Probability of survival given passenger was female: {prob_survived_given_female:.2%}\")\n",
    "\n",
    "# The easier way in Pandas!\n",
    "# Just filter the DataFrame first, then calculate the probability.\n",
    "prob_survived_given_female_easy = titanic[titanic['sex'] == 'female']['survived'].mean()\n",
    "print(f\"Easy way: {prob_survived_given_female_easy:.2%}\")"
   ]
  },
  {
   "cell_type": "markdown",
   "id": "ee50c14d-ae90-47bf-b648-7bbcb84203f4",
   "metadata": {},
   "source": [
    "- **Bayes' Theorem:** A way to update our beliefs based on new evidence. It relates P(A|B) to P(B|A). For now, understanding the concept is more important than the formula. It's the foundation for algorithms like Naive Bayes.\n",
    "    - **Concept:** \"The probability of a hypothesis given the evidence is proportional to the probability of the evidence given the hypothesis, times the prior probability of the hypothesis.\""
   ]
  },
  {
   "cell_type": "markdown",
   "id": "cf36c6a5-65c2-49d3-a996-4a5b453f3f66",
   "metadata": {},
   "source": [
    "### **4. Correlation vs. Causation**\n",
    "This is one of the most important distinctions in all of science.\n",
    "- **Correlation:** A statistical measure that indicates the extent to which two or more variables fluctuate together. A positive correlation indicates that the variables increase or decrease together. A negative correlation indicates that as one variable increases, the other decreases. We visualized this with the heatmap.\n",
    "    - **Pearson Correlation:** Measures the linear relationship between two continuous variables.\n",
    "    - **Spearman Correlation:** Measures the monotonic relationship (whether it's consistently increasing or decreasing, not necessarily in a straight line) between two variables. Works for ordinal data too.\n",
    "- **Causation:** Indicates that one event is the result of the occurrence of the other event (i.e., there is a causal relationship).\n",
    "- **The \"Amaze\" Factor:** Correlation does NOT imply causation! Just because two things happen together doesn't mean one causes the other. There could be a third, unobserved \"confounding\" variable causing both.\n",
    "- **Example:** Ice cream sales and drowning deaths are highly correlated. Does eating ice cream cause drowning? No. The confounding variable is hot weather, which causes more people to buy ice cream AND more people to go swimming."
   ]
  },
  {
   "cell_type": "markdown",
   "id": "c76aa774-6905-48db-a870-182401eee4c7",
   "metadata": {},
   "source": [
    "**📊 When to Use Spearman vs. Pearson**\n",
    "\n",
    "| **Feature**              | **Pearson Correlation**                                      | **Spearman Correlation**                                         |\n",
    "|--------------------------|--------------------------------------------------------------|------------------------------------------------------------------|\n",
    "| **Relationship**         | Linear relationships                                         | Monotonic relationships (linear or non-linear)                  |\n",
    "| **Data Type**            | Continuous (interval or ratio scale)                         | Ordinal, Interval, or Ratio scale                               |\n",
    "| **Assumptions**          | Data is normally distributed, linear relationship, no extreme outliers | No strict distributional assumptions, monotonic relationship |\n",
    "| **Sensitivity to Outliers** | Highly sensitive to outliers                               | Less sensitive to outliers (due to ranking)                    |\n"
   ]
  },
  {
   "cell_type": "code",
   "execution_count": 19,
   "id": "d07103e7-8ba3-4364-85cf-0db135c95ade",
   "metadata": {},
   "outputs": [
    {
     "name": "stdout",
     "output_type": "stream",
     "text": [
      "\n",
      "--- Pearson Correlation Matrix ---\n"
     ]
    },
    {
     "data": {
      "text/html": [
       "<div>\n",
       "<style scoped>\n",
       "    .dataframe tbody tr th:only-of-type {\n",
       "        vertical-align: middle;\n",
       "    }\n",
       "\n",
       "    .dataframe tbody tr th {\n",
       "        vertical-align: top;\n",
       "    }\n",
       "\n",
       "    .dataframe thead th {\n",
       "        text-align: right;\n",
       "    }\n",
       "</style>\n",
       "<table border=\"1\" class=\"dataframe\">\n",
       "  <thead>\n",
       "    <tr style=\"text-align: right;\">\n",
       "      <th></th>\n",
       "      <th>survived</th>\n",
       "      <th>pclass</th>\n",
       "      <th>age_cleaned</th>\n",
       "      <th>fare</th>\n",
       "    </tr>\n",
       "  </thead>\n",
       "  <tbody>\n",
       "    <tr>\n",
       "      <th>survived</th>\n",
       "      <td>1.000000</td>\n",
       "      <td>-0.339668</td>\n",
       "      <td>-0.037004</td>\n",
       "      <td>0.323736</td>\n",
       "    </tr>\n",
       "    <tr>\n",
       "      <th>pclass</th>\n",
       "      <td>-0.339668</td>\n",
       "      <td>1.000000</td>\n",
       "      <td>-0.317406</td>\n",
       "      <td>-0.688032</td>\n",
       "    </tr>\n",
       "    <tr>\n",
       "      <th>age_cleaned</th>\n",
       "      <td>-0.037004</td>\n",
       "      <td>-0.317406</td>\n",
       "      <td>1.000000</td>\n",
       "      <td>0.126006</td>\n",
       "    </tr>\n",
       "    <tr>\n",
       "      <th>fare</th>\n",
       "      <td>0.323736</td>\n",
       "      <td>-0.688032</td>\n",
       "      <td>0.126006</td>\n",
       "      <td>1.000000</td>\n",
       "    </tr>\n",
       "  </tbody>\n",
       "</table>\n",
       "</div>"
      ],
      "text/plain": [
       "             survived    pclass  age_cleaned      fare\n",
       "survived     1.000000 -0.339668    -0.037004  0.323736\n",
       "pclass      -0.339668  1.000000    -0.317406 -0.688032\n",
       "age_cleaned -0.037004 -0.317406     1.000000  0.126006\n",
       "fare         0.323736 -0.688032     0.126006  1.000000"
      ]
     },
     "execution_count": 19,
     "metadata": {},
     "output_type": "execute_result"
    }
   ],
   "source": [
    "# We already calculated the Pearson correlation matrix for our heatmap.\n",
    "# Let's specify the method for Spearman.\n",
    "correlation_matrix = titanic[['survived', 'pclass', 'age_cleaned', 'fare']].corr(method='spearman')\n",
    "print(\"\\n--- Pearson Correlation Matrix ---\")\n",
    "correlation_matrix"
   ]
  },
  {
   "cell_type": "code",
   "execution_count": 20,
   "id": "1b37ca93-5dbb-46f2-85ba-aa9416f99068",
   "metadata": {},
   "outputs": [
    {
     "name": "stdout",
     "output_type": "stream",
     "text": [
      "\n",
      "--- Pearson Correlation Matrix ---\n"
     ]
    },
    {
     "data": {
      "text/html": [
       "<div>\n",
       "<style scoped>\n",
       "    .dataframe tbody tr th:only-of-type {\n",
       "        vertical-align: middle;\n",
       "    }\n",
       "\n",
       "    .dataframe tbody tr th {\n",
       "        vertical-align: top;\n",
       "    }\n",
       "\n",
       "    .dataframe thead th {\n",
       "        text-align: right;\n",
       "    }\n",
       "</style>\n",
       "<table border=\"1\" class=\"dataframe\">\n",
       "  <thead>\n",
       "    <tr style=\"text-align: right;\">\n",
       "      <th></th>\n",
       "      <th>survived</th>\n",
       "      <th>pclass</th>\n",
       "      <th>age_cleaned</th>\n",
       "      <th>fare</th>\n",
       "    </tr>\n",
       "  </thead>\n",
       "  <tbody>\n",
       "    <tr>\n",
       "      <th>survived</th>\n",
       "      <td>1.000000</td>\n",
       "      <td>-0.338481</td>\n",
       "      <td>-0.064910</td>\n",
       "      <td>0.257307</td>\n",
       "    </tr>\n",
       "    <tr>\n",
       "      <th>pclass</th>\n",
       "      <td>-0.338481</td>\n",
       "      <td>1.000000</td>\n",
       "      <td>-0.339898</td>\n",
       "      <td>-0.549500</td>\n",
       "    </tr>\n",
       "    <tr>\n",
       "      <th>age_cleaned</th>\n",
       "      <td>-0.064910</td>\n",
       "      <td>-0.339898</td>\n",
       "      <td>1.000000</td>\n",
       "      <td>0.096688</td>\n",
       "    </tr>\n",
       "    <tr>\n",
       "      <th>fare</th>\n",
       "      <td>0.257307</td>\n",
       "      <td>-0.549500</td>\n",
       "      <td>0.096688</td>\n",
       "      <td>1.000000</td>\n",
       "    </tr>\n",
       "  </tbody>\n",
       "</table>\n",
       "</div>"
      ],
      "text/plain": [
       "             survived    pclass  age_cleaned      fare\n",
       "survived     1.000000 -0.338481    -0.064910  0.257307\n",
       "pclass      -0.338481  1.000000    -0.339898 -0.549500\n",
       "age_cleaned -0.064910 -0.339898     1.000000  0.096688\n",
       "fare         0.257307 -0.549500     0.096688  1.000000"
      ]
     },
     "execution_count": 20,
     "metadata": {},
     "output_type": "execute_result"
    }
   ],
   "source": [
    "# Let's specify the method for Spearman.\n",
    "correlation_matrix = titanic[['survived', 'pclass', 'age_cleaned', 'fare']].corr(method='pearson')\n",
    "print(\"\\n--- Pearson Correlation Matrix ---\")\n",
    "correlation_matrix"
   ]
  },
  {
   "cell_type": "markdown",
   "id": "0860f80a-5852-4ce8-8326-a1800be4d412",
   "metadata": {},
   "source": [
    "## **Exercises**"
   ]
  },
  {
   "cell_type": "markdown",
   "id": "8debf3a2-3263-42fa-bfa7-233fe200c498",
   "metadata": {},
   "source": [
    "**1. Descriptive Statistics for Fare:**\n",
    "- Using the titanic DataFrame, calculate and print the following for the fare column: mean, median, standard deviation, variance, skewness, and kurtosis.\n",
    "- Write a Markdown cell briefly interpreting these results. What do the high standard deviation and skewness tell you about the fare data?"
   ]
  },
  {
   "cell_type": "code",
   "execution_count": 40,
   "id": "1b5d4dfc-50f6-4adc-9cf0-c0b574d79729",
   "metadata": {},
   "outputs": [
    {
     "name": "stdout",
     "output_type": "stream",
     "text": [
      "Mean fare is: 32.20\n",
      "Median fare is: 14.4542\n",
      "Standard deviation fare is: 49.69\n",
      "Variance fare is: 2469.44\n",
      "skeewness fare is: 4.79\n",
      "Kurtosis fare is: 33.40\n"
     ]
    },
    {
     "data": {
      "image/png": "[encoded data removed]",
      "text/plain": [
       "<Figure size 800x400 with 1 Axes>"
      ]
     },
     "metadata": {},
     "output_type": "display_data"
    }
   ],
   "source": [
    "mean_fare= titanic[\"fare\"].mean()\n",
    "median_fare= titanic[\"fare\"].median()\n",
    "std_fare= titanic[\"fare\"].std()\n",
    "var_fare= titanic[\"fare\"].var()\n",
    "skew_fare= titanic[\"fare\"].skew()\n",
    "kurt_fare= titanic[\"fare\"].kurt()\n",
    "\n",
    "print(f\"Mean fare is: {mean_fare:.2f}\")\n",
    "print(f\"Median fare is: {median_fare}\")\n",
    "print(f\"Standard deviation fare is: {std_fare:.2f}\")\n",
    "print(f\"Variance fare is: {var_fare:.2f}\")\n",
    "print(f\"skeewness fare is: {skew_fare:.2f}\")\n",
    "print(f\"Kurtosis fare is: {kurt_fare:.2f}\")\n",
    "\n",
    "fig, ax=plt.subplots(figsize=(8,4))\n",
    "sns.histplot(data=titanic, x=\"fare\", kde= True, ax=ax)\n",
    "ax.set_xlabel(\"Fare\")\n",
    "ax.set_ylabel(\"Number of Passengers\")\n",
    "\n",
    "plt.tight_layout()\n",
    "plt.show()"
   ]
  },
  {
   "cell_type": "markdown",
   "id": "7a1b3fc1-1688-4e41-b862-0e7418985456",
   "metadata": {},
   "source": [
    "**Interpretation:**\n",
    "\n",
    "- The **mean is much higher than the median**, indicating that the fare distribution is **right-skewed**.\n",
    "- A **high standard deviation and variance** suggest that fares are **widely spread out** with significant variation.\n",
    "- The **high skewness (4.79)** confirms that the distribution is **positively skewed**, meaning there are many low fare values and a few extremely high fares pulling the mean upward.\n",
    "- The **extremely high kurtosis (33.40)** indicates **very heavy tails**, meaning there are **a lot of extreme outliers** in the fare values.\n"
   ]
  },
  {
   "cell_type": "markdown",
   "id": "fda3484c-e610-47af-aacc-80880be06c0b",
   "metadata": {},
   "source": [
    "**2. Conditional Probability Practice:**\n",
    "- Calculate the probability of a passenger being in pclass 1, P(Pclass=1).\n",
    "- Calculate the probability of a passenger surviving, P(Survived).\n",
    "- Now, calculate the conditional probability that a passenger survived given that they were in first class, P(Survived | Pclass=1).\n",
    "- Compare this to the overall survival probability. What does this suggest?"
   ]
  },
  {
   "cell_type": "code",
   "execution_count": 50,
   "id": "21ce7610-3579-4052-847b-e15b9816227e",
   "metadata": {},
   "outputs": [
    {
     "name": "stdout",
     "output_type": "stream",
     "text": [
      "Probability of a passenger being in pclass 1: 24.24%\n",
      "Probability of a passenger surviving: 38.38%\n",
      "Probability that a passenger survived given that they were in first class: 62.96%\n"
     ]
    }
   ],
   "source": [
    "pclass1_probability = titanic[\"pclass\"].value_counts(normalize=True)[1]\n",
    "survive_probability = titanic[\"survived\"].value_counts(normalize=True)[1]\n",
    "pclass1_survive_probability = titanic[titanic[\"pclass\"]==1][\"survived\"].mean()\n",
    "\n",
    "print(f\"Probability of a passenger being in pclass 1: {pclass1_probability:.2%}\")\n",
    "print(f\"Probability of a passenger surviving: {survive_probability:.2%}\")\n",
    "print(f\"Probability that a passenger survived given that they were in first class: {pclass1_survive_probability:.2%}\")"
   ]
  },
  {
   "cell_type": "markdown",
   "id": "1491d7b5-b34e-4cd8-831a-8ad670d1e196",
   "metadata": {},
   "source": [
    "**📊 Conditional Probability Insight**\n",
    "\n",
    "- The **overall probability of survival** is only around **38%**, but the **probability of survival given First Class** is much higher — about **63%**.\n",
    "- This suggests that **being in First Class significantly increased a passenger’s chances of survival**.\n",
    "- In other words, **class status was a major factor** influencing survival — possibly due to easier access to lifeboats or priority rescue."
   ]
  },
  {
   "cell_type": "markdown",
   "id": "3cb26b5c-d1ff-4de9-8bd3-6f08c6e9009b",
   "metadata": {},
   "source": [
    "**3. Correlation Analysis:**\n",
    "- Select the numerical columns ['age_cleaned', 'sibsp', 'parch', 'fare'].\n",
    "- Calculate the Pearson correlation matrix for these columns.\n",
    "- Visualize this matrix with a Seaborn heatmap.\n",
    "- In a Markdown cell, identify the two variables with the strongest positive correlation and explain what this relationship might mean in practical terms."
   ]
  },
  {
   "cell_type": "code",
   "execution_count": 51,
   "id": "82a5a630-2d29-4d8c-94d2-1a0f2181fb6d",
   "metadata": {},
   "outputs": [
    {
     "data": {
      "image/png": "[encoded data removed]",
      "text/plain": [
       "<Figure size 800x600 with 2 Axes>"
      ]
     },
     "metadata": {},
     "output_type": "display_data"
    }
   ],
   "source": [
    "numerical_cols = titanic[['age_cleaned', 'sibsp', 'parch', 'fare']]\n",
    "corr_matrix = numerical_cols.corr(method='pearson')\n",
    "\n",
    "fig, ax = plt.subplots(figsize=(8, 6))\n",
    "sns.heatmap(corr_matrix, annot=True, cmap='coolwarm', ax=ax)\n",
    "ax.set_title(\"Correlation Matrix of Selected Numerical Features\", fontweight='bold')\n",
    "\n",
    "plt.tight_layout()\n",
    "plt.show()"
   ]
  },
  {
   "cell_type": "markdown",
   "id": "f155a6ff-d8f4-49f1-829e-d52f6413529a",
   "metadata": {},
   "source": [
    "**🔍 Correlation Analysis Insights**\n",
    "- The strongest **positive correlation** is between **`sibsp`** (siblings/spouses aboard) and **`parch`** (parents/children aboard).\n",
    "- This suggests that passengers who traveled with a sibling or spouse were **also likely** to travel with a parent or child — i.e., they often traveled in **family groups**.\n",
    "- This makes practical sense because family members often booked travel together, especially on long transatlantic voyages like the Titanic."
   ]
  }
 ],
 "metadata": {
  "kernelspec": {
   "display_name": "Python 3 (ipykernel)",
   "language": "python",
   "name": "python3"
  },
  "language_info": {
   "codemirror_mode": {
    "name": "ipython",
    "version": 3
   },
   "file_extension": ".py",
   "mimetype": "text/x-python",
   "name": "python",
   "nbconvert_exporter": "python",
   "pygments_lexer": "ipython3",
   "version": "3.13.5"
  }
 },
 "nbformat": 4,
 "nbformat_minor": 5
}

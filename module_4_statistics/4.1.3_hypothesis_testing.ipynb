{
 "cells": [
  {
   "cell_type": "code",
   "execution_count": 1,
   "id": "c696f1af-15da-4694-884f-cf27029f3aed",
   "metadata": {},
   "outputs": [],
   "source": [
    "import pandas as pd\n",
    "import numpy as np\n",
    "import matplotlib.pyplot as plt\n",
    "import seaborn as sns\n",
    "from scipy import stats\n",
    "\n",
    "sns.set_theme(style=\"whitegrid\")\n",
    "\n",
    "# Load the Titanic dataset for our examples\n",
    "titanic = sns.load_dataset(\"titanic\")\n",
    "# Clean the age column for use in t-tests\n",
    "titanic['age_cleaned'] = titanic['age'].fillna(titanic['age'].median())"
   ]
  },
  {
   "cell_type": "markdown",
   "id": "e97f7960-5bee-41d2-beb9-c81a2e47b06a",
   "metadata": {},
   "source": [
    "### **1. Confidence Intervals**\n",
    "- **Concept:** A confidence interval gives an estimated range of values which is likely to contain an unknown population parameter (like the true population mean). It's a way of quantifying the uncertainty of our sample estimate.\n",
    "- **Interpretation:** A 95% confidence interval means that if we were to take 100 different samples and compute a 95% confidence interval for each sample, then approximately 95 of the 100 confidence intervals will contain the true population mean. It does NOT mean there is a 95% probability that the true population mean falls within our one specific interval. This is a common and critical distinction."
   ]
  },
  {
   "cell_type": "markdown",
   "id": "37cc0342-ae34-4040-8ce4-a35084203037",
   "metadata": {},
   "source": [
    "**🧠 Simple Analogy:**\n",
    "\n",
    "Imagine you're trying to guess the **average height of students** in a school.\n",
    "\n",
    "- You can’t measure all 1,000 students.\n",
    "- So you pick a **sample of 50 students**, and you calculate the **average height** of those 50.\n",
    "\n",
    "Let’s say the average from your sample is **165 cm**.\n",
    "\n",
    "But you know it’s just a sample — the real average could be a bit higher or lower.\n",
    "\n",
    "So you calculate a **Confidence Interval**, and you get:\n",
    "\n",
    "> **“We are 95% confident the true average height is between 163 cm and 167 cm.”**\n",
    "\n",
    "This range — **[163 cm, 167 cm]** — is your **confidence interval**.\n",
    "\n",
    "---\n",
    "\n",
    "**📌 Why It’s Called “Confidence” Interval**\n",
    "\n",
    "You're saying:  \n",
    "> “If we repeated this process many times, 95% of those intervals would contain the true average.”\n",
    "\n",
    "It’s not 100% sure — but it’s **very likely** (like 95% or 99%).\n",
    "\n",
    "---\n",
    "\n",
    "**🧮 What Affects the Confidence Interval?**\n",
    "\n",
    "1. **Sample size**  \n",
    "   - Bigger samples = narrower interval (more precise)\n",
    "\n",
    "2. **Confidence level (e.g., 95%, 99%)**  \n",
    "   - Higher confidence = wider interval (more cautious)\n",
    "\n",
    "3. **Variation in data**  \n",
    "   - More spread out data = wider interval\n",
    "\n",
    "---\n",
    "\n",
    "**📦 In Simple Words:**\n",
    "\n",
    "> A confidence interval is a smart way of saying:  \n",
    "> “We don’t know the exact answer, but we’re pretty sure it’s somewhere in **this range**.”\n",
    "\n",
    "---\n",
    "\n",
    "**✅ Real-Life Uses**\n",
    "\n",
    "- Estimating average income of a city  \n",
    "- Predicting election results (e.g., “Candidate A will get 52% ± 3%”)  \n",
    "- Drug effectiveness in clinical trials  \n"
   ]
  },
  {
   "cell_type": "code",
   "execution_count": 3,
   "id": "464bc684-cc10-46ba-89f8-3072d9669ee0",
   "metadata": {},
   "outputs": [
    {
     "name": "stdout",
     "output_type": "stream",
     "text": [
      "Sample Mean Age: 29.36\n",
      "95% Confidence Interval for the Mean Age: (28.51, 30.22)\n",
      "We are 95% confident that the true average age of all Titanic passengers is between 28.51 and 30.22 years.\n"
     ]
    }
   ],
   "source": [
    "# Let's calculate the 95% confidence interval for the mean age of all Titanic passengers.\n",
    "# We will use our sample (the titanic dataset) to estimate this.\n",
    "\n",
    "age_data = titanic['age_cleaned'].dropna()\n",
    "\n",
    "# We need: sample mean, standard error of the mean, and a confidence level\n",
    "sample_mean = age_data.mean()\n",
    "# Standard Error of the Mean (SEM) = sample_std / sqrt(sample_size)\n",
    "sem = stats.sem(age_data)\n",
    "sample_size = len(age_data)\n",
    "\n",
    "# For a 95% confidence interval, we use a Z-score or t-score of ~1.96 (for large samples)\n",
    "confidence_level = 0.95\n",
    "degrees_freedom = sample_size - 1\n",
    "# Degrees of freedom = number of independent values that can vary in your calculation.\n",
    "#We subtract 1 when using the sample mean because one value is no longer free — it's tied to the mean.\n",
    "\n",
    "confidence_interval = stats.t.interval(confidence_level, degrees_freedom, loc=sample_mean, scale=sem)\n",
    "\n",
    "print(f\"Sample Mean Age: {sample_mean:.2f}\")\n",
    "print(f\"95% Confidence Interval for the Mean Age: ({confidence_interval[0]:.2f}, {confidence_interval[1]:.2f})\")\n",
    "print(f\"We are 95% confident that the true average age of all Titanic passengers is between {confidence_interval[0]:.2f} and {confidence_interval[1]:.2f} years.\")"
   ]
  },
  {
   "cell_type": "markdown",
   "id": "8adbf6d2-a55e-4285-a8c5-0edf5f1f5fbe",
   "metadata": {},
   "source": [
    "### **2. The Hypothesis Testing Framework**\n",
    "\n",
    "This is a **formal procedure** for testing an idea or claim about a population.\n",
    "\n",
    "---\n",
    "\n",
    "**🪜 Step 1: State the Hypotheses**\n",
    "\n",
    "- **Null Hypothesis (H₀):**  \n",
    "  The default assumption. It states that there is **no effect** or **no difference**.  \n",
    "  It is what we assume to be true **before** we collect any data.  \n",
    "  _Example:_  \n",
    "  “There is no difference in survival rate between men and women.”\n",
    "\n",
    "- **Alternative Hypothesis (Hₐ or H₁):**  \n",
    "  This is the claim we are trying to find evidence for. It **contradicts** the null hypothesis.  \n",
    "  _Example:_  \n",
    "  “There is a difference in survival rate between men and women.”\n",
    "\n",
    "---\n",
    "\n",
    "**🧪 Step 2: Set the Significance Level (alpha, α)**\n",
    "\n",
    "- This is the threshold for **statistical significance**.\n",
    "- It is the probability of making a **Type I Error** — rejecting H₀ when it's actually true.\n",
    "- Common values:  \n",
    "  **α = 0.05** (5%), **α = 0.01** (1%)\n",
    "\n",
    "---\n",
    "\n",
    "**📊 Step 3: Calculate the Test Statistic and the p-value**\n",
    "\n",
    "- **Test Statistic:**  \n",
    "  A number calculated from the sample data that tells us **how far** the data is from what we’d expect under H₀.\n",
    "\n",
    "- **p-value:**  \n",
    "  The **probability** of observing a result as extreme as (or more extreme than) what we got — **assuming H₀ is true**.\n",
    "\n",
    "---\n",
    "\n",
    "**✅ Step 4: Make a Decision**\n",
    "\n",
    "- **If p-value ≤ α:**  \n",
    "  🔥 Reject the null hypothesis (H₀)  \n",
    "  ➤ There is **statistically significant evidence** to support H₁.  \n",
    "  ➤ The result is **unlikely** to happen by chance alone.\n",
    "\n",
    "- **If p-value > α:**  \n",
    "  🧊 Fail to reject the null hypothesis  \n",
    "  ➤ There is **not enough evidence** to support H₁.  \n",
    "  ➤ This doesn't mean H₀ is true — we just **couldn't disprove it**.\n",
    "\n",
    "---\n",
    "\n",
    "**⚠️ Type I and Type II Errors**\n",
    "\n",
    "- **Type I Error (α):**  \n",
    "  Rejecting H₀ when it is actually true (a **false positive**).  \n",
    "  ➤ Controlled by the **significance level α**.\n",
    "\n",
    "- **Type II Error (β):**  \n",
    "  Failing to reject H₀ when it is actually false (a **false negative**).  \n",
    "  ➤ Related to **sample size**, effect size, and power.\n",
    "\n",
    "---\n"
   ]
  },
  {
   "cell_type": "markdown",
   "id": "00e448cb-a869-45d6-b529-ccb29f7993bc",
   "metadata": {},
   "source": [
    "### **3. Common Statistical Tests**\n",
    "\n",
    "---\n",
    "\n",
    "**🧪 A. Independent Samples t-test**\n",
    "\n",
    "- **Purpose:**  \n",
    "  Compares the **means of two independent groups** to determine if there is a **statistically significant difference** between them.\n",
    "\n",
    "- **Assumptions:**  \n",
    "  - Data is **normally distributed** (the test is fairly robust if the sample size is large).  \n",
    "  - **Variances** of the two groups are **roughly equal**.\n",
    "\n",
    "- **Example:**  \n",
    "  Is there a significant difference in the **average age** of Titanic passengers who **survived** versus those who **did not**?\n",
    "\n",
    "  - **Null Hypothesis (H₀):**  \n",
    "    The mean age of survivors is **equal** to the mean age of non-survivors.\n",
    "\n",
    "  - **Alternative Hypothesis (Hₐ):**  \n",
    "    The mean age of survivors is **not equal** to the mean age of non-survivors.\n"
   ]
  },
  {
   "cell_type": "code",
   "execution_count": 4,
   "id": "9fe395c0-ac43-4873-9753-db618f8c54d0",
   "metadata": {},
   "outputs": [
    {
     "name": "stdout",
     "output_type": "stream",
     "text": [
      "\n",
      "--- Independent t-test: Age vs. Survival ---\n",
      "t-statistic: -1.9395\n",
      "p-value: 0.0528\n",
      "Result: Fail to reject the null hypothesis. There is no significant difference in age.\n"
     ]
    }
   ],
   "source": [
    "# Create two independent groups\n",
    "survived_age = titanic[titanic['survived'] == 1]['age_cleaned']\n",
    "not_survived_age = titanic[titanic['survived'] == 0]['age_cleaned']\n",
    "\n",
    "# Perform the t-test\n",
    "t_statistic, p_value = stats.ttest_ind(survived_age, not_survived_age)\n",
    "\n",
    "print(\"\\n--- Independent t-test: Age vs. Survival ---\")\n",
    "print(f\"t-statistic: {t_statistic:.4f}\")\n",
    "print(f\"p-value: {p_value:.4f}\")\n",
    "\n",
    "# Make a decision\n",
    "alpha = 0.05\n",
    "if p_value < alpha:\n",
    "    print(\"Result: Reject the null hypothesis. There is a significant difference in age between survivors and non-survivors.\")\n",
    "else:\n",
    "    print(\"Result: Fail to reject the null hypothesis. There is no significant difference in age.\")"
   ]
  },
  {
   "cell_type": "markdown",
   "id": "254dc0cb-f3c4-499b-b156-9232ae9e35fb",
   "metadata": {},
   "source": [
    "**🧪 B. Chi-Squared (χ²) Test of Independence**\n",
    "\n",
    "- **Purpose:**  \n",
    "  Tests whether two **categorical variables** are related or **independent** of each other.\n",
    "\n",
    "- **Example:**  \n",
    "  Is there a statistically significant association between **pclass** (passenger class) and **survived**?\n",
    "\n",
    "  - **Null Hypothesis (H₀):**  \n",
    "    `pclass` and `survived` are **independent** (no association).\n",
    "\n",
    "  - **Alternative Hypothesis (Hₐ):**  \n",
    "    `pclass` and `survived` are **not independent** (there is an association).\n",
    "\n",
    "- **How it works:**  \n",
    "  The test uses a **contingency table** (also called a crosstab) of **observed frequencies** to compare:\n",
    "  - What we **observed** in the data  \n",
    "  - What we **would expect** if the variables were truly independent\n",
    "\n",
    "- **Result interpretation:**  \n",
    "  If the **p-value** is less than the chosen alpha (e.g. 0.05), we **reject H₀**, meaning there **is a relationship** between the two variables.\n"
   ]
  },
  {
   "cell_type": "code",
   "execution_count": 7,
   "id": "913cf131-c8d2-4d10-9dd1-db30d39a9bfd",
   "metadata": {},
   "outputs": [
    {
     "name": "stdout",
     "output_type": "stream",
     "text": [
      "\n",
      "--- Contingency Table: Pclass vs. Survived ---\n",
      "survived    0    1\n",
      "pclass            \n",
      "1          80  136\n",
      "2          97   87\n",
      "3         372  119\n",
      "\n",
      "Chi-squared statistic: 102.8890\n",
      "p-value: 0.0000\n",
      "Result: Reject the null hypothesis. There is a significant association between passenger class and survival.\n"
     ]
    }
   ],
   "source": [
    "# Create a contingency table\n",
    "contingency_table = pd.crosstab(titanic['pclass'], titanic['survived'])\n",
    "print(\"\\n--- Contingency Table: Pclass vs. Survived ---\")\n",
    "print(contingency_table)\n",
    "\n",
    "# Perform the Chi-Squared test\n",
    "chi2_stat, p_value, dof, expected_freqs = stats.chi2_contingency(contingency_table)\n",
    "\n",
    "print(f\"\\nChi-squared statistic: {chi2_stat:.4f}\")\n",
    "print(f\"p-value: {p_value:.4f}\") # Will be very small\n",
    "\n",
    "if p_value < alpha:\n",
    "    print(\"Result: Reject the null hypothesis. There is a significant association between passenger class and survival.\")\n",
    "else:\n",
    "    print(\"Result: Fail to reject the null hypothesis.\")"
   ]
  },
  {
   "cell_type": "markdown",
   "id": "0f4d9ee5-b73d-4de6-8460-a5b7d81adc7e",
   "metadata": {},
   "source": [
    "**🧪 C. ANOVA (Analysis of Variance) - Basics**\n",
    "\n",
    "- **Purpose:**  \n",
    "  Compares the **means of three or more independent groups** to determine if at least one group mean is significantly different.  \n",
    "  ➤ It’s an **extension of the t-test**, which only compares two groups.\n",
    "\n",
    "- **Example:**  \n",
    "  Is there a significant difference in the **average fare** paid by passengers in **Pclass 1, 2, and 3**?\n",
    "\n",
    "- **Hypotheses:**\n",
    "  - **Null Hypothesis (H₀):**  \n",
    "    The **mean fares** for all three passenger classes are **equal**.\n",
    "  \n",
    "  - **Alternative Hypothesis (Hₐ):**  \n",
    "    At least **one class** has a **different mean fare** from the others.\n",
    "\n",
    "- **Note:**  \n",
    "  ANOVA tells us **if there's a difference**, but **not which groups are different** — for that, we use **post-hoc tests** like Tukey's HSD after ANOVA.\n"
   ]
  },
  {
   "cell_type": "code",
   "execution_count": 8,
   "id": "93c693bf-278b-449e-903e-59ee9c5b8886",
   "metadata": {},
   "outputs": [
    {
     "name": "stdout",
     "output_type": "stream",
     "text": [
      "\n",
      "--- ANOVA: Fare vs. Pclass ---\n",
      "F-statistic: 242.3442\n",
      "p-value: 0.0000\n",
      "Result: Reject the null hypothesis. There is a significant difference in the mean fare paid across passenger classes.\n"
     ]
    }
   ],
   "source": [
    "# Create the groups\n",
    "class1_fare = titanic[titanic['pclass'] == 1]['fare']\n",
    "class2_fare = titanic[titanic['pclass'] == 2]['fare']\n",
    "class3_fare = titanic[titanic['pclass'] == 3]['fare']\n",
    "\n",
    "# Perform one-way ANOVA\n",
    "f_statistic, p_value = stats.f_oneway(class1_fare, class2_fare, class3_fare)\n",
    "\n",
    "print(\"\\n--- ANOVA: Fare vs. Pclass ---\")\n",
    "print(f\"F-statistic: {f_statistic:.4f}\")\n",
    "print(f\"p-value: {p_value:.4f}\") # Will be very small\n",
    "\n",
    "if p_value < alpha:\n",
    "    print(\"Result: Reject the null hypothesis. There is a significant difference in the mean fare paid across passenger classes.\")\n",
    "else:\n",
    "    print(\"Result: Fail to reject the null hypothesis.\")"
   ]
  },
  {
   "cell_type": "markdown",
   "id": "c6175440-a901-47e6-8ae5-652b4f96d5bf",
   "metadata": {},
   "source": [
    "**📊 Comparison of Common Statistical Tests**\n",
    "\n",
    "| Test Name                            | When to Use                                                             | Type of Data                    | Python Code Example                                                                 |\n",
    "|-------------------------------------|--------------------------------------------------------------------------|----------------------------------|--------------------------------------------------------------------------------------|\n",
    "| **Independent Samples t-test**      | Compare means of **2 independent groups**                                | Numerical (continuous), 2 groups | `stats.ttest_ind(group1, group2)`                                                  |\n",
    "| **Chi-Squared Test of Independence**| Test **association between 2 categorical variables**                     | Categorical × Categorical        | `stats.chi2_contingency(pd.crosstab(var1, var2))`                                  |\n",
    "| **One-Way ANOVA**                   | Compare means of **3 or more independent groups**                         | Numerical × 1 Categorical        | `stats.f_oneway(group1, group2, group3)`                                            |\n"
   ]
  },
  {
   "cell_type": "markdown",
   "id": "0523f589-d5c8-45a1-b720-cc4df95cbca5",
   "metadata": {},
   "source": [
    "## **📊 Mini-Project: A/B Test Analysis**"
   ]
  },
  {
   "cell_type": "markdown",
   "id": "a82d8ddb-3cd8-4ba7-b1d5-21954fef9f59",
   "metadata": {},
   "source": [
    "**🎯 Goal:**\n",
    "You are an analyst for an e-commerce website.  \n",
    "The design team has created a new version of the product page (**'new_page'**) and wants to know if it leads to a **higher conversion rate** than the old page (**'old_page'**).\n",
    "\n",
    "---\n",
    "\n",
    "### 🗂️ Dataset:\n",
    "We will simulate the A/B test data using Python.\n",
    "\n",
    "```python\n",
    "# Code to generate the A/B test data for your mini-project\n",
    "import numpy as np\n",
    "import pandas as pd\n",
    "\n",
    "np.random.seed(42)  # For reproducibility\n",
    "\n",
    "# Group A (old page): 1000 visitors, 10% historical conversion rate\n",
    "group_a = pd.DataFrame({\n",
    "    'group': 'A (old_page)',\n",
    "    'converted': np.random.binomial(1, p=0.10, size=1000)\n",
    "})\n",
    "\n",
    "# Group B (new page): 1000 visitors, 13% conversion rate\n",
    "group_b = pd.DataFrame({\n",
    "    'group': 'B (new_page)',\n",
    "    'converted': np.random.binomial(1, p=0.13, size=1000)\n",
    "})\n",
    "\n",
    "# Combine and shuffle the dataset\n",
    "ab_test_data = pd.concat([group_a, group_b], ignore_index=True)\n",
    "ab_test_data = ab_test_data.sample(frac=1).reset_index(drop=True)\n",
    "\n",
    "print(\"--- A/B Test Data Sample ---\")\n",
    "print(ab_test_data.head())\n",
    "\n",
    "print(\"\\n--- Conversion Counts ---\")\n",
    "print(ab_test_data.groupby('group')['converted'].sum())"
   ]
  },
  {
   "cell_type": "markdown",
   "id": "4ca98f43-7365-47b1-ae5a-66a81c7f73be",
   "metadata": {},
   "source": [
    "**✅ Your Task --**\n",
    "\n",
    "---\n",
    "\n",
    "**📌 Problem Definition**  \n",
    "In a Markdown cell, clearly state the **goal of the analysis**.\n",
    "\n",
    "---\n",
    "\n",
    "**📌 Formulate Hypotheses** \n",
    "- State the **Null Hypothesis (H₀)** and the **Alternative Hypothesis (Hₐ)** for this A/B test.  \n",
    "- What are you trying to prove?\n",
    "\n",
    "---\n",
    "\n",
    "**📌 Choose a Statistical Test**  \n",
    "- Which test is appropriate here?  \n",
    "- You are comparing the **proportions (or means of 1s and 0s)** of two independent groups.  \n",
    "- *(Hint: It's one we just covered).*  \n",
    "- State the **test** and **why** you chose it.\n",
    "\n",
    "---\n",
    "\n",
    "**📌 Perform the Test**  \n",
    "- Separate your data into two groups:  \n",
    "  ➤ One for the old page conversions  \n",
    "  ➤ One for the new page conversions  \n",
    "\n",
    "- Use `scipy.stats` to perform the chosen statistical test on these two groups.  \n",
    "\n",
    "- Report the **test statistic** and the **p-value**.\n",
    "\n",
    "---\n",
    "\n",
    "**📌 Conclusion**  \n",
    "- Based on your p-value and a significance level of **α = 0.05**, what is your decision?  \n",
    "- Do you **reject** or **fail to reject** the null hypothesis?\n",
    "\n",
    "- Write a clear, business-friendly conclusion. For example:  \n",
    "  > \"The new page resulted in a statistically significant increase in conversion rate...\"  \n",
    "  > or  \n",
    "  > \"There was no statistically significant difference in conversion rates between the old and new pages.\"\n",
    "\n",
    "---\n",
    "\n",
    "**📊 Visualize the Results**  \n",
    "- Create a **Seaborn barplot or pointplot** that shows the conversion rates (mean of the `converted` column) for **Group A** and **Group B**.  \n",
    "- This will provide a **visual confirmation** of your findings.\n"
   ]
  },
  {
   "cell_type": "code",
   "execution_count": 10,
   "id": "0767c341-dfe7-423c-8a2b-76c4e66fce09",
   "metadata": {},
   "outputs": [
    {
     "name": "stdout",
     "output_type": "stream",
     "text": [
      "--- A/B Test Data Sample ---\n"
     ]
    },
    {
     "data": {
      "text/html": [
       "<div>\n",
       "<style scoped>\n",
       "    .dataframe tbody tr th:only-of-type {\n",
       "        vertical-align: middle;\n",
       "    }\n",
       "\n",
       "    .dataframe tbody tr th {\n",
       "        vertical-align: top;\n",
       "    }\n",
       "\n",
       "    .dataframe thead th {\n",
       "        text-align: right;\n",
       "    }\n",
       "</style>\n",
       "<table border=\"1\" class=\"dataframe\">\n",
       "  <thead>\n",
       "    <tr style=\"text-align: right;\">\n",
       "      <th></th>\n",
       "      <th>group</th>\n",
       "      <th>converted</th>\n",
       "    </tr>\n",
       "  </thead>\n",
       "  <tbody>\n",
       "    <tr>\n",
       "      <th>0</th>\n",
       "      <td>A (old_page)</td>\n",
       "      <td>0</td>\n",
       "    </tr>\n",
       "    <tr>\n",
       "      <th>1</th>\n",
       "      <td>A (old_page)</td>\n",
       "      <td>0</td>\n",
       "    </tr>\n",
       "    <tr>\n",
       "      <th>2</th>\n",
       "      <td>A (old_page)</td>\n",
       "      <td>1</td>\n",
       "    </tr>\n",
       "    <tr>\n",
       "      <th>3</th>\n",
       "      <td>A (old_page)</td>\n",
       "      <td>0</td>\n",
       "    </tr>\n",
       "    <tr>\n",
       "      <th>4</th>\n",
       "      <td>B (new_page)</td>\n",
       "      <td>0</td>\n",
       "    </tr>\n",
       "  </tbody>\n",
       "</table>\n",
       "</div>"
      ],
      "text/plain": [
       "          group  converted\n",
       "0  A (old_page)          0\n",
       "1  A (old_page)          0\n",
       "2  A (old_page)          1\n",
       "3  A (old_page)          0\n",
       "4  B (new_page)          0"
      ]
     },
     "execution_count": 10,
     "metadata": {},
     "output_type": "execute_result"
    }
   ],
   "source": [
    "np.random.seed(42)  # For reproducibility\n",
    "\n",
    "# Group A (old page): 1000 visitors, 10% historical conversion rate\n",
    "group_a = pd.DataFrame({\n",
    "    'group': 'A (old_page)',\n",
    "    'converted': np.random.binomial(1, p=0.10, size=1000)\n",
    "})\n",
    "\n",
    "# Group B (new page): 1000 visitors, 13% conversion rate\n",
    "group_b = pd.DataFrame({\n",
    "    'group': 'B (new_page)',\n",
    "    'converted': np.random.binomial(1, p=0.13, size=1000)\n",
    "})\n",
    "\n",
    "# Combine and shuffle the dataset\n",
    "ab_test_data = pd.concat([group_a, group_b], ignore_index=True)\n",
    "ab_test_data = ab_test_data.sample(frac=1).reset_index(drop=True)\n",
    "\n",
    "print(\"--- A/B Test Data Sample ---\")\n",
    "ab_test_data.head()"
   ]
  },
  {
   "cell_type": "code",
   "execution_count": 12,
   "id": "63d27e5f-3377-4021-8a46-118ae1e53315",
   "metadata": {},
   "outputs": [
    {
     "name": "stdout",
     "output_type": "stream",
     "text": [
      "\n",
      "--- Conversion Counts ---\n",
      "group\n",
      "A (old_page)    100\n",
      "B (new_page)    131\n",
      "Name: converted, dtype: int32\n"
     ]
    }
   ],
   "source": [
    "print(\"\\n--- Conversion Counts ---\")\n",
    "print(ab_test_data.groupby('group')['converted'].sum())"
   ]
  },
  {
   "cell_type": "markdown",
   "id": "3602440f-cc88-4736-9190-430827831bf0",
   "metadata": {},
   "source": [
    "**Answers**\n",
    "**📌 Problem Definition** \n",
    "You are an analyst for an e-commerce website. The design team has created a new version of the product page ('new_page') and wants to know if it leads to a **higher conversion rate** than the current version ('old_page').\n",
    "\n",
    "The goal of this analysis is to test whether the new page performs significantly better in converting visitors than the old page.\n",
    "\n",
    "---\n",
    "\n",
    "**📌 Formulate Hypotheses**  \n",
    "\n",
    "- **Null Hypothesis (H₀):** There is **no difference** in conversion rates between the old and new product pages.  \n",
    "\n",
    "- **Alternative Hypothesis (Hₐ):** The new page has a **higher** conversion rate than the old page.  \n",
    "---\n",
    "\n",
    "**📌 Choose a Statistical Test**  \n",
    "\n",
    "We are comparing the **means of two independent groups** where the outcome is binary (converted: 0 or 1).  \n",
    "\n",
    "📊 **Appropriate Test:** Independent Samples t-test (also known as two-sample t-test)\n",
    "\n",
    "- **Why this test?**  \n",
    "  The t-test is suitable when comparing the means of two groups (in this case, conversion rates: the mean of 0s and 1s) and assuming approximate normality due to the **Central Limit Theorem** with sample size ≥ 30.\n",
    "\n",
    "---"
   ]
  },
  {
   "cell_type": "markdown",
   "id": "93ce9add-dde5-4197-86ed-78847dc42372",
   "metadata": {},
   "source": [
    "**📌 Perform the Test**  \n",
    "\n",
    "We split the data into two groups:  \n",
    "➤ `Group A (old_page)` – 1000 users with a 10% historical conversion rate  \n",
    "➤ `Group B (new_page)` – 1000 users with an assumed 13% conversion rate  \n",
    "\n",
    "Using `scipy.stats.ttest_ind()`, we performed a two-sample t-test."
   ]
  },
  {
   "cell_type": "code",
   "execution_count": 29,
   "id": "a0ede87f-2898-4b8d-8b0e-99967a661d9a",
   "metadata": {},
   "outputs": [
    {
     "name": "stdout",
     "output_type": "stream",
     "text": [
      "\n",
      "--- A/B Test Result ---\n",
      "t-statistic: 2.17\n",
      "p-value: 0.03\n",
      "Result: Reject the null hypothesis.\n",
      "Conclusion: The new page resulted in a statistically significant increase in conversion rate.\n"
     ]
    }
   ],
   "source": [
    "group_a_data= ab_test_data[ab_test_data['group']=='A (old_page)']['converted']\n",
    "group_b_data= ab_test_data[ab_test_data['group']=='B (new_page)']['converted']\n",
    "\n",
    "t_stat, p_val= stats.ttest_ind(group_b_data, group_a_data)\n",
    "\n",
    "print(\"\\n--- A/B Test Result ---\")\n",
    "print(f\"t-statistic: {t_stat:.2f}\")\n",
    "print(f\"p-value: {p_val:.2f}\")\n",
    "\n",
    "alpha = 0.05\n",
    "if p_val < alpha:\n",
    "    print(\"Result: Reject the null hypothesis.\\nConclusion: The new page resulted in a statistically significant increase in conversion rate.\")\n",
    "else:\n",
    "    print(\"Result: Fail to reject the null hypothesis.\\nConclusion: There was no statistically significant difference in conversion rates between the old and new pages.\")\n",
    "\n",
    "\n",
    "conversion_rates = ab_test_data.groupby('group')['converted'].mean().reset_index()  "
   ]
  },
  {
   "cell_type": "markdown",
   "id": "39bc8b4d-fae0-4e28-859d-fbce10fa6f71",
   "metadata": {},
   "source": [
    "**📌 A/B Test Result**\n",
    "\n",
    "- **t-statistic:** 2.17  \n",
    "- **p-value:** 0.03  \n",
    "\n",
    "✅ **Result:** Reject the null hypothesis.\n",
    "\n",
    "📢 **Conclusion:**  \n",
    "The new page resulted in a **statistically significant increase in conversion rate** compared to the old page.  \n",
    "Since the p-value is less than the significance level alpha = 0.05, we conclude that the new design performs better with sufficient confidence.\n"
   ]
  },
  {
   "cell_type": "code",
   "execution_count": 30,
   "id": "d9564fd1-eec1-4158-8e9d-7040eaee4307",
   "metadata": {},
   "outputs": [
    {
     "data": {
      "image/png": "[encoded data removed]",
      "text/plain": [
       "<Figure size 640x480 with 1 Axes>"
      ]
     },
     "metadata": {},
     "output_type": "display_data"
    }
   ],
   "source": [
    "# Plot\n",
    "fig, ax= plt.subplots()\n",
    "sns.barplot(data=conversion_rates,x='group', y='converted', width=0.5)\n",
    "ax.set_title(\"Conversion Rate by Group\", fontweight='bold')\n",
    "ax.set_ylabel(\"Conversion Rate\")\n",
    "ax.set_xlabel(\"Group\")\n",
    "plt.show()  "
   ]
  },
  {
   "cell_type": "markdown",
   "id": "8eeabdca-1f65-4fd6-aafb-52a2f469405e",
   "metadata": {},
   "source": [
    "✅ **Conclusion from Plot:**  \n",
    "The visual difference aligns with our hypothesis test — providing strong evidence that the new design **improves user conversion**."
   ]
  }
 ],
 "metadata": {
  "kernelspec": {
   "display_name": "Python 3 (ipykernel)",
   "language": "python",
   "name": "python3"
  },
  "language_info": {
   "codemirror_mode": {
    "name": "ipython",
    "version": 3
   },
   "file_extension": ".py",
   "mimetype": "text/x-python",
   "name": "python",
   "nbconvert_exporter": "python",
   "pygments_lexer": "ipython3",
   "version": "3.13.5"
  }
 },
 "nbformat": 4,
 "nbformat_minor": 5
}
